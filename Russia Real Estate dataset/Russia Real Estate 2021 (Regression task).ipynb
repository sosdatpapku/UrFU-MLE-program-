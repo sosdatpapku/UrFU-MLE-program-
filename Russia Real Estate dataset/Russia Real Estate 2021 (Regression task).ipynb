{
  "nbformat": 4,
  "nbformat_minor": 0,
  "metadata": {
    "colab": {
      "provenance": []
    },
    "kernelspec": {
      "name": "python3",
      "display_name": "Python 3"
    },
    "language_info": {
      "name": "python"
    }
  },
  "cells": [
    {
      "cell_type": "code",
      "execution_count": null,
      "metadata": {
        "id": "o43VsoEsPkn9"
      },
      "outputs": [],
      "source": [
        "import pandas as pd\n",
        "import numpy as np\n",
        "from scipy import stats as st\n",
        "import matplotlib.pyplot as plt\n",
        "import seaborn as sns\n",
        "pd.set_option(\"display.max_rows\", 20)\n",
        "pd.set_option(\"display.max_columns\", 20)\n",
        "pd.set_option(\"display.precision\", 4)\n",
        "pd.set_option(\"plotting.backend\", \"matplotlib\")"
      ]
    },
    {
      "cell_type": "code",
      "source": [
        "sns.set(rc={'figure.figsize':(11.7,8.27)});"
      ],
      "metadata": {
        "id": "PckiEQUEORx9"
      },
      "execution_count": null,
      "outputs": []
    },
    {
      "cell_type": "markdown",
      "source": [
        "# Russia Real Estate 2021 Regression"
      ],
      "metadata": {
        "id": "eucLe9UyzXrd"
      }
    },
    {
      "cell_type": "markdown",
      "source": [
        "## 1.EDA"
      ],
      "metadata": {
        "id": "cuqa1wfCNcCK"
      }
    },
    {
      "cell_type": "markdown",
      "source": [
        "В датасете собраны [данные о жилой недвижимости в регионах России в 2021 г.](https://www.kaggle.com/datasets/mrdaniilak/russia-real-estate-2021)"
      ],
      "metadata": {
        "id": "-2U8QSOQzfuu"
      }
    },
    {
      "cell_type": "markdown",
      "source": [
        "Структура данных  \n",
        "date - дата внесения записи о характеристиках помещения  \n",
        "price - цена  \n",
        "level - этаж помещения  \n",
        "levels - число этажей в здании  \n",
        "rooms - число комнат в помещении (метка \"-1\" присвоена квартирам-студиям)  \n",
        "area - площадь квартиры  \n",
        "kitchen_area - площадь кухни  \n",
        "geo_lat - координата широты расположения объекта  \n",
        "geo_lon - координата долготы расположения объекта  \n",
        "building_type - тип фасада здания: 0 - Don't know. 1 - Other. 2 - Panel. 3 - Monolithic. 4 - Brick. 5 - Blocky. 6 - Wooden  \n",
        "object_type - первичка ('0') или вторичка ('2')  \n",
        "postal_code - почтовый индекс  \n",
        "street_id - иденитфикатор улицы\n",
        "id_region - код региона  \n",
        "house_id - идентификатор здания"
      ],
      "metadata": {
        "id": "lWFjg9AMMtEt"
      }
    },
    {
      "cell_type": "code",
      "source": [
        "df = pd.read_csv('/content/drive/MyDrive/Colab Notebooks/Russia Real Estate 2021.csv', delimiter=';')"
      ],
      "metadata": {
        "id": "_SpJW4VwREMW"
      },
      "execution_count": null,
      "outputs": []
    },
    {
      "cell_type": "code",
      "source": [
        "df = pd.DataFrame(df[:113500])  # для удобства работы возьмём лишь 113 тыс. строк из более чем 11 млн\n",
        "df.head(5)"
      ],
      "metadata": {
        "colab": {
          "base_uri": "https://localhost:8080/",
          "height": 357
        },
        "id": "bOenoSz2TuJ2",
        "outputId": "cc42dcde-8dba-45e4-a125-c4610d81a2a1"
      },
      "execution_count": null,
      "outputs": [
        {
          "output_type": "execute_result",
          "data": {
            "text/plain": [
              "         date     price  level  levels  rooms  area  kitchen_area  geo_lat  \\\n",
              "0  2021-01-01   2451300     15      31      1  30.3           0.0  56.7801   \n",
              "1  2021-01-01   1450000      5       5      1  33.0           6.0  44.6082   \n",
              "2  2021-01-01  10700000      4      13      3  85.0          12.0  55.5401   \n",
              "3  2021-01-01   3100000      3       5      3  82.0           9.0  44.6082   \n",
              "4  2021-01-01   2500000      2       3      1  30.0           9.0  44.7387   \n",
              "\n",
              "   geo_lon  building_type  object_type  postal_code  street_id  id_region  \\\n",
              "0  60.6994              0            2     620000.0        NaN         66   \n",
              "1  40.1384              0            0     385000.0        NaN          1   \n",
              "2  37.7251              3            0     142701.0   242543.0         50   \n",
              "3  40.1384              0            0     385000.0        NaN          1   \n",
              "4  37.7137              3            2     353960.0   439378.0         23   \n",
              "\n",
              "    house_id  \n",
              "0  1632918.0  \n",
              "1        NaN  \n",
              "2   681306.0  \n",
              "3        NaN  \n",
              "4  1730985.0  "
            ],
            "text/html": [
              "\n",
              "  <div id=\"df-74533377-0908-4995-ac90-a2fdebccbf1e\">\n",
              "    <div class=\"colab-df-container\">\n",
              "      <div>\n",
              "<style scoped>\n",
              "    .dataframe tbody tr th:only-of-type {\n",
              "        vertical-align: middle;\n",
              "    }\n",
              "\n",
              "    .dataframe tbody tr th {\n",
              "        vertical-align: top;\n",
              "    }\n",
              "\n",
              "    .dataframe thead th {\n",
              "        text-align: right;\n",
              "    }\n",
              "</style>\n",
              "<table border=\"1\" class=\"dataframe\">\n",
              "  <thead>\n",
              "    <tr style=\"text-align: right;\">\n",
              "      <th></th>\n",
              "      <th>date</th>\n",
              "      <th>price</th>\n",
              "      <th>level</th>\n",
              "      <th>levels</th>\n",
              "      <th>rooms</th>\n",
              "      <th>area</th>\n",
              "      <th>kitchen_area</th>\n",
              "      <th>geo_lat</th>\n",
              "      <th>geo_lon</th>\n",
              "      <th>building_type</th>\n",
              "      <th>object_type</th>\n",
              "      <th>postal_code</th>\n",
              "      <th>street_id</th>\n",
              "      <th>id_region</th>\n",
              "      <th>house_id</th>\n",
              "    </tr>\n",
              "  </thead>\n",
              "  <tbody>\n",
              "    <tr>\n",
              "      <th>0</th>\n",
              "      <td>2021-01-01</td>\n",
              "      <td>2451300</td>\n",
              "      <td>15</td>\n",
              "      <td>31</td>\n",
              "      <td>1</td>\n",
              "      <td>30.3</td>\n",
              "      <td>0.0</td>\n",
              "      <td>56.7801</td>\n",
              "      <td>60.6994</td>\n",
              "      <td>0</td>\n",
              "      <td>2</td>\n",
              "      <td>620000.0</td>\n",
              "      <td>NaN</td>\n",
              "      <td>66</td>\n",
              "      <td>1632918.0</td>\n",
              "    </tr>\n",
              "    <tr>\n",
              "      <th>1</th>\n",
              "      <td>2021-01-01</td>\n",
              "      <td>1450000</td>\n",
              "      <td>5</td>\n",
              "      <td>5</td>\n",
              "      <td>1</td>\n",
              "      <td>33.0</td>\n",
              "      <td>6.0</td>\n",
              "      <td>44.6082</td>\n",
              "      <td>40.1384</td>\n",
              "      <td>0</td>\n",
              "      <td>0</td>\n",
              "      <td>385000.0</td>\n",
              "      <td>NaN</td>\n",
              "      <td>1</td>\n",
              "      <td>NaN</td>\n",
              "    </tr>\n",
              "    <tr>\n",
              "      <th>2</th>\n",
              "      <td>2021-01-01</td>\n",
              "      <td>10700000</td>\n",
              "      <td>4</td>\n",
              "      <td>13</td>\n",
              "      <td>3</td>\n",
              "      <td>85.0</td>\n",
              "      <td>12.0</td>\n",
              "      <td>55.5401</td>\n",
              "      <td>37.7251</td>\n",
              "      <td>3</td>\n",
              "      <td>0</td>\n",
              "      <td>142701.0</td>\n",
              "      <td>242543.0</td>\n",
              "      <td>50</td>\n",
              "      <td>681306.0</td>\n",
              "    </tr>\n",
              "    <tr>\n",
              "      <th>3</th>\n",
              "      <td>2021-01-01</td>\n",
              "      <td>3100000</td>\n",
              "      <td>3</td>\n",
              "      <td>5</td>\n",
              "      <td>3</td>\n",
              "      <td>82.0</td>\n",
              "      <td>9.0</td>\n",
              "      <td>44.6082</td>\n",
              "      <td>40.1384</td>\n",
              "      <td>0</td>\n",
              "      <td>0</td>\n",
              "      <td>385000.0</td>\n",
              "      <td>NaN</td>\n",
              "      <td>1</td>\n",
              "      <td>NaN</td>\n",
              "    </tr>\n",
              "    <tr>\n",
              "      <th>4</th>\n",
              "      <td>2021-01-01</td>\n",
              "      <td>2500000</td>\n",
              "      <td>2</td>\n",
              "      <td>3</td>\n",
              "      <td>1</td>\n",
              "      <td>30.0</td>\n",
              "      <td>9.0</td>\n",
              "      <td>44.7387</td>\n",
              "      <td>37.7137</td>\n",
              "      <td>3</td>\n",
              "      <td>2</td>\n",
              "      <td>353960.0</td>\n",
              "      <td>439378.0</td>\n",
              "      <td>23</td>\n",
              "      <td>1730985.0</td>\n",
              "    </tr>\n",
              "  </tbody>\n",
              "</table>\n",
              "</div>\n",
              "      <button class=\"colab-df-convert\" onclick=\"convertToInteractive('df-74533377-0908-4995-ac90-a2fdebccbf1e')\"\n",
              "              title=\"Convert this dataframe to an interactive table.\"\n",
              "              style=\"display:none;\">\n",
              "        \n",
              "  <svg xmlns=\"http://www.w3.org/2000/svg\" height=\"24px\"viewBox=\"0 0 24 24\"\n",
              "       width=\"24px\">\n",
              "    <path d=\"M0 0h24v24H0V0z\" fill=\"none\"/>\n",
              "    <path d=\"M18.56 5.44l.94 2.06.94-2.06 2.06-.94-2.06-.94-.94-2.06-.94 2.06-2.06.94zm-11 1L8.5 8.5l.94-2.06 2.06-.94-2.06-.94L8.5 2.5l-.94 2.06-2.06.94zm10 10l.94 2.06.94-2.06 2.06-.94-2.06-.94-.94-2.06-.94 2.06-2.06.94z\"/><path d=\"M17.41 7.96l-1.37-1.37c-.4-.4-.92-.59-1.43-.59-.52 0-1.04.2-1.43.59L10.3 9.45l-7.72 7.72c-.78.78-.78 2.05 0 2.83L4 21.41c.39.39.9.59 1.41.59.51 0 1.02-.2 1.41-.59l7.78-7.78 2.81-2.81c.8-.78.8-2.07 0-2.86zM5.41 20L4 18.59l7.72-7.72 1.47 1.35L5.41 20z\"/>\n",
              "  </svg>\n",
              "      </button>\n",
              "      \n",
              "  <style>\n",
              "    .colab-df-container {\n",
              "      display:flex;\n",
              "      flex-wrap:wrap;\n",
              "      gap: 12px;\n",
              "    }\n",
              "\n",
              "    .colab-df-convert {\n",
              "      background-color: #E8F0FE;\n",
              "      border: none;\n",
              "      border-radius: 50%;\n",
              "      cursor: pointer;\n",
              "      display: none;\n",
              "      fill: #1967D2;\n",
              "      height: 32px;\n",
              "      padding: 0 0 0 0;\n",
              "      width: 32px;\n",
              "    }\n",
              "\n",
              "    .colab-df-convert:hover {\n",
              "      background-color: #E2EBFA;\n",
              "      box-shadow: 0px 1px 2px rgba(60, 64, 67, 0.3), 0px 1px 3px 1px rgba(60, 64, 67, 0.15);\n",
              "      fill: #174EA6;\n",
              "    }\n",
              "\n",
              "    [theme=dark] .colab-df-convert {\n",
              "      background-color: #3B4455;\n",
              "      fill: #D2E3FC;\n",
              "    }\n",
              "\n",
              "    [theme=dark] .colab-df-convert:hover {\n",
              "      background-color: #434B5C;\n",
              "      box-shadow: 0px 1px 3px 1px rgba(0, 0, 0, 0.15);\n",
              "      filter: drop-shadow(0px 1px 2px rgba(0, 0, 0, 0.3));\n",
              "      fill: #FFFFFF;\n",
              "    }\n",
              "  </style>\n",
              "\n",
              "      <script>\n",
              "        const buttonEl =\n",
              "          document.querySelector('#df-74533377-0908-4995-ac90-a2fdebccbf1e button.colab-df-convert');\n",
              "        buttonEl.style.display =\n",
              "          google.colab.kernel.accessAllowed ? 'block' : 'none';\n",
              "\n",
              "        async function convertToInteractive(key) {\n",
              "          const element = document.querySelector('#df-74533377-0908-4995-ac90-a2fdebccbf1e');\n",
              "          const dataTable =\n",
              "            await google.colab.kernel.invokeFunction('convertToInteractive',\n",
              "                                                     [key], {});\n",
              "          if (!dataTable) return;\n",
              "\n",
              "          const docLinkHtml = 'Like what you see? Visit the ' +\n",
              "            '<a target=\"_blank\" href=https://colab.research.google.com/notebooks/data_table.ipynb>data table notebook</a>'\n",
              "            + ' to learn more about interactive tables.';\n",
              "          element.innerHTML = '';\n",
              "          dataTable['output_type'] = 'display_data';\n",
              "          await google.colab.output.renderOutput(dataTable, element);\n",
              "          const docLink = document.createElement('div');\n",
              "          docLink.innerHTML = docLinkHtml;\n",
              "          element.appendChild(docLink);\n",
              "        }\n",
              "      </script>\n",
              "    </div>\n",
              "  </div>\n",
              "  "
            ]
          },
          "metadata": {},
          "execution_count": 4
        }
      ]
    },
    {
      "cell_type": "code",
      "source": [
        "df.shape"
      ],
      "metadata": {
        "colab": {
          "base_uri": "https://localhost:8080/"
        },
        "id": "Td54sgnTVSIm",
        "outputId": "c5409a03-f074-4fb8-a63c-97f519481ece"
      },
      "execution_count": null,
      "outputs": [
        {
          "output_type": "execute_result",
          "data": {
            "text/plain": [
              "(113500, 15)"
            ]
          },
          "metadata": {},
          "execution_count": 5
        }
      ]
    },
    {
      "cell_type": "code",
      "source": [
        "df.info()"
      ],
      "metadata": {
        "colab": {
          "base_uri": "https://localhost:8080/"
        },
        "id": "SfsJOFHqVbCi",
        "outputId": "7f8d8328-b16b-4f51-cfcf-b4a35bc74204"
      },
      "execution_count": null,
      "outputs": [
        {
          "output_type": "stream",
          "name": "stdout",
          "text": [
            "<class 'pandas.core.frame.DataFrame'>\n",
            "RangeIndex: 113500 entries, 0 to 113499\n",
            "Data columns (total 15 columns):\n",
            " #   Column         Non-Null Count   Dtype  \n",
            "---  ------         --------------   -----  \n",
            " 0   date           113500 non-null  object \n",
            " 1   price          113500 non-null  int64  \n",
            " 2   level          113500 non-null  int64  \n",
            " 3   levels         113500 non-null  int64  \n",
            " 4   rooms          113500 non-null  int64  \n",
            " 5   area           113500 non-null  float64\n",
            " 6   kitchen_area   113500 non-null  float64\n",
            " 7   geo_lat        113500 non-null  float64\n",
            " 8   geo_lon        113500 non-null  float64\n",
            " 9   building_type  113500 non-null  int64  \n",
            " 10  object_type    113500 non-null  int64  \n",
            " 11  postal_code    107737 non-null  float64\n",
            " 12  street_id      74809 non-null   float64\n",
            " 13  id_region      113500 non-null  int64  \n",
            " 14  house_id       85701 non-null   float64\n",
            "dtypes: float64(7), int64(7), object(1)\n",
            "memory usage: 13.0+ MB\n"
          ]
        }
      ]
    },
    {
      "cell_type": "markdown",
      "source": [
        "В формате 'object' только признак date, однако категориальными по своей сущности являются признаки: building_type, object_type.\n",
        "\n",
        "Отдельно обозначу признаки-идентификаторы: street_id, id_region, house_id, postal_code.\n"
      ],
      "metadata": {
        "id": "hUPYOFhy0tq3"
      }
    },
    {
      "cell_type": "code",
      "source": [
        "df[\"building_type\"] = df[\"building_type\"].astype(\"object\")\n",
        "df[\"object_type\"] = df[\"object_type\"].astype(\"object\")\n",
        "df[\"postal_code\"] = df[\"postal_code\"].astype(\"object\")\n",
        "df[\"id_region\"] = df[\"id_region\"].astype(\"object\")"
      ],
      "metadata": {
        "id": "U5ekfJcQDI1B"
      },
      "execution_count": null,
      "outputs": []
    },
    {
      "cell_type": "code",
      "source": [
        "df.describe(include='all')"
      ],
      "metadata": {
        "colab": {
          "base_uri": "https://localhost:8080/",
          "height": 475
        },
        "id": "6X3LuEfYVoQY",
        "outputId": "499a6f96-afbe-42af-c395-fc4f57966b99"
      },
      "execution_count": null,
      "outputs": [
        {
          "output_type": "execute_result",
          "data": {
            "text/plain": [
              "              date       price        level       levels        rooms  \\\n",
              "count       113500  1.1350e+05  113500.0000  113500.0000  113500.0000   \n",
              "unique          11         NaN          NaN          NaN          NaN   \n",
              "top     2021-01-10         NaN          NaN          NaN          NaN   \n",
              "freq         13950         NaN          NaN          NaN          NaN   \n",
              "mean           NaN  1.1419e+07       6.2611      11.2802       1.7813   \n",
              "std            NaN  1.8867e+09       5.3447       7.2742       1.1747   \n",
              "min            NaN  1.0000e+00       0.0000       0.0000      -1.0000   \n",
              "25%            NaN  2.2000e+06       2.0000       5.0000       1.0000   \n",
              "50%            NaN  3.3900e+06       5.0000       9.0000       2.0000   \n",
              "75%            NaN  5.6000e+06       9.0000      16.0000       3.0000   \n",
              "max            NaN  6.3555e+11      50.0000      50.0000       9.0000   \n",
              "\n",
              "               area  kitchen_area      geo_lat      geo_lon  building_type  \\\n",
              "count   113500.0000   113500.0000  113500.0000  113500.0000       113500.0   \n",
              "unique          NaN           NaN          NaN          NaN            7.0   \n",
              "top             NaN           NaN          NaN          NaN            0.0   \n",
              "freq            NaN           NaN          NaN          NaN        43634.0   \n",
              "mean        54.3369       -7.2463      54.2694      52.3949            NaN   \n",
              "std         27.8568       38.5607       4.6719      22.4118            NaN   \n",
              "min          2.0000     -100.0000      42.0241      19.9031            NaN   \n",
              "25%         37.0000        0.0000      52.7319      37.6185            NaN   \n",
              "50%         48.0000        6.7000      55.5757      42.7032            NaN   \n",
              "75%         64.3000       11.0000      56.8200      61.4387            NaN   \n",
              "max        499.0000      206.0000      71.6348     177.5022            NaN   \n",
              "\n",
              "        object_type  postal_code   street_id  id_region    house_id  \n",
              "count      113500.0     107737.0   74809.000   113500.0  8.5701e+04  \n",
              "unique          2.0       8895.0         NaN       86.0         NaN  \n",
              "top             0.0     101000.0         NaN       77.0         NaN  \n",
              "freq        83994.0       1145.0         NaN    12033.0         NaN  \n",
              "mean            NaN          NaN  353218.643        NaN  1.7106e+06  \n",
              "std             NaN          NaN  137087.393        NaN  6.4184e+05  \n",
              "min             NaN          NaN  116221.000        NaN  5.8861e+05  \n",
              "25%             NaN          NaN  232957.000        NaN  1.1763e+06  \n",
              "50%             NaN          NaN  351003.000        NaN  1.7031e+06  \n",
              "75%             NaN          NaN  471630.000        NaN  2.2681e+06  \n",
              "max             NaN          NaN  588583.000        NaN  2.8391e+06  "
            ],
            "text/html": [
              "\n",
              "  <div id=\"df-c9f70dd8-a56a-4984-850c-53e9e90e8f6a\">\n",
              "    <div class=\"colab-df-container\">\n",
              "      <div>\n",
              "<style scoped>\n",
              "    .dataframe tbody tr th:only-of-type {\n",
              "        vertical-align: middle;\n",
              "    }\n",
              "\n",
              "    .dataframe tbody tr th {\n",
              "        vertical-align: top;\n",
              "    }\n",
              "\n",
              "    .dataframe thead th {\n",
              "        text-align: right;\n",
              "    }\n",
              "</style>\n",
              "<table border=\"1\" class=\"dataframe\">\n",
              "  <thead>\n",
              "    <tr style=\"text-align: right;\">\n",
              "      <th></th>\n",
              "      <th>date</th>\n",
              "      <th>price</th>\n",
              "      <th>level</th>\n",
              "      <th>levels</th>\n",
              "      <th>rooms</th>\n",
              "      <th>area</th>\n",
              "      <th>kitchen_area</th>\n",
              "      <th>geo_lat</th>\n",
              "      <th>geo_lon</th>\n",
              "      <th>building_type</th>\n",
              "      <th>object_type</th>\n",
              "      <th>postal_code</th>\n",
              "      <th>street_id</th>\n",
              "      <th>id_region</th>\n",
              "      <th>house_id</th>\n",
              "    </tr>\n",
              "  </thead>\n",
              "  <tbody>\n",
              "    <tr>\n",
              "      <th>count</th>\n",
              "      <td>113500</td>\n",
              "      <td>1.1350e+05</td>\n",
              "      <td>113500.0000</td>\n",
              "      <td>113500.0000</td>\n",
              "      <td>113500.0000</td>\n",
              "      <td>113500.0000</td>\n",
              "      <td>113500.0000</td>\n",
              "      <td>113500.0000</td>\n",
              "      <td>113500.0000</td>\n",
              "      <td>113500.0</td>\n",
              "      <td>113500.0</td>\n",
              "      <td>107737.0</td>\n",
              "      <td>74809.000</td>\n",
              "      <td>113500.0</td>\n",
              "      <td>8.5701e+04</td>\n",
              "    </tr>\n",
              "    <tr>\n",
              "      <th>unique</th>\n",
              "      <td>11</td>\n",
              "      <td>NaN</td>\n",
              "      <td>NaN</td>\n",
              "      <td>NaN</td>\n",
              "      <td>NaN</td>\n",
              "      <td>NaN</td>\n",
              "      <td>NaN</td>\n",
              "      <td>NaN</td>\n",
              "      <td>NaN</td>\n",
              "      <td>7.0</td>\n",
              "      <td>2.0</td>\n",
              "      <td>8895.0</td>\n",
              "      <td>NaN</td>\n",
              "      <td>86.0</td>\n",
              "      <td>NaN</td>\n",
              "    </tr>\n",
              "    <tr>\n",
              "      <th>top</th>\n",
              "      <td>2021-01-10</td>\n",
              "      <td>NaN</td>\n",
              "      <td>NaN</td>\n",
              "      <td>NaN</td>\n",
              "      <td>NaN</td>\n",
              "      <td>NaN</td>\n",
              "      <td>NaN</td>\n",
              "      <td>NaN</td>\n",
              "      <td>NaN</td>\n",
              "      <td>0.0</td>\n",
              "      <td>0.0</td>\n",
              "      <td>101000.0</td>\n",
              "      <td>NaN</td>\n",
              "      <td>77.0</td>\n",
              "      <td>NaN</td>\n",
              "    </tr>\n",
              "    <tr>\n",
              "      <th>freq</th>\n",
              "      <td>13950</td>\n",
              "      <td>NaN</td>\n",
              "      <td>NaN</td>\n",
              "      <td>NaN</td>\n",
              "      <td>NaN</td>\n",
              "      <td>NaN</td>\n",
              "      <td>NaN</td>\n",
              "      <td>NaN</td>\n",
              "      <td>NaN</td>\n",
              "      <td>43634.0</td>\n",
              "      <td>83994.0</td>\n",
              "      <td>1145.0</td>\n",
              "      <td>NaN</td>\n",
              "      <td>12033.0</td>\n",
              "      <td>NaN</td>\n",
              "    </tr>\n",
              "    <tr>\n",
              "      <th>mean</th>\n",
              "      <td>NaN</td>\n",
              "      <td>1.1419e+07</td>\n",
              "      <td>6.2611</td>\n",
              "      <td>11.2802</td>\n",
              "      <td>1.7813</td>\n",
              "      <td>54.3369</td>\n",
              "      <td>-7.2463</td>\n",
              "      <td>54.2694</td>\n",
              "      <td>52.3949</td>\n",
              "      <td>NaN</td>\n",
              "      <td>NaN</td>\n",
              "      <td>NaN</td>\n",
              "      <td>353218.643</td>\n",
              "      <td>NaN</td>\n",
              "      <td>1.7106e+06</td>\n",
              "    </tr>\n",
              "    <tr>\n",
              "      <th>std</th>\n",
              "      <td>NaN</td>\n",
              "      <td>1.8867e+09</td>\n",
              "      <td>5.3447</td>\n",
              "      <td>7.2742</td>\n",
              "      <td>1.1747</td>\n",
              "      <td>27.8568</td>\n",
              "      <td>38.5607</td>\n",
              "      <td>4.6719</td>\n",
              "      <td>22.4118</td>\n",
              "      <td>NaN</td>\n",
              "      <td>NaN</td>\n",
              "      <td>NaN</td>\n",
              "      <td>137087.393</td>\n",
              "      <td>NaN</td>\n",
              "      <td>6.4184e+05</td>\n",
              "    </tr>\n",
              "    <tr>\n",
              "      <th>min</th>\n",
              "      <td>NaN</td>\n",
              "      <td>1.0000e+00</td>\n",
              "      <td>0.0000</td>\n",
              "      <td>0.0000</td>\n",
              "      <td>-1.0000</td>\n",
              "      <td>2.0000</td>\n",
              "      <td>-100.0000</td>\n",
              "      <td>42.0241</td>\n",
              "      <td>19.9031</td>\n",
              "      <td>NaN</td>\n",
              "      <td>NaN</td>\n",
              "      <td>NaN</td>\n",
              "      <td>116221.000</td>\n",
              "      <td>NaN</td>\n",
              "      <td>5.8861e+05</td>\n",
              "    </tr>\n",
              "    <tr>\n",
              "      <th>25%</th>\n",
              "      <td>NaN</td>\n",
              "      <td>2.2000e+06</td>\n",
              "      <td>2.0000</td>\n",
              "      <td>5.0000</td>\n",
              "      <td>1.0000</td>\n",
              "      <td>37.0000</td>\n",
              "      <td>0.0000</td>\n",
              "      <td>52.7319</td>\n",
              "      <td>37.6185</td>\n",
              "      <td>NaN</td>\n",
              "      <td>NaN</td>\n",
              "      <td>NaN</td>\n",
              "      <td>232957.000</td>\n",
              "      <td>NaN</td>\n",
              "      <td>1.1763e+06</td>\n",
              "    </tr>\n",
              "    <tr>\n",
              "      <th>50%</th>\n",
              "      <td>NaN</td>\n",
              "      <td>3.3900e+06</td>\n",
              "      <td>5.0000</td>\n",
              "      <td>9.0000</td>\n",
              "      <td>2.0000</td>\n",
              "      <td>48.0000</td>\n",
              "      <td>6.7000</td>\n",
              "      <td>55.5757</td>\n",
              "      <td>42.7032</td>\n",
              "      <td>NaN</td>\n",
              "      <td>NaN</td>\n",
              "      <td>NaN</td>\n",
              "      <td>351003.000</td>\n",
              "      <td>NaN</td>\n",
              "      <td>1.7031e+06</td>\n",
              "    </tr>\n",
              "    <tr>\n",
              "      <th>75%</th>\n",
              "      <td>NaN</td>\n",
              "      <td>5.6000e+06</td>\n",
              "      <td>9.0000</td>\n",
              "      <td>16.0000</td>\n",
              "      <td>3.0000</td>\n",
              "      <td>64.3000</td>\n",
              "      <td>11.0000</td>\n",
              "      <td>56.8200</td>\n",
              "      <td>61.4387</td>\n",
              "      <td>NaN</td>\n",
              "      <td>NaN</td>\n",
              "      <td>NaN</td>\n",
              "      <td>471630.000</td>\n",
              "      <td>NaN</td>\n",
              "      <td>2.2681e+06</td>\n",
              "    </tr>\n",
              "    <tr>\n",
              "      <th>max</th>\n",
              "      <td>NaN</td>\n",
              "      <td>6.3555e+11</td>\n",
              "      <td>50.0000</td>\n",
              "      <td>50.0000</td>\n",
              "      <td>9.0000</td>\n",
              "      <td>499.0000</td>\n",
              "      <td>206.0000</td>\n",
              "      <td>71.6348</td>\n",
              "      <td>177.5022</td>\n",
              "      <td>NaN</td>\n",
              "      <td>NaN</td>\n",
              "      <td>NaN</td>\n",
              "      <td>588583.000</td>\n",
              "      <td>NaN</td>\n",
              "      <td>2.8391e+06</td>\n",
              "    </tr>\n",
              "  </tbody>\n",
              "</table>\n",
              "</div>\n",
              "      <button class=\"colab-df-convert\" onclick=\"convertToInteractive('df-c9f70dd8-a56a-4984-850c-53e9e90e8f6a')\"\n",
              "              title=\"Convert this dataframe to an interactive table.\"\n",
              "              style=\"display:none;\">\n",
              "        \n",
              "  <svg xmlns=\"http://www.w3.org/2000/svg\" height=\"24px\"viewBox=\"0 0 24 24\"\n",
              "       width=\"24px\">\n",
              "    <path d=\"M0 0h24v24H0V0z\" fill=\"none\"/>\n",
              "    <path d=\"M18.56 5.44l.94 2.06.94-2.06 2.06-.94-2.06-.94-.94-2.06-.94 2.06-2.06.94zm-11 1L8.5 8.5l.94-2.06 2.06-.94-2.06-.94L8.5 2.5l-.94 2.06-2.06.94zm10 10l.94 2.06.94-2.06 2.06-.94-2.06-.94-.94-2.06-.94 2.06-2.06.94z\"/><path d=\"M17.41 7.96l-1.37-1.37c-.4-.4-.92-.59-1.43-.59-.52 0-1.04.2-1.43.59L10.3 9.45l-7.72 7.72c-.78.78-.78 2.05 0 2.83L4 21.41c.39.39.9.59 1.41.59.51 0 1.02-.2 1.41-.59l7.78-7.78 2.81-2.81c.8-.78.8-2.07 0-2.86zM5.41 20L4 18.59l7.72-7.72 1.47 1.35L5.41 20z\"/>\n",
              "  </svg>\n",
              "      </button>\n",
              "      \n",
              "  <style>\n",
              "    .colab-df-container {\n",
              "      display:flex;\n",
              "      flex-wrap:wrap;\n",
              "      gap: 12px;\n",
              "    }\n",
              "\n",
              "    .colab-df-convert {\n",
              "      background-color: #E8F0FE;\n",
              "      border: none;\n",
              "      border-radius: 50%;\n",
              "      cursor: pointer;\n",
              "      display: none;\n",
              "      fill: #1967D2;\n",
              "      height: 32px;\n",
              "      padding: 0 0 0 0;\n",
              "      width: 32px;\n",
              "    }\n",
              "\n",
              "    .colab-df-convert:hover {\n",
              "      background-color: #E2EBFA;\n",
              "      box-shadow: 0px 1px 2px rgba(60, 64, 67, 0.3), 0px 1px 3px 1px rgba(60, 64, 67, 0.15);\n",
              "      fill: #174EA6;\n",
              "    }\n",
              "\n",
              "    [theme=dark] .colab-df-convert {\n",
              "      background-color: #3B4455;\n",
              "      fill: #D2E3FC;\n",
              "    }\n",
              "\n",
              "    [theme=dark] .colab-df-convert:hover {\n",
              "      background-color: #434B5C;\n",
              "      box-shadow: 0px 1px 3px 1px rgba(0, 0, 0, 0.15);\n",
              "      filter: drop-shadow(0px 1px 2px rgba(0, 0, 0, 0.3));\n",
              "      fill: #FFFFFF;\n",
              "    }\n",
              "  </style>\n",
              "\n",
              "      <script>\n",
              "        const buttonEl =\n",
              "          document.querySelector('#df-c9f70dd8-a56a-4984-850c-53e9e90e8f6a button.colab-df-convert');\n",
              "        buttonEl.style.display =\n",
              "          google.colab.kernel.accessAllowed ? 'block' : 'none';\n",
              "\n",
              "        async function convertToInteractive(key) {\n",
              "          const element = document.querySelector('#df-c9f70dd8-a56a-4984-850c-53e9e90e8f6a');\n",
              "          const dataTable =\n",
              "            await google.colab.kernel.invokeFunction('convertToInteractive',\n",
              "                                                     [key], {});\n",
              "          if (!dataTable) return;\n",
              "\n",
              "          const docLinkHtml = 'Like what you see? Visit the ' +\n",
              "            '<a target=\"_blank\" href=https://colab.research.google.com/notebooks/data_table.ipynb>data table notebook</a>'\n",
              "            + ' to learn more about interactive tables.';\n",
              "          element.innerHTML = '';\n",
              "          dataTable['output_type'] = 'display_data';\n",
              "          await google.colab.output.renderOutput(dataTable, element);\n",
              "          const docLink = document.createElement('div');\n",
              "          docLink.innerHTML = docLinkHtml;\n",
              "          element.appendChild(docLink);\n",
              "        }\n",
              "      </script>\n",
              "    </div>\n",
              "  </div>\n",
              "  "
            ]
          },
          "metadata": {},
          "execution_count": 8
        }
      ]
    },
    {
      "cell_type": "markdown",
      "source": [
        "### 1.2. Очистка данных и заполнения пропусков"
      ],
      "metadata": {
        "id": "uJUh4uDK5oL5"
      }
    },
    {
      "cell_type": "code",
      "source": [
        "df.duplicated().sum() # поиск дубликатов"
      ],
      "metadata": {
        "colab": {
          "base_uri": "https://localhost:8080/"
        },
        "id": "zDjA0R80Wfrf",
        "outputId": "8f4b9cc5-31f9-4c63-a762-7918e2ff4e43"
      },
      "execution_count": null,
      "outputs": [
        {
          "output_type": "execute_result",
          "data": {
            "text/plain": [
              "1240"
            ]
          },
          "metadata": {},
          "execution_count": 9
        }
      ]
    },
    {
      "cell_type": "code",
      "source": [
        "DF = df.drop_duplicates() # Складываем в новый датафрейм результат удаления дубликатов\n",
        "\n",
        "DF = DF.reset_index(drop=True) # обновим индексы в датафрейме DF. если бы мы прописали drop = False, то была бы еще одна колонка - старые индексы"
      ],
      "metadata": {
        "id": "b9zu8k6WFP8U"
      },
      "execution_count": null,
      "outputs": []
    },
    {
      "cell_type": "code",
      "source": [
        "#Вычисляем процент пропусков\n",
        "for i in DF.columns:\n",
        "    per_na = DF[DF[i].isna()].shape[0] / DF.shape[0] * 100\n",
        "    print(f'Процент пропуска значений признака {i} -', per_na)"
      ],
      "metadata": {
        "colab": {
          "base_uri": "https://localhost:8080/"
        },
        "id": "lwjTo5DvV5Q2",
        "outputId": "c1274b3a-790e-40d8-d084-5b89d8b64a19"
      },
      "execution_count": null,
      "outputs": [
        {
          "output_type": "stream",
          "name": "stdout",
          "text": [
            "Процент пропуска значений признака date - 0.0\n",
            "Процент пропуска значений признака price - 0.0\n",
            "Процент пропуска значений признака level - 0.0\n",
            "Процент пропуска значений признака levels - 0.0\n",
            "Процент пропуска значений признака rooms - 0.0\n",
            "Процент пропуска значений признака area - 0.0\n",
            "Процент пропуска значений признака kitchen_area - 0.0\n",
            "Процент пропуска значений признака geo_lat - 0.0\n",
            "Процент пропуска значений признака geo_lon - 0.0\n",
            "Процент пропуска значений признака building_type - 0.0\n",
            "Процент пропуска значений признака object_type - 0.0\n",
            "Процент пропуска значений признака postal_code - 5.102440762515589\n",
            "Процент пропуска значений признака street_id - 34.15553180117584\n",
            "Процент пропуска значений признака id_region - 0.0\n",
            "Процент пропуска значений признака house_id - 24.504721182968108\n"
          ]
        }
      ]
    },
    {
      "cell_type": "markdown",
      "source": [
        "Обращу внимание на значение kitchen_area = -100.00  \n",
        "Как пояснял автор датасета - за этим значением скрывается NaN"
      ],
      "metadata": {
        "id": "-PQPMAM66Wch"
      }
    },
    {
      "cell_type": "code",
      "source": [
        "DF[(DF['kitchen_area']==-100)]"
      ],
      "metadata": {
        "colab": {
          "base_uri": "https://localhost:8080/",
          "height": 661
        },
        "id": "v07PHtABLKFx",
        "outputId": "821173a9-8d64-49bc-a645-205d4ed0a69b"
      },
      "execution_count": null,
      "outputs": [
        {
          "output_type": "execute_result",
          "data": {
            "text/plain": [
              "              date    price  level  levels  rooms  area  kitchen_area  \\\n",
              "13      2021-01-01  3750000     19      20      2  40.0        -100.0   \n",
              "26      2021-01-01  2700000      5       5      3  64.0        -100.0   \n",
              "30      2021-01-01   900000      3       4      3  54.0        -100.0   \n",
              "41      2021-01-01  4200000      1      14      2  50.0        -100.0   \n",
              "63      2021-01-01  4200000     12      25     -1  25.8        -100.0   \n",
              "...            ...      ...    ...     ...    ...   ...           ...   \n",
              "112223  2021-01-11  6700000      8       9      3  98.4        -100.0   \n",
              "112231  2021-01-11  2000000      3       5      2  43.5        -100.0   \n",
              "112244  2021-01-11   930000      1       5      1  32.0        -100.0   \n",
              "112246  2021-01-11   750000      3       5      1  19.0        -100.0   \n",
              "112252  2021-01-11  1100000      1       5      1  29.1        -100.0   \n",
              "\n",
              "        geo_lat   geo_lon building_type object_type postal_code  street_id  \\\n",
              "13      55.0553   82.8942             3           0    630082.0   557992.0   \n",
              "26      50.5365  137.0291             4           0    681000.0   317006.0   \n",
              "30      51.9115  102.4356             4           0    671023.0   153245.0   \n",
              "41      43.5822   39.7273             3           0    354000.0   151411.0   \n",
              "63      60.0369   30.2261             3           2    190000.0   291085.0   \n",
              "...         ...       ...           ...         ...         ...        ...   \n",
              "112223  44.0425   42.8604             4           0    357601.0   484224.0   \n",
              "112231  55.3487   86.0691             4           0    650025.0   395240.0   \n",
              "112244  50.0902   45.3640             2           0    403876.0   567217.0   \n",
              "112246  53.8389   87.1785             5           0    654038.0   279896.0   \n",
              "112252  53.7457   87.0541             4           0    654063.0   264192.0   \n",
              "\n",
              "       id_region   house_id  \n",
              "13            54  2715855.0  \n",
              "26            27  2279129.0  \n",
              "30             3   632956.0  \n",
              "41            23  1278090.0  \n",
              "63            78  2484205.0  \n",
              "...          ...        ...  \n",
              "112223        26  2754739.0  \n",
              "112231        42  2593846.0  \n",
              "112244        34  1124691.0  \n",
              "112246        42  2127332.0  \n",
              "112252        42  1476455.0  \n",
              "\n",
              "[16245 rows x 15 columns]"
            ],
            "text/html": [
              "\n",
              "  <div id=\"df-936c23ec-7cd8-45fa-be7a-f27307aa076f\">\n",
              "    <div class=\"colab-df-container\">\n",
              "      <div>\n",
              "<style scoped>\n",
              "    .dataframe tbody tr th:only-of-type {\n",
              "        vertical-align: middle;\n",
              "    }\n",
              "\n",
              "    .dataframe tbody tr th {\n",
              "        vertical-align: top;\n",
              "    }\n",
              "\n",
              "    .dataframe thead th {\n",
              "        text-align: right;\n",
              "    }\n",
              "</style>\n",
              "<table border=\"1\" class=\"dataframe\">\n",
              "  <thead>\n",
              "    <tr style=\"text-align: right;\">\n",
              "      <th></th>\n",
              "      <th>date</th>\n",
              "      <th>price</th>\n",
              "      <th>level</th>\n",
              "      <th>levels</th>\n",
              "      <th>rooms</th>\n",
              "      <th>area</th>\n",
              "      <th>kitchen_area</th>\n",
              "      <th>geo_lat</th>\n",
              "      <th>geo_lon</th>\n",
              "      <th>building_type</th>\n",
              "      <th>object_type</th>\n",
              "      <th>postal_code</th>\n",
              "      <th>street_id</th>\n",
              "      <th>id_region</th>\n",
              "      <th>house_id</th>\n",
              "    </tr>\n",
              "  </thead>\n",
              "  <tbody>\n",
              "    <tr>\n",
              "      <th>13</th>\n",
              "      <td>2021-01-01</td>\n",
              "      <td>3750000</td>\n",
              "      <td>19</td>\n",
              "      <td>20</td>\n",
              "      <td>2</td>\n",
              "      <td>40.0</td>\n",
              "      <td>-100.0</td>\n",
              "      <td>55.0553</td>\n",
              "      <td>82.8942</td>\n",
              "      <td>3</td>\n",
              "      <td>0</td>\n",
              "      <td>630082.0</td>\n",
              "      <td>557992.0</td>\n",
              "      <td>54</td>\n",
              "      <td>2715855.0</td>\n",
              "    </tr>\n",
              "    <tr>\n",
              "      <th>26</th>\n",
              "      <td>2021-01-01</td>\n",
              "      <td>2700000</td>\n",
              "      <td>5</td>\n",
              "      <td>5</td>\n",
              "      <td>3</td>\n",
              "      <td>64.0</td>\n",
              "      <td>-100.0</td>\n",
              "      <td>50.5365</td>\n",
              "      <td>137.0291</td>\n",
              "      <td>4</td>\n",
              "      <td>0</td>\n",
              "      <td>681000.0</td>\n",
              "      <td>317006.0</td>\n",
              "      <td>27</td>\n",
              "      <td>2279129.0</td>\n",
              "    </tr>\n",
              "    <tr>\n",
              "      <th>30</th>\n",
              "      <td>2021-01-01</td>\n",
              "      <td>900000</td>\n",
              "      <td>3</td>\n",
              "      <td>4</td>\n",
              "      <td>3</td>\n",
              "      <td>54.0</td>\n",
              "      <td>-100.0</td>\n",
              "      <td>51.9115</td>\n",
              "      <td>102.4356</td>\n",
              "      <td>4</td>\n",
              "      <td>0</td>\n",
              "      <td>671023.0</td>\n",
              "      <td>153245.0</td>\n",
              "      <td>3</td>\n",
              "      <td>632956.0</td>\n",
              "    </tr>\n",
              "    <tr>\n",
              "      <th>41</th>\n",
              "      <td>2021-01-01</td>\n",
              "      <td>4200000</td>\n",
              "      <td>1</td>\n",
              "      <td>14</td>\n",
              "      <td>2</td>\n",
              "      <td>50.0</td>\n",
              "      <td>-100.0</td>\n",
              "      <td>43.5822</td>\n",
              "      <td>39.7273</td>\n",
              "      <td>3</td>\n",
              "      <td>0</td>\n",
              "      <td>354000.0</td>\n",
              "      <td>151411.0</td>\n",
              "      <td>23</td>\n",
              "      <td>1278090.0</td>\n",
              "    </tr>\n",
              "    <tr>\n",
              "      <th>63</th>\n",
              "      <td>2021-01-01</td>\n",
              "      <td>4200000</td>\n",
              "      <td>12</td>\n",
              "      <td>25</td>\n",
              "      <td>-1</td>\n",
              "      <td>25.8</td>\n",
              "      <td>-100.0</td>\n",
              "      <td>60.0369</td>\n",
              "      <td>30.2261</td>\n",
              "      <td>3</td>\n",
              "      <td>2</td>\n",
              "      <td>190000.0</td>\n",
              "      <td>291085.0</td>\n",
              "      <td>78</td>\n",
              "      <td>2484205.0</td>\n",
              "    </tr>\n",
              "    <tr>\n",
              "      <th>...</th>\n",
              "      <td>...</td>\n",
              "      <td>...</td>\n",
              "      <td>...</td>\n",
              "      <td>...</td>\n",
              "      <td>...</td>\n",
              "      <td>...</td>\n",
              "      <td>...</td>\n",
              "      <td>...</td>\n",
              "      <td>...</td>\n",
              "      <td>...</td>\n",
              "      <td>...</td>\n",
              "      <td>...</td>\n",
              "      <td>...</td>\n",
              "      <td>...</td>\n",
              "      <td>...</td>\n",
              "    </tr>\n",
              "    <tr>\n",
              "      <th>112223</th>\n",
              "      <td>2021-01-11</td>\n",
              "      <td>6700000</td>\n",
              "      <td>8</td>\n",
              "      <td>9</td>\n",
              "      <td>3</td>\n",
              "      <td>98.4</td>\n",
              "      <td>-100.0</td>\n",
              "      <td>44.0425</td>\n",
              "      <td>42.8604</td>\n",
              "      <td>4</td>\n",
              "      <td>0</td>\n",
              "      <td>357601.0</td>\n",
              "      <td>484224.0</td>\n",
              "      <td>26</td>\n",
              "      <td>2754739.0</td>\n",
              "    </tr>\n",
              "    <tr>\n",
              "      <th>112231</th>\n",
              "      <td>2021-01-11</td>\n",
              "      <td>2000000</td>\n",
              "      <td>3</td>\n",
              "      <td>5</td>\n",
              "      <td>2</td>\n",
              "      <td>43.5</td>\n",
              "      <td>-100.0</td>\n",
              "      <td>55.3487</td>\n",
              "      <td>86.0691</td>\n",
              "      <td>4</td>\n",
              "      <td>0</td>\n",
              "      <td>650025.0</td>\n",
              "      <td>395240.0</td>\n",
              "      <td>42</td>\n",
              "      <td>2593846.0</td>\n",
              "    </tr>\n",
              "    <tr>\n",
              "      <th>112244</th>\n",
              "      <td>2021-01-11</td>\n",
              "      <td>930000</td>\n",
              "      <td>1</td>\n",
              "      <td>5</td>\n",
              "      <td>1</td>\n",
              "      <td>32.0</td>\n",
              "      <td>-100.0</td>\n",
              "      <td>50.0902</td>\n",
              "      <td>45.3640</td>\n",
              "      <td>2</td>\n",
              "      <td>0</td>\n",
              "      <td>403876.0</td>\n",
              "      <td>567217.0</td>\n",
              "      <td>34</td>\n",
              "      <td>1124691.0</td>\n",
              "    </tr>\n",
              "    <tr>\n",
              "      <th>112246</th>\n",
              "      <td>2021-01-11</td>\n",
              "      <td>750000</td>\n",
              "      <td>3</td>\n",
              "      <td>5</td>\n",
              "      <td>1</td>\n",
              "      <td>19.0</td>\n",
              "      <td>-100.0</td>\n",
              "      <td>53.8389</td>\n",
              "      <td>87.1785</td>\n",
              "      <td>5</td>\n",
              "      <td>0</td>\n",
              "      <td>654038.0</td>\n",
              "      <td>279896.0</td>\n",
              "      <td>42</td>\n",
              "      <td>2127332.0</td>\n",
              "    </tr>\n",
              "    <tr>\n",
              "      <th>112252</th>\n",
              "      <td>2021-01-11</td>\n",
              "      <td>1100000</td>\n",
              "      <td>1</td>\n",
              "      <td>5</td>\n",
              "      <td>1</td>\n",
              "      <td>29.1</td>\n",
              "      <td>-100.0</td>\n",
              "      <td>53.7457</td>\n",
              "      <td>87.0541</td>\n",
              "      <td>4</td>\n",
              "      <td>0</td>\n",
              "      <td>654063.0</td>\n",
              "      <td>264192.0</td>\n",
              "      <td>42</td>\n",
              "      <td>1476455.0</td>\n",
              "    </tr>\n",
              "  </tbody>\n",
              "</table>\n",
              "<p>16245 rows × 15 columns</p>\n",
              "</div>\n",
              "      <button class=\"colab-df-convert\" onclick=\"convertToInteractive('df-936c23ec-7cd8-45fa-be7a-f27307aa076f')\"\n",
              "              title=\"Convert this dataframe to an interactive table.\"\n",
              "              style=\"display:none;\">\n",
              "        \n",
              "  <svg xmlns=\"http://www.w3.org/2000/svg\" height=\"24px\"viewBox=\"0 0 24 24\"\n",
              "       width=\"24px\">\n",
              "    <path d=\"M0 0h24v24H0V0z\" fill=\"none\"/>\n",
              "    <path d=\"M18.56 5.44l.94 2.06.94-2.06 2.06-.94-2.06-.94-.94-2.06-.94 2.06-2.06.94zm-11 1L8.5 8.5l.94-2.06 2.06-.94-2.06-.94L8.5 2.5l-.94 2.06-2.06.94zm10 10l.94 2.06.94-2.06 2.06-.94-2.06-.94-.94-2.06-.94 2.06-2.06.94z\"/><path d=\"M17.41 7.96l-1.37-1.37c-.4-.4-.92-.59-1.43-.59-.52 0-1.04.2-1.43.59L10.3 9.45l-7.72 7.72c-.78.78-.78 2.05 0 2.83L4 21.41c.39.39.9.59 1.41.59.51 0 1.02-.2 1.41-.59l7.78-7.78 2.81-2.81c.8-.78.8-2.07 0-2.86zM5.41 20L4 18.59l7.72-7.72 1.47 1.35L5.41 20z\"/>\n",
              "  </svg>\n",
              "      </button>\n",
              "      \n",
              "  <style>\n",
              "    .colab-df-container {\n",
              "      display:flex;\n",
              "      flex-wrap:wrap;\n",
              "      gap: 12px;\n",
              "    }\n",
              "\n",
              "    .colab-df-convert {\n",
              "      background-color: #E8F0FE;\n",
              "      border: none;\n",
              "      border-radius: 50%;\n",
              "      cursor: pointer;\n",
              "      display: none;\n",
              "      fill: #1967D2;\n",
              "      height: 32px;\n",
              "      padding: 0 0 0 0;\n",
              "      width: 32px;\n",
              "    }\n",
              "\n",
              "    .colab-df-convert:hover {\n",
              "      background-color: #E2EBFA;\n",
              "      box-shadow: 0px 1px 2px rgba(60, 64, 67, 0.3), 0px 1px 3px 1px rgba(60, 64, 67, 0.15);\n",
              "      fill: #174EA6;\n",
              "    }\n",
              "\n",
              "    [theme=dark] .colab-df-convert {\n",
              "      background-color: #3B4455;\n",
              "      fill: #D2E3FC;\n",
              "    }\n",
              "\n",
              "    [theme=dark] .colab-df-convert:hover {\n",
              "      background-color: #434B5C;\n",
              "      box-shadow: 0px 1px 3px 1px rgba(0, 0, 0, 0.15);\n",
              "      filter: drop-shadow(0px 1px 2px rgba(0, 0, 0, 0.3));\n",
              "      fill: #FFFFFF;\n",
              "    }\n",
              "  </style>\n",
              "\n",
              "      <script>\n",
              "        const buttonEl =\n",
              "          document.querySelector('#df-936c23ec-7cd8-45fa-be7a-f27307aa076f button.colab-df-convert');\n",
              "        buttonEl.style.display =\n",
              "          google.colab.kernel.accessAllowed ? 'block' : 'none';\n",
              "\n",
              "        async function convertToInteractive(key) {\n",
              "          const element = document.querySelector('#df-936c23ec-7cd8-45fa-be7a-f27307aa076f');\n",
              "          const dataTable =\n",
              "            await google.colab.kernel.invokeFunction('convertToInteractive',\n",
              "                                                     [key], {});\n",
              "          if (!dataTable) return;\n",
              "\n",
              "          const docLinkHtml = 'Like what you see? Visit the ' +\n",
              "            '<a target=\"_blank\" href=https://colab.research.google.com/notebooks/data_table.ipynb>data table notebook</a>'\n",
              "            + ' to learn more about interactive tables.';\n",
              "          element.innerHTML = '';\n",
              "          dataTable['output_type'] = 'display_data';\n",
              "          await google.colab.output.renderOutput(dataTable, element);\n",
              "          const docLink = document.createElement('div');\n",
              "          docLink.innerHTML = docLinkHtml;\n",
              "          element.appendChild(docLink);\n",
              "        }\n",
              "      </script>\n",
              "    </div>\n",
              "  </div>\n",
              "  "
            ]
          },
          "metadata": {},
          "execution_count": 12
        }
      ]
    },
    {
      "cell_type": "code",
      "source": [
        "DF.loc[DF['kitchen_area']==-100, ['kitchen_area']] = np.NaN"
      ],
      "metadata": {
        "id": "2WxTEhU754jo"
      },
      "execution_count": null,
      "outputs": []
    },
    {
      "cell_type": "markdown",
      "source": [
        "Теперь стоит снова проверить процент пропущенных значений в столбцах.  \n",
        "Как мы видим, таких значений более 14% от выборки признака"
      ],
      "metadata": {
        "id": "lHZhS8BzA_To"
      }
    },
    {
      "cell_type": "code",
      "source": [
        "for i in DF.columns:\n",
        "    per_na = DF[DF[i].isna()].shape[0] / DF.shape[0] * 100\n",
        "    print(f'Процент пропуска значений признака {i} -', per_na)"
      ],
      "metadata": {
        "colab": {
          "base_uri": "https://localhost:8080/"
        },
        "id": "KzSlwutnBI78",
        "outputId": "142fd1ef-08a4-4cc9-a5f1-51b94c02ca01"
      },
      "execution_count": null,
      "outputs": [
        {
          "output_type": "stream",
          "name": "stdout",
          "text": [
            "Процент пропуска значений признака date - 0.0\n",
            "Процент пропуска значений признака price - 0.0\n",
            "Процент пропуска значений признака level - 0.0\n",
            "Процент пропуска значений признака levels - 0.0\n",
            "Процент пропуска значений признака rooms - 0.0\n",
            "Процент пропуска значений признака area - 0.0\n",
            "Процент пропуска значений признака kitchen_area - 14.470871191876004\n",
            "Процент пропуска значений признака geo_lat - 0.0\n",
            "Процент пропуска значений признака geo_lon - 0.0\n",
            "Процент пропуска значений признака building_type - 0.0\n",
            "Процент пропуска значений признака object_type - 0.0\n",
            "Процент пропуска значений признака postal_code - 5.102440762515589\n",
            "Процент пропуска значений признака street_id - 34.15553180117584\n",
            "Процент пропуска значений признака id_region - 0.0\n",
            "Процент пропуска значений признака house_id - 24.504721182968108\n"
          ]
        }
      ]
    },
    {
      "cell_type": "markdown",
      "source": [
        "Для заполнения пропусков в kitchen_area вычислим среднее значение площади кухни по количеству комнат в квартире"
      ],
      "metadata": {
        "id": "clL87-KsGJ0y"
      }
    },
    {
      "cell_type": "code",
      "source": [
        "mean_area_by_rooms= DF.groupby('rooms')['kitchen_area'].mean()"
      ],
      "metadata": {
        "id": "NLY-NJK-FMym"
      },
      "execution_count": null,
      "outputs": []
    },
    {
      "cell_type": "code",
      "source": [
        "mean_area_by_rooms.head(10)"
      ],
      "metadata": {
        "colab": {
          "base_uri": "https://localhost:8080/"
        },
        "id": "dIvwdpNrFRQt",
        "outputId": "9acf55fc-f307-4d04-d460-f89d8a334b3f"
      },
      "execution_count": null,
      "outputs": [
        {
          "output_type": "execute_result",
          "data": {
            "text/plain": [
              "rooms\n",
              "-1     2.4641\n",
              " 1     7.7751\n",
              " 2     8.3158\n",
              " 3     9.8529\n",
              " 4    11.6593\n",
              " 5    14.8101\n",
              " 6    20.1682\n",
              " 7    15.1125\n",
              " 8    22.8364\n",
              " 9    15.1500\n",
              "Name: kitchen_area, dtype: float64"
            ]
          },
          "metadata": {},
          "execution_count": 16
        }
      ]
    },
    {
      "cell_type": "code",
      "source": [
        "for index, row in DF.iterrows(): # Заполняем NaN из признака kitchen_area средним\n",
        "    if pd.isnull(row['kitchen_area']):\n",
        "        DF.at[index, 'kitchen_area'] = mean_area_by_rooms[row['rooms']]"
      ],
      "metadata": {
        "id": "7H8aFObS4Um0"
      },
      "execution_count": null,
      "outputs": []
    },
    {
      "cell_type": "markdown",
      "source": [
        "Дальнейший анализ показал, что в распределении данных есть правосторонняя асимметрия - для такого вида распределения подойдет логарифмическое преобразование. Для этого требуется удалить или добавить константу к строкам со значениями == 0"
      ],
      "metadata": {
        "id": "_QONfzSXrdG7"
      }
    },
    {
      "cell_type": "code",
      "source": [
        "DF[DF['kitchen_area'] == 0].head()"
      ],
      "metadata": {
        "colab": {
          "base_uri": "https://localhost:8080/",
          "height": 357
        },
        "id": "WFDYB1u0raeP",
        "outputId": "00fe0323-feb9-4d0c-a953-f013964a2e53"
      },
      "execution_count": null,
      "outputs": [
        {
          "output_type": "execute_result",
          "data": {
            "text/plain": [
              "          date    price  level  levels  rooms    area  kitchen_area  geo_lat  \\\n",
              "0   2021-01-01  2451300     15      31      1   30.30           0.0  56.7801   \n",
              "11  2021-01-01  5000000      8       9      3  100.00           0.0  57.1046   \n",
              "12  2021-01-01  3214804      5      17     -1   32.44           0.0  55.4624   \n",
              "20  2021-01-01  2435000      5       5      1   49.70           0.0  54.6033   \n",
              "23  2021-01-01  1650000      5       5      2   46.10           0.0  54.2986   \n",
              "\n",
              "    geo_lon building_type object_type postal_code  street_id id_region  \\\n",
              "0   60.6994             0           2    620000.0        NaN        66   \n",
              "11  65.5880             4           0    625046.0   450441.0        72   \n",
              "12  37.7000             0           2    102321.0        NaN        50   \n",
              "20  36.2673             4           0    248031.0   564060.0        40   \n",
              "23  48.3324             0           0    432028.0        NaN        73   \n",
              "\n",
              "     house_id  \n",
              "0   1632918.0  \n",
              "11  2825516.0  \n",
              "12   799789.0  \n",
              "20  2657892.0  \n",
              "23        NaN  "
            ],
            "text/html": [
              "\n",
              "  <div id=\"df-d63464f5-4229-44bc-af8f-c8f221c4e3bc\">\n",
              "    <div class=\"colab-df-container\">\n",
              "      <div>\n",
              "<style scoped>\n",
              "    .dataframe tbody tr th:only-of-type {\n",
              "        vertical-align: middle;\n",
              "    }\n",
              "\n",
              "    .dataframe tbody tr th {\n",
              "        vertical-align: top;\n",
              "    }\n",
              "\n",
              "    .dataframe thead th {\n",
              "        text-align: right;\n",
              "    }\n",
              "</style>\n",
              "<table border=\"1\" class=\"dataframe\">\n",
              "  <thead>\n",
              "    <tr style=\"text-align: right;\">\n",
              "      <th></th>\n",
              "      <th>date</th>\n",
              "      <th>price</th>\n",
              "      <th>level</th>\n",
              "      <th>levels</th>\n",
              "      <th>rooms</th>\n",
              "      <th>area</th>\n",
              "      <th>kitchen_area</th>\n",
              "      <th>geo_lat</th>\n",
              "      <th>geo_lon</th>\n",
              "      <th>building_type</th>\n",
              "      <th>object_type</th>\n",
              "      <th>postal_code</th>\n",
              "      <th>street_id</th>\n",
              "      <th>id_region</th>\n",
              "      <th>house_id</th>\n",
              "    </tr>\n",
              "  </thead>\n",
              "  <tbody>\n",
              "    <tr>\n",
              "      <th>0</th>\n",
              "      <td>2021-01-01</td>\n",
              "      <td>2451300</td>\n",
              "      <td>15</td>\n",
              "      <td>31</td>\n",
              "      <td>1</td>\n",
              "      <td>30.30</td>\n",
              "      <td>0.0</td>\n",
              "      <td>56.7801</td>\n",
              "      <td>60.6994</td>\n",
              "      <td>0</td>\n",
              "      <td>2</td>\n",
              "      <td>620000.0</td>\n",
              "      <td>NaN</td>\n",
              "      <td>66</td>\n",
              "      <td>1632918.0</td>\n",
              "    </tr>\n",
              "    <tr>\n",
              "      <th>11</th>\n",
              "      <td>2021-01-01</td>\n",
              "      <td>5000000</td>\n",
              "      <td>8</td>\n",
              "      <td>9</td>\n",
              "      <td>3</td>\n",
              "      <td>100.00</td>\n",
              "      <td>0.0</td>\n",
              "      <td>57.1046</td>\n",
              "      <td>65.5880</td>\n",
              "      <td>4</td>\n",
              "      <td>0</td>\n",
              "      <td>625046.0</td>\n",
              "      <td>450441.0</td>\n",
              "      <td>72</td>\n",
              "      <td>2825516.0</td>\n",
              "    </tr>\n",
              "    <tr>\n",
              "      <th>12</th>\n",
              "      <td>2021-01-01</td>\n",
              "      <td>3214804</td>\n",
              "      <td>5</td>\n",
              "      <td>17</td>\n",
              "      <td>-1</td>\n",
              "      <td>32.44</td>\n",
              "      <td>0.0</td>\n",
              "      <td>55.4624</td>\n",
              "      <td>37.7000</td>\n",
              "      <td>0</td>\n",
              "      <td>2</td>\n",
              "      <td>102321.0</td>\n",
              "      <td>NaN</td>\n",
              "      <td>50</td>\n",
              "      <td>799789.0</td>\n",
              "    </tr>\n",
              "    <tr>\n",
              "      <th>20</th>\n",
              "      <td>2021-01-01</td>\n",
              "      <td>2435000</td>\n",
              "      <td>5</td>\n",
              "      <td>5</td>\n",
              "      <td>1</td>\n",
              "      <td>49.70</td>\n",
              "      <td>0.0</td>\n",
              "      <td>54.6033</td>\n",
              "      <td>36.2673</td>\n",
              "      <td>4</td>\n",
              "      <td>0</td>\n",
              "      <td>248031.0</td>\n",
              "      <td>564060.0</td>\n",
              "      <td>40</td>\n",
              "      <td>2657892.0</td>\n",
              "    </tr>\n",
              "    <tr>\n",
              "      <th>23</th>\n",
              "      <td>2021-01-01</td>\n",
              "      <td>1650000</td>\n",
              "      <td>5</td>\n",
              "      <td>5</td>\n",
              "      <td>2</td>\n",
              "      <td>46.10</td>\n",
              "      <td>0.0</td>\n",
              "      <td>54.2986</td>\n",
              "      <td>48.3324</td>\n",
              "      <td>0</td>\n",
              "      <td>0</td>\n",
              "      <td>432028.0</td>\n",
              "      <td>NaN</td>\n",
              "      <td>73</td>\n",
              "      <td>NaN</td>\n",
              "    </tr>\n",
              "  </tbody>\n",
              "</table>\n",
              "</div>\n",
              "      <button class=\"colab-df-convert\" onclick=\"convertToInteractive('df-d63464f5-4229-44bc-af8f-c8f221c4e3bc')\"\n",
              "              title=\"Convert this dataframe to an interactive table.\"\n",
              "              style=\"display:none;\">\n",
              "        \n",
              "  <svg xmlns=\"http://www.w3.org/2000/svg\" height=\"24px\"viewBox=\"0 0 24 24\"\n",
              "       width=\"24px\">\n",
              "    <path d=\"M0 0h24v24H0V0z\" fill=\"none\"/>\n",
              "    <path d=\"M18.56 5.44l.94 2.06.94-2.06 2.06-.94-2.06-.94-.94-2.06-.94 2.06-2.06.94zm-11 1L8.5 8.5l.94-2.06 2.06-.94-2.06-.94L8.5 2.5l-.94 2.06-2.06.94zm10 10l.94 2.06.94-2.06 2.06-.94-2.06-.94-.94-2.06-.94 2.06-2.06.94z\"/><path d=\"M17.41 7.96l-1.37-1.37c-.4-.4-.92-.59-1.43-.59-.52 0-1.04.2-1.43.59L10.3 9.45l-7.72 7.72c-.78.78-.78 2.05 0 2.83L4 21.41c.39.39.9.59 1.41.59.51 0 1.02-.2 1.41-.59l7.78-7.78 2.81-2.81c.8-.78.8-2.07 0-2.86zM5.41 20L4 18.59l7.72-7.72 1.47 1.35L5.41 20z\"/>\n",
              "  </svg>\n",
              "      </button>\n",
              "      \n",
              "  <style>\n",
              "    .colab-df-container {\n",
              "      display:flex;\n",
              "      flex-wrap:wrap;\n",
              "      gap: 12px;\n",
              "    }\n",
              "\n",
              "    .colab-df-convert {\n",
              "      background-color: #E8F0FE;\n",
              "      border: none;\n",
              "      border-radius: 50%;\n",
              "      cursor: pointer;\n",
              "      display: none;\n",
              "      fill: #1967D2;\n",
              "      height: 32px;\n",
              "      padding: 0 0 0 0;\n",
              "      width: 32px;\n",
              "    }\n",
              "\n",
              "    .colab-df-convert:hover {\n",
              "      background-color: #E2EBFA;\n",
              "      box-shadow: 0px 1px 2px rgba(60, 64, 67, 0.3), 0px 1px 3px 1px rgba(60, 64, 67, 0.15);\n",
              "      fill: #174EA6;\n",
              "    }\n",
              "\n",
              "    [theme=dark] .colab-df-convert {\n",
              "      background-color: #3B4455;\n",
              "      fill: #D2E3FC;\n",
              "    }\n",
              "\n",
              "    [theme=dark] .colab-df-convert:hover {\n",
              "      background-color: #434B5C;\n",
              "      box-shadow: 0px 1px 3px 1px rgba(0, 0, 0, 0.15);\n",
              "      filter: drop-shadow(0px 1px 2px rgba(0, 0, 0, 0.3));\n",
              "      fill: #FFFFFF;\n",
              "    }\n",
              "  </style>\n",
              "\n",
              "      <script>\n",
              "        const buttonEl =\n",
              "          document.querySelector('#df-d63464f5-4229-44bc-af8f-c8f221c4e3bc button.colab-df-convert');\n",
              "        buttonEl.style.display =\n",
              "          google.colab.kernel.accessAllowed ? 'block' : 'none';\n",
              "\n",
              "        async function convertToInteractive(key) {\n",
              "          const element = document.querySelector('#df-d63464f5-4229-44bc-af8f-c8f221c4e3bc');\n",
              "          const dataTable =\n",
              "            await google.colab.kernel.invokeFunction('convertToInteractive',\n",
              "                                                     [key], {});\n",
              "          if (!dataTable) return;\n",
              "\n",
              "          const docLinkHtml = 'Like what you see? Visit the ' +\n",
              "            '<a target=\"_blank\" href=https://colab.research.google.com/notebooks/data_table.ipynb>data table notebook</a>'\n",
              "            + ' to learn more about interactive tables.';\n",
              "          element.innerHTML = '';\n",
              "          dataTable['output_type'] = 'display_data';\n",
              "          await google.colab.output.renderOutput(dataTable, element);\n",
              "          const docLink = document.createElement('div');\n",
              "          docLink.innerHTML = docLinkHtml;\n",
              "          element.appendChild(docLink);\n",
              "        }\n",
              "      </script>\n",
              "    </div>\n",
              "  </div>\n",
              "  "
            ]
          },
          "metadata": {},
          "execution_count": 18
        }
      ]
    },
    {
      "cell_type": "markdown",
      "source": [
        "В случае с kitchen_area добавим константу == 0.1"
      ],
      "metadata": {
        "id": "REvJuHkNsaei"
      }
    },
    {
      "cell_type": "code",
      "source": [
        "DF.loc[DF['kitchen_area']==0, ['kitchen_area']] = 0.1"
      ],
      "metadata": {
        "id": "Mhd5uEvZsk1-"
      },
      "execution_count": null,
      "outputs": []
    },
    {
      "cell_type": "markdown",
      "source": [
        "В случае с level и levels легче удалить записи, т.к таких строк менее 30"
      ],
      "metadata": {
        "id": "ICqzQsMUuWQs"
      }
    },
    {
      "cell_type": "code",
      "source": [
        "len(DF[DF['level'] == 0])"
      ],
      "metadata": {
        "colab": {
          "base_uri": "https://localhost:8080/"
        },
        "id": "GT0YC55Ir_8r",
        "outputId": "9a9010fe-ff7b-44bf-9676-5b5ec30e7e47"
      },
      "execution_count": null,
      "outputs": [
        {
          "output_type": "execute_result",
          "data": {
            "text/plain": [
              "18"
            ]
          },
          "metadata": {},
          "execution_count": 20
        }
      ]
    },
    {
      "cell_type": "code",
      "source": [
        "DF = DF[DF.level != 0 ].reset_index(drop=True)"
      ],
      "metadata": {
        "id": "3iHaFCw5tWek"
      },
      "execution_count": null,
      "outputs": []
    },
    {
      "cell_type": "code",
      "source": [
        "len(DF[DF['levels'] == 0])"
      ],
      "metadata": {
        "colab": {
          "base_uri": "https://localhost:8080/"
        },
        "id": "f3Ln6GgLsOtR",
        "outputId": "dcd0f8b4-771f-412b-d416-25bb71a46d74"
      },
      "execution_count": null,
      "outputs": [
        {
          "output_type": "execute_result",
          "data": {
            "text/plain": [
              "5"
            ]
          },
          "metadata": {},
          "execution_count": 22
        }
      ]
    },
    {
      "cell_type": "code",
      "source": [
        "DF = DF[DF.levels != 0 ].reset_index(drop=True)"
      ],
      "metadata": {
        "id": "09wth4k9uNnX"
      },
      "execution_count": null,
      "outputs": []
    },
    {
      "cell_type": "markdown",
      "source": [
        "Признак postal_code имеет небольшой процент пропусков. Для их заполнения я избрал аналогичную стратегию - заполнение модой с группировкой по идентификатору региона."
      ],
      "metadata": {
        "id": "f9SQHEVS6Pit"
      }
    },
    {
      "cell_type": "code",
      "source": [
        "mode_postal_code_by_region = DF.groupby('id_region')['postal_code'].apply(lambda x: x.mode()[0])\n",
        "for index, row in DF.iterrows():\n",
        "    if pd.isnull(row['postal_code']):\n",
        "        DF.at[index, 'postal_code'] = mode_postal_code_by_region[row['id_region']]"
      ],
      "metadata": {
        "id": "D-_ZBhd362Du"
      },
      "execution_count": null,
      "outputs": []
    },
    {
      "cell_type": "markdown",
      "source": [
        "Заданную метку \"-1\" для квартир-студий в признаке \"rooms\" стоит переобозначить, как \"1\", если мы относим этот признак к числовым и хотим создать модель регресии. Квартира-студия = однушка, только с минимальной долей площади кухни."
      ],
      "metadata": {
        "id": "IpNrvveUaXib"
      }
    },
    {
      "cell_type": "code",
      "source": [
        "DF.loc[DF['rooms']==-1, ['rooms']] = 1.0"
      ],
      "metadata": {
        "id": "xz2PbL8vbe7B"
      },
      "execution_count": null,
      "outputs": []
    },
    {
      "cell_type": "markdown",
      "source": [
        "Признак house_id имеет большой процент пропусков + данные по этажности отдельного здания часто не имеют общего значения (ошибки ввода?), что не позволяет говорить о том одно и тоже это здание или нет. Я принял решение удалить этот признак"
      ],
      "metadata": {
        "id": "4UqnYqduLQNZ"
      }
    },
    {
      "cell_type": "markdown",
      "source": [
        "Так же стоит удалить признак street_id по причине значительного процента пропусков (34%)"
      ],
      "metadata": {
        "id": "jMDRtWm0Oh7I"
      }
    },
    {
      "cell_type": "code",
      "source": [
        "DF = DF.drop(columns = ['house_id', 'street_id'], axis = 1)"
      ],
      "metadata": {
        "id": "i0XEKYxEPCXU"
      },
      "execution_count": null,
      "outputs": []
    },
    {
      "cell_type": "code",
      "source": [
        "cat_columns = [] # определяем категиральные признаки\n",
        "num_columns = [] # определяем числовые признаки\n",
        "\n",
        "for column_name in DF.columns:\n",
        "    if (DF[column_name].dtypes == object):\n",
        "        cat_columns +=[column_name]\n",
        "    else:\n",
        "        num_columns +=[column_name]\n",
        "\n",
        "print('categorical columns:\\t ',cat_columns, '\\n len = ',len(cat_columns))\n",
        "\n",
        "print('numerical columns:\\t ',  num_columns, '\\n len = ',len(num_columns))"
      ],
      "metadata": {
        "colab": {
          "base_uri": "https://localhost:8080/"
        },
        "id": "vgZB7qpgGC3I",
        "outputId": "1029ac18-944e-48be-fae4-f9725957378d"
      },
      "execution_count": null,
      "outputs": [
        {
          "output_type": "stream",
          "name": "stdout",
          "text": [
            "categorical columns:\t  ['date', 'building_type', 'object_type', 'postal_code', 'id_region'] \n",
            " len =  5\n",
            "numerical columns:\t  ['price', 'level', 'levels', 'rooms', 'area', 'kitchen_area', 'geo_lat', 'geo_lon'] \n",
            " len =  8\n"
          ]
        }
      ]
    },
    {
      "cell_type": "markdown",
      "source": [
        "### 1.3 Базовая визуалиция"
      ],
      "metadata": {
        "id": "G1yBc2OnOzRK"
      }
    },
    {
      "cell_type": "markdown",
      "source": [
        "Далее стоит рассмотреть графики распределения признаков.  \n",
        "Распределение целевого признака 'price' ассиметрично, напоминает экпоненциальное"
      ],
      "metadata": {
        "id": "Cwr9K5CTlm--"
      }
    },
    {
      "cell_type": "code",
      "source": [
        "for col in DF[[col for col in num_columns]]:\n",
        "    sns.countplot(x=DF[col], data=DF[col]);\n",
        "    plt.show()"
      ],
      "metadata": {
        "colab": {
          "base_uri": "https://localhost:8080/",
          "height": 1000
        },
        "id": "sF-ZOH70CojX",
        "outputId": "3fd88503-d703-46b7-a9fb-1a9acb897406"
      },
      "execution_count": null,
      "outputs": [
        {
          "output_type": "display_data",
          "data": {
            "text/plain": [
              "<Figure size 1170x827 with 1 Axes>"
            ],
            "image/png": "[encoded data removed]"
          },
          "metadata": {}
        },
        {
          "output_type": "display_data",
          "data": {
            "text/plain": [
              "<Figure size 1170x827 with 1 Axes>"
            ],
            "image/png": "[encoded data removed]"
          },
          "metadata": {}
        },
        {
          "output_type": "display_data",
          "data": {
            "text/plain": [
              "<Figure size 1170x827 with 1 Axes>"
            ],
            "image/png": "[encoded data removed]"
          },
          "metadata": {}
        },
        {
          "output_type": "display_data",
          "data": {
            "text/plain": [
              "<Figure size 1170x827 with 1 Axes>"
            ],
            "image/png": "[encoded data removed]"
          },
          "metadata": {}
        },
        {
          "output_type": "display_data",
          "data": {
            "text/plain": [
              "<Figure size 1170x827 with 1 Axes>"
            ],
            "image/png": "[encoded data removed]"
          },
          "metadata": {}
        },
        {
          "output_type": "display_data",
          "data": {
            "text/plain": [
              "<Figure size 1170x827 with 1 Axes>"
            ],
            "image/png": "[encoded data removed]"
          },
          "metadata": {}
        },
        {
          "output_type": "display_data",
          "data": {
            "text/plain": [
              "<Figure size 1170x827 with 1 Axes>"
            ],
            "image/png": "[encoded data removed]"
          },
          "metadata": {}
        },
        {
          "output_type": "display_data",
          "data": {
            "text/plain": [
              "<Figure size 1170x827 with 1 Axes>"
            ],
            "image/png": "[encoded data removed]"
          },
          "metadata": {}
        },
        {
          "output_type": "display_data",
          "data": {
            "text/plain": [
              "<Figure size 1170x827 with 1 Axes>"
            ],
            "image/png": "[encoded data removed]"
          },
          "metadata": {}
        },
        {
          "output_type": "display_data",
          "data": {
            "text/plain": [
              "<Figure size 1170x827 with 1 Axes>"
            ],
            "image/png": "[encoded data removed]"
          },
          "metadata": {}
        },
        {
          "output_type": "display_data",
          "data": {
            "text/plain": [
              "<Figure size 1170x827 with 1 Axes>"
            ],
            "image/png": "[encoded data removed]"
          },
          "metadata": {}
        },
        {
          "output_type": "display_data",
          "data": {
            "text/plain": [
              "<Figure size 1170x827 with 1 Axes>"
            ],
            "image/png": "[encoded data removed]"
          },
          "metadata": {}
        }
      ]
    },
    {
      "cell_type": "markdown",
      "source": [
        "Сильно коррелирующий признаков с целевой переменной \"price\" не обнаружено. Однако заметно коррелируют между собой level и levels (что очевидно), rooms и area (что тоже очевидно) и неменее заметно area и kitchen_area. Под вопросом условие отсутствия мультиколлинеарности между признаками."
      ],
      "metadata": {
        "id": "ksd1XO1uQlbM"
      }
    },
    {
      "cell_type": "code",
      "source": [
        "corr_matrix = DF[num_columns].corr()\n",
        "plt.figure(figsize=(11,6))\n",
        "sns.heatmap(corr_matrix, annot=True)\n",
        "plt.show()"
      ],
      "metadata": {
        "colab": {
          "base_uri": "https://localhost:8080/",
          "height": 534
        },
        "id": "VnCBsLv2c5Yg",
        "outputId": "bfb23966-9ffd-4d73-bf96-bfde8a3b1a47"
      },
      "execution_count": null,
      "outputs": [
        {
          "output_type": "display_data",
          "data": {
            "text/plain": [
              "<Figure size 1100x600 with 2 Axes>"
            ],
            "image/png": "[encoded data removed]"
          },
          "metadata": {}
        }
      ]
    },
    {
      "cell_type": "markdown",
      "source": [
        "### 1.4. Работа с выборосами"
      ],
      "metadata": {
        "id": "NdstzwzfFVQd"
      }
    },
    {
      "cell_type": "code",
      "source": [
        "fig, ax = plt.subplots(nrows=8, ncols=1, figsize=(9,25))\n",
        "\n",
        "for idx, column_name in enumerate(num_columns):\n",
        "\n",
        "    plt.subplot(8,1, idx+1)\n",
        "    sns.boxplot(data=DF,\n",
        "            x=column_name);"
      ],
      "metadata": {
        "colab": {
          "base_uri": "https://localhost:8080/",
          "height": 1000
        },
        "id": "hAgD_z8hFTmy",
        "outputId": "8e9f0c86-4743-4ac7-c54d-95e131f06c14"
      },
      "execution_count": null,
      "outputs": [
        {
          "output_type": "display_data",
          "data": {
            "text/plain": [
              "<Figure size 900x2500 with 8 Axes>"
            ],
            "image/png": "[encoded data removed]"
          },
          "metadata": {}
        }
      ]
    },
    {
      "cell_type": "markdown",
      "source": [
        "Только в случае с некоторыми экстремальными значениями в price и kitchen_area мы можем говорить о присутствии выбросов. Экстремальные значения в остальных признаках вполне могут быть реальными данными."
      ],
      "metadata": {
        "id": "NSlRuYFQbuxZ"
      }
    },
    {
      "cell_type": "markdown",
      "source": [
        "Для выбросов опробуем две стратегии: удаление и игнорирование"
      ],
      "metadata": {
        "id": "sI5Ltb1WHjP4"
      }
    },
    {
      "cell_type": "code",
      "source": [
        "def search_outliers(feature):\n",
        "    \"\"\"Функция принимает набор значений 1-го признака и\n",
        "    возвращает массив индексов тех значений, которые являются выбросами\"\"\"\n",
        "    q1, q3 = np.percentile(feature, [25, 75])\n",
        "    iqr = q3 - q1\n",
        "    lower_bound = q1 - 1.5 * iqr\n",
        "    upper_bound = q3 + 1.5 * iqr\n",
        "    return np.where((feature < lower_bound) | (feature > upper_bound))[0]"
      ],
      "metadata": {
        "id": "Bw5JghsUGEUC"
      },
      "execution_count": null,
      "outputs": []
    },
    {
      "cell_type": "code",
      "source": [
        "for feature in num_columns:\n",
        "    sum_outliers = len(search_outliers(DF[feature]))\n",
        "    print(f\"Признак {feature} содержит {sum_outliers} выбросов из {DF[feature].shape[0]} наблюдений\")"
      ],
      "metadata": {
        "colab": {
          "base_uri": "https://localhost:8080/"
        },
        "id": "ZrE4WCkvGK_x",
        "outputId": "99b67306-c441-45a7-9960-b52883d879cc"
      },
      "execution_count": null,
      "outputs": [
        {
          "output_type": "stream",
          "name": "stdout",
          "text": [
            "Признак price содержит 10331 выбросов из 112237 наблюдений\n",
            "Признак level содержит 3569 выбросов из 112237 наблюдений\n",
            "Признак levels содержит 1150 выбросов из 112237 наблюдений\n",
            "Признак rooms содержит 39 выбросов из 112237 наблюдений\n",
            "Признак area содержит 4737 выбросов из 112237 наблюдений\n",
            "Признак kitchen_area содержит 3738 выбросов из 112237 наблюдений\n",
            "Признак geo_lat содержит 14893 выбросов из 112237 наблюдений\n",
            "Признак geo_lon содержит 4804 выбросов из 112237 наблюдений\n"
          ]
        }
      ]
    },
    {
      "cell_type": "markdown",
      "source": [
        "### Метод удаления выбросов"
      ],
      "metadata": {
        "id": "NRAEcFJUPE2O"
      }
    },
    {
      "cell_type": "code",
      "source": [
        "def search_outliers_new(old_feature, new_feature):\n",
        "    \"\"\"Функция принимает набор значений 1-го признака каким он был до удаления выбросов,\n",
        "    чтобы корректно расчитать границы выбросов\n",
        "    И набор значений того же признака после удаления выбросов\n",
        "    Возвращает массив индексов тех значений, которые являются выбросами\"\"\"\n",
        "    q1, q3 = np.percentile(old_feature, [25, 75])\n",
        "    iqr = q3 - q1\n",
        "    lower_bound = q1 - 1.5 * iqr\n",
        "    upper_bound = q3 + 1.5 * iqr\n",
        "    return np.where((new_feature < lower_bound) | (new_feature > upper_bound))[0]"
      ],
      "metadata": {
        "id": "VKY6dEzamgrM"
      },
      "execution_count": null,
      "outputs": []
    },
    {
      "cell_type": "code",
      "source": [
        "DF_del_vibros = DF.copy()\n",
        "drop_index = np.array([])\n",
        "print(DF_del_vibros.shape)\n",
        "for feature in num_columns:\n",
        "    drop_index = np.hstack((drop_index, search_outliers(DF_del_vibros[feature])))\n",
        "DF_del_vibros.drop(drop_index, inplace=True)\n",
        "print(DF_del_vibros.shape)"
      ],
      "metadata": {
        "colab": {
          "base_uri": "https://localhost:8080/"
        },
        "id": "Y3-VN2xjmncD",
        "outputId": "abc64fda-ab61-4b19-af67-6a70a12a1364"
      },
      "execution_count": null,
      "outputs": [
        {
          "output_type": "stream",
          "name": "stdout",
          "text": [
            "(112237, 13)\n",
            "(78079, 13)\n"
          ]
        }
      ]
    },
    {
      "cell_type": "code",
      "source": [
        "for feature in num_columns:\n",
        "    sum_outliers = len(search_outliers_new(DF[feature], DF_del_vibros[feature]))\n",
        "    print(f\"Признак {feature} содержит {sum_outliers} выбросов из {DF_del_vibros[feature].shape[0]} наблюдений\")"
      ],
      "metadata": {
        "colab": {
          "base_uri": "https://localhost:8080/"
        },
        "id": "K4TcA6YSQpDZ",
        "outputId": "df417d53-7f9e-4981-db42-3120b21cb5a6"
      },
      "execution_count": null,
      "outputs": [
        {
          "output_type": "stream",
          "name": "stdout",
          "text": [
            "Признак price содержит 0 выбросов из 78079 наблюдений\n",
            "Признак level содержит 0 выбросов из 78079 наблюдений\n",
            "Признак levels содержит 0 выбросов из 78079 наблюдений\n",
            "Признак rooms содержит 0 выбросов из 78079 наблюдений\n",
            "Признак area содержит 0 выбросов из 78079 наблюдений\n",
            "Признак kitchen_area содержит 0 выбросов из 78079 наблюдений\n",
            "Признак geo_lat содержит 0 выбросов из 78079 наблюдений\n",
            "Признак geo_lon содержит 0 выбросов из 78079 наблюдений\n"
          ]
        }
      ]
    },
    {
      "cell_type": "markdown",
      "source": [
        "### 1.5 Методы предварительной обработки данных"
      ],
      "metadata": {
        "id": "pj-lfhamP0ko"
      }
    },
    {
      "cell_type": "markdown",
      "source": [
        "Чисто визуально кажется что числовые признаки распределены НЕ нормально, однако чтобы удостовериться проведем тест Колмагорова-Смирнова"
      ],
      "metadata": {
        "id": "d-glS77eRbGH"
      }
    },
    {
      "cell_type": "code",
      "source": [
        "from scipy.stats import kstest\n",
        "\n",
        "# для данных с выбросами\n",
        "for feature in num_columns:\n",
        "     statistic, pvalue = kstest(DF[feature], 'norm')\n",
        "     print(feature, pvalue)"
      ],
      "metadata": {
        "colab": {
          "base_uri": "https://localhost:8080/"
        },
        "id": "oOnAJ-rUQZ1Q",
        "outputId": "928cec3f-9a5f-4423-a8f3-e1141ba415eb"
      },
      "execution_count": null,
      "outputs": [
        {
          "output_type": "stream",
          "name": "stdout",
          "text": [
            "price 0.0\n",
            "level 0.0\n",
            "levels 0.0\n",
            "rooms 0.0\n",
            "area 0.0\n",
            "kitchen_area 0.0\n",
            "geo_lat 0.0\n",
            "geo_lon 0.0\n"
          ]
        }
      ]
    },
    {
      "cell_type": "code",
      "source": [
        "# для данных без выбросов\n",
        "for feature in num_columns:\n",
        "     statistic, pvalue = kstest(DF_del_vibros[feature], 'norm')\n",
        "     print(feature, pvalue)"
      ],
      "metadata": {
        "colab": {
          "base_uri": "https://localhost:8080/"
        },
        "id": "ugGnmp2Fnoxx",
        "outputId": "e2beb80f-ca69-4ba8-f7ab-2fbda635e696"
      },
      "execution_count": null,
      "outputs": [
        {
          "output_type": "stream",
          "name": "stdout",
          "text": [
            "price 0.0\n",
            "level 0.0\n",
            "levels 0.0\n",
            "rooms 0.0\n",
            "area 0.0\n",
            "kitchen_area 0.0\n",
            "geo_lat 0.0\n",
            "geo_lon 0.0\n"
          ]
        }
      ]
    },
    {
      "cell_type": "markdown",
      "source": [
        "Распределелние каждого признака значимо отличается от нормального"
      ],
      "metadata": {
        "id": "iAOlpjigRve9"
      }
    },
    {
      "cell_type": "markdown",
      "source": [
        "### Логарифмирование значений"
      ],
      "metadata": {
        "id": "BHiPSKgkR5_N"
      }
    },
    {
      "cell_type": "code",
      "source": [
        "# для данных с выбросами\n",
        "df_power  = DF.copy()\n",
        "df_power[num_columns] = np.log(df_power[num_columns])"
      ],
      "metadata": {
        "id": "d2BPacRPSExW"
      },
      "execution_count": null,
      "outputs": []
    },
    {
      "cell_type": "code",
      "source": [
        "df_power.head()"
      ],
      "metadata": {
        "colab": {
          "base_uri": "https://localhost:8080/",
          "height": 250
        },
        "id": "E59up0eZVEnW",
        "outputId": "0f3e9758-f53d-4df7-ec86-03cca47c163c"
      },
      "execution_count": null,
      "outputs": [
        {
          "output_type": "execute_result",
          "data": {
            "text/plain": [
              "         date    price   level  levels   rooms    area  kitchen_area  geo_lat  \\\n",
              "0  2021-01-01  14.7121  2.7081  3.4340  0.0000  3.4111       -2.3026   4.0392   \n",
              "1  2021-01-01  14.1871  1.6094  1.6094  0.0000  3.4965        1.7918   3.7979   \n",
              "2  2021-01-01  16.1858  1.3863  2.5649  1.0986  4.4427        2.4849   4.0171   \n",
              "3  2021-01-01  14.9469  1.0986  1.6094  1.0986  4.4067        2.1972   3.7979   \n",
              "4  2021-01-01  14.7318  0.6931  1.0986  0.0000  3.4012        2.1972   3.8008   \n",
              "\n",
              "   geo_lon building_type object_type postal_code id_region  \n",
              "0   4.1059             0           2    620000.0        66  \n",
              "1   3.6923             0           0    385000.0         1  \n",
              "2   3.6303             3           0    142701.0        50  \n",
              "3   3.6923             0           0    385000.0         1  \n",
              "4   3.6300             3           2    353960.0        23  "
            ],
            "text/html": [
              "\n",
              "  <div id=\"df-c3dc1d90-fb67-4bbb-8871-5ff0c57567d4\">\n",
              "    <div class=\"colab-df-container\">\n",
              "      <div>\n",
              "<style scoped>\n",
              "    .dataframe tbody tr th:only-of-type {\n",
              "        vertical-align: middle;\n",
              "    }\n",
              "\n",
              "    .dataframe tbody tr th {\n",
              "        vertical-align: top;\n",
              "    }\n",
              "\n",
              "    .dataframe thead th {\n",
              "        text-align: right;\n",
              "    }\n",
              "</style>\n",
              "<table border=\"1\" class=\"dataframe\">\n",
              "  <thead>\n",
              "    <tr style=\"text-align: right;\">\n",
              "      <th></th>\n",
              "      <th>date</th>\n",
              "      <th>price</th>\n",
              "      <th>level</th>\n",
              "      <th>levels</th>\n",
              "      <th>rooms</th>\n",
              "      <th>area</th>\n",
              "      <th>kitchen_area</th>\n",
              "      <th>geo_lat</th>\n",
              "      <th>geo_lon</th>\n",
              "      <th>building_type</th>\n",
              "      <th>object_type</th>\n",
              "      <th>postal_code</th>\n",
              "      <th>id_region</th>\n",
              "    </tr>\n",
              "  </thead>\n",
              "  <tbody>\n",
              "    <tr>\n",
              "      <th>0</th>\n",
              "      <td>2021-01-01</td>\n",
              "      <td>14.7121</td>\n",
              "      <td>2.7081</td>\n",
              "      <td>3.4340</td>\n",
              "      <td>0.0000</td>\n",
              "      <td>3.4111</td>\n",
              "      <td>-2.3026</td>\n",
              "      <td>4.0392</td>\n",
              "      <td>4.1059</td>\n",
              "      <td>0</td>\n",
              "      <td>2</td>\n",
              "      <td>620000.0</td>\n",
              "      <td>66</td>\n",
              "    </tr>\n",
              "    <tr>\n",
              "      <th>1</th>\n",
              "      <td>2021-01-01</td>\n",
              "      <td>14.1871</td>\n",
              "      <td>1.6094</td>\n",
              "      <td>1.6094</td>\n",
              "      <td>0.0000</td>\n",
              "      <td>3.4965</td>\n",
              "      <td>1.7918</td>\n",
              "      <td>3.7979</td>\n",
              "      <td>3.6923</td>\n",
              "      <td>0</td>\n",
              "      <td>0</td>\n",
              "      <td>385000.0</td>\n",
              "      <td>1</td>\n",
              "    </tr>\n",
              "    <tr>\n",
              "      <th>2</th>\n",
              "      <td>2021-01-01</td>\n",
              "      <td>16.1858</td>\n",
              "      <td>1.3863</td>\n",
              "      <td>2.5649</td>\n",
              "      <td>1.0986</td>\n",
              "      <td>4.4427</td>\n",
              "      <td>2.4849</td>\n",
              "      <td>4.0171</td>\n",
              "      <td>3.6303</td>\n",
              "      <td>3</td>\n",
              "      <td>0</td>\n",
              "      <td>142701.0</td>\n",
              "      <td>50</td>\n",
              "    </tr>\n",
              "    <tr>\n",
              "      <th>3</th>\n",
              "      <td>2021-01-01</td>\n",
              "      <td>14.9469</td>\n",
              "      <td>1.0986</td>\n",
              "      <td>1.6094</td>\n",
              "      <td>1.0986</td>\n",
              "      <td>4.4067</td>\n",
              "      <td>2.1972</td>\n",
              "      <td>3.7979</td>\n",
              "      <td>3.6923</td>\n",
              "      <td>0</td>\n",
              "      <td>0</td>\n",
              "      <td>385000.0</td>\n",
              "      <td>1</td>\n",
              "    </tr>\n",
              "    <tr>\n",
              "      <th>4</th>\n",
              "      <td>2021-01-01</td>\n",
              "      <td>14.7318</td>\n",
              "      <td>0.6931</td>\n",
              "      <td>1.0986</td>\n",
              "      <td>0.0000</td>\n",
              "      <td>3.4012</td>\n",
              "      <td>2.1972</td>\n",
              "      <td>3.8008</td>\n",
              "      <td>3.6300</td>\n",
              "      <td>3</td>\n",
              "      <td>2</td>\n",
              "      <td>353960.0</td>\n",
              "      <td>23</td>\n",
              "    </tr>\n",
              "  </tbody>\n",
              "</table>\n",
              "</div>\n",
              "      <button class=\"colab-df-convert\" onclick=\"convertToInteractive('df-c3dc1d90-fb67-4bbb-8871-5ff0c57567d4')\"\n",
              "              title=\"Convert this dataframe to an interactive table.\"\n",
              "              style=\"display:none;\">\n",
              "        \n",
              "  <svg xmlns=\"http://www.w3.org/2000/svg\" height=\"24px\"viewBox=\"0 0 24 24\"\n",
              "       width=\"24px\">\n",
              "    <path d=\"M0 0h24v24H0V0z\" fill=\"none\"/>\n",
              "    <path d=\"M18.56 5.44l.94 2.06.94-2.06 2.06-.94-2.06-.94-.94-2.06-.94 2.06-2.06.94zm-11 1L8.5 8.5l.94-2.06 2.06-.94-2.06-.94L8.5 2.5l-.94 2.06-2.06.94zm10 10l.94 2.06.94-2.06 2.06-.94-2.06-.94-.94-2.06-.94 2.06-2.06.94z\"/><path d=\"M17.41 7.96l-1.37-1.37c-.4-.4-.92-.59-1.43-.59-.52 0-1.04.2-1.43.59L10.3 9.45l-7.72 7.72c-.78.78-.78 2.05 0 2.83L4 21.41c.39.39.9.59 1.41.59.51 0 1.02-.2 1.41-.59l7.78-7.78 2.81-2.81c.8-.78.8-2.07 0-2.86zM5.41 20L4 18.59l7.72-7.72 1.47 1.35L5.41 20z\"/>\n",
              "  </svg>\n",
              "      </button>\n",
              "      \n",
              "  <style>\n",
              "    .colab-df-container {\n",
              "      display:flex;\n",
              "      flex-wrap:wrap;\n",
              "      gap: 12px;\n",
              "    }\n",
              "\n",
              "    .colab-df-convert {\n",
              "      background-color: #E8F0FE;\n",
              "      border: none;\n",
              "      border-radius: 50%;\n",
              "      cursor: pointer;\n",
              "      display: none;\n",
              "      fill: #1967D2;\n",
              "      height: 32px;\n",
              "      padding: 0 0 0 0;\n",
              "      width: 32px;\n",
              "    }\n",
              "\n",
              "    .colab-df-convert:hover {\n",
              "      background-color: #E2EBFA;\n",
              "      box-shadow: 0px 1px 2px rgba(60, 64, 67, 0.3), 0px 1px 3px 1px rgba(60, 64, 67, 0.15);\n",
              "      fill: #174EA6;\n",
              "    }\n",
              "\n",
              "    [theme=dark] .colab-df-convert {\n",
              "      background-color: #3B4455;\n",
              "      fill: #D2E3FC;\n",
              "    }\n",
              "\n",
              "    [theme=dark] .colab-df-convert:hover {\n",
              "      background-color: #434B5C;\n",
              "      box-shadow: 0px 1px 3px 1px rgba(0, 0, 0, 0.15);\n",
              "      filter: drop-shadow(0px 1px 2px rgba(0, 0, 0, 0.3));\n",
              "      fill: #FFFFFF;\n",
              "    }\n",
              "  </style>\n",
              "\n",
              "      <script>\n",
              "        const buttonEl =\n",
              "          document.querySelector('#df-c3dc1d90-fb67-4bbb-8871-5ff0c57567d4 button.colab-df-convert');\n",
              "        buttonEl.style.display =\n",
              "          google.colab.kernel.accessAllowed ? 'block' : 'none';\n",
              "\n",
              "        async function convertToInteractive(key) {\n",
              "          const element = document.querySelector('#df-c3dc1d90-fb67-4bbb-8871-5ff0c57567d4');\n",
              "          const dataTable =\n",
              "            await google.colab.kernel.invokeFunction('convertToInteractive',\n",
              "                                                     [key], {});\n",
              "          if (!dataTable) return;\n",
              "\n",
              "          const docLinkHtml = 'Like what you see? Visit the ' +\n",
              "            '<a target=\"_blank\" href=https://colab.research.google.com/notebooks/data_table.ipynb>data table notebook</a>'\n",
              "            + ' to learn more about interactive tables.';\n",
              "          element.innerHTML = '';\n",
              "          dataTable['output_type'] = 'display_data';\n",
              "          await google.colab.output.renderOutput(dataTable, element);\n",
              "          const docLink = document.createElement('div');\n",
              "          docLink.innerHTML = docLinkHtml;\n",
              "          element.appendChild(docLink);\n",
              "        }\n",
              "      </script>\n",
              "    </div>\n",
              "  </div>\n",
              "  "
            ]
          },
          "metadata": {},
          "execution_count": 41
        }
      ]
    },
    {
      "cell_type": "code",
      "source": [
        "# для данных с выбросами\n",
        "for feature in num_columns:\n",
        "     statistic, pvalue = kstest(df_power[feature], 'norm')\n",
        "     print(feature, pvalue)"
      ],
      "metadata": {
        "colab": {
          "base_uri": "https://localhost:8080/"
        },
        "id": "8DW_D7pITx0q",
        "outputId": "cfd742fe-9f35-416f-ce28-d5dceb3ae15c"
      },
      "execution_count": null,
      "outputs": [
        {
          "output_type": "stream",
          "name": "stdout",
          "text": [
            "price 0.0\n",
            "level 0.0\n",
            "levels 0.0\n",
            "rooms 0.0\n",
            "area 0.0\n",
            "kitchen_area 0.0\n",
            "geo_lat 0.0\n",
            "geo_lon 0.0\n"
          ]
        }
      ]
    },
    {
      "cell_type": "markdown",
      "source": [
        "Распределение значений признака и целевой переменной является НЕ нормальным."
      ],
      "metadata": {
        "id": "urQBYBprgU7v"
      }
    },
    {
      "cell_type": "code",
      "source": [
        "# для данных БЕЗ выборосов\n",
        "df_del_power  = DF_del_vibros.copy()\n",
        "df_del_power[num_columns] = np.log(df_del_power[num_columns])"
      ],
      "metadata": {
        "id": "zvcY523AnxfV"
      },
      "execution_count": null,
      "outputs": []
    },
    {
      "cell_type": "code",
      "source": [
        "for feature in num_columns:\n",
        "     statistic, pvalue = kstest(df_del_power[feature], 'norm')\n",
        "     print(feature, pvalue)"
      ],
      "metadata": {
        "colab": {
          "base_uri": "https://localhost:8080/"
        },
        "id": "0WiwxeZ8n96D",
        "outputId": "e91dd472-e3a8-4fea-ded4-64b867b003f2"
      },
      "execution_count": null,
      "outputs": [
        {
          "output_type": "stream",
          "name": "stdout",
          "text": [
            "price 0.0\n",
            "level 0.0\n",
            "levels 0.0\n",
            "rooms 0.0\n",
            "area 0.0\n",
            "kitchen_area 0.0\n",
            "geo_lat 0.0\n",
            "geo_lon 0.0\n"
          ]
        }
      ]
    },
    {
      "cell_type": "markdown",
      "source": [
        "Распределение значений признака и целевой переменной даже после удаления выбросов нельзя назвать нормальным."
      ],
      "metadata": {
        "id": "p3V0KrImhMtp"
      }
    },
    {
      "cell_type": "markdown",
      "source": [
        "## 2.Регрессия методом к-Ближайших Соседей (С выбросами)"
      ],
      "metadata": {
        "id": "Pn5cSb_MMLEz"
      }
    },
    {
      "cell_type": "code",
      "source": [
        "from sklearn.neighbors import KNeighborsRegressor # Регрессия К-Ближайших соседей от scikit-learn\n",
        "\n",
        "from sklearn.model_selection import train_test_split\n",
        "from sklearn.model_selection import cross_validate\n",
        "from sklearn.model_selection import ShuffleSplit # при кросс-валидации случайно перемешиваем данные\n",
        "\n",
        "from sklearn.metrics import mean_squared_error as mse # метрика MSE от Scikit-learn\n",
        "from sklearn.metrics import r2_score # коэффициент детерминации  от Scikit-learn\n",
        "from sklearn.metrics import mean_absolute_error as mae # в кач-ве дополнительной метрики возьмем MAE от Scikit-learn"
      ],
      "metadata": {
        "id": "HYRhsGywYBDg"
      },
      "execution_count": null,
      "outputs": []
    },
    {
      "cell_type": "code",
      "source": [
        "df_num = DF[num_columns].copy() # берем, например только числовые данные\n",
        "\n",
        "# не забываем удалить целевую переменную цену из признаков\n",
        "X,y = df_num.drop(columns = ['price']).values,df_num['price'].values\n",
        "\n",
        "# разбиваем на тестовую и тренировочную\n",
        "X_train, X_test, y_train, y_test = train_test_split(X, y, test_size=0.3, random_state=42)"
      ],
      "metadata": {
        "id": "lxMjM-cpYThS"
      },
      "execution_count": null,
      "outputs": []
    },
    {
      "cell_type": "code",
      "source": [
        "#@title Гиперпараметры к-Ближайших Соседей{ run: \"auto\" }\n",
        "#@markdown ### количество соседей\n",
        "k = 8 #@param {type:\"slider\", min:1, max:20, step:1}\n",
        "#@markdown ### тип весов\n",
        "weights = 'distance' #@param [ 'uniform', 'distance']{type:\"string\"}\n",
        "\n",
        "\n",
        "# создаем объект класса с указанием гиперпараметров\n",
        "kNN = KNeighborsRegressor(n_neighbors=k,\n",
        "                          weights=weights )\n",
        "\n",
        "# обучаем на тренировочных данных\n",
        "kNN.fit(X_train, y_train)\n",
        "\n",
        "# предсказываем на тестовых данных\n",
        "y_predict=kNN.predict(X_test)\n",
        "\n",
        "# выбираем метрики которые будем оценивать\n",
        "# в виде словаря\n",
        "scoring = {'R2': 'r2',\n",
        "           '-MSE': 'neg_mean_squared_error',\n",
        "           '-MAE': 'neg_mean_absolute_error',\n",
        "           'Max': 'max_error'}\n",
        "\n",
        "# используем функцию кросс-валидации\n",
        "\n",
        "scores = cross_validate(kNN, # какую модель тестируем\n",
        "                        X_train, y_train, # на каких данных\n",
        "                      scoring=scoring,  #на каких метриках\n",
        "                      # как разбиваем данные при кросс-валидации\n",
        "                      cv=ShuffleSplit(n_splits=5, random_state=42))\n",
        "\n",
        "\n",
        "print('Результаты Кросс-валидации')\n",
        "DF_cv_kNN = pd.DataFrame(scores)\n",
        "display(DF_cv_kNN)\n",
        "print('\\n')\n",
        "print(DF_cv_kNN.mean()[2:])\n",
        "\n",
        "print('Ошибка на тестовых данных')\n",
        "print('MSE: %.1f' % mse(y_test,y_predict))\n",
        "print('RMSE: %.1f' % mse(y_test,y_predict,squared=False))\n",
        "print('MAE: %.1f' % mae(y_test,y_predict))\n",
        "\n",
        "\n",
        "print('R2 : %.4f' %  r2_score(y_test,y_predict))"
      ],
      "metadata": {
        "colab": {
          "base_uri": "https://localhost:8080/",
          "height": 431
        },
        "id": "O3W0dXgNcvo4",
        "outputId": "6affe100-b9ea-4a8c-c2eb-ab96ae7b6bb8"
      },
      "execution_count": null,
      "outputs": [
        {
          "output_type": "stream",
          "name": "stdout",
          "text": [
            "Результаты Кросс-валидации\n"
          ]
        },
        {
          "output_type": "display_data",
          "data": {
            "text/plain": [
              "   fit_time  score_time    test_R2   test_-MSE   test_-MAE    test_Max\n",
              "0    0.1026      0.2608 -5492.4401 -6.3769e+17 -1.0979e+07 -7.0776e+10\n",
              "1    0.1011      0.2764     0.1609 -7.8031e+13 -1.7964e+06 -4.4177e+08\n",
              "2    0.1019      0.2931    -0.2385 -2.3486e+14 -2.0216e+06 -1.0703e+09\n",
              "3    0.1037      0.2717     0.2672 -1.0766e+14 -1.9697e+06 -5.4137e+08\n",
              "4    0.1257      0.2759     0.3244 -8.2634e+13 -1.8235e+06 -5.6329e+08"
            ],
            "text/html": [
              "\n",
              "  <div id=\"df-51f3d313-da4b-4cca-9af6-9d8005b4322d\">\n",
              "    <div class=\"colab-df-container\">\n",
              "      <div>\n",
              "<style scoped>\n",
              "    .dataframe tbody tr th:only-of-type {\n",
              "        vertical-align: middle;\n",
              "    }\n",
              "\n",
              "    .dataframe tbody tr th {\n",
              "        vertical-align: top;\n",
              "    }\n",
              "\n",
              "    .dataframe thead th {\n",
              "        text-align: right;\n",
              "    }\n",
              "</style>\n",
              "<table border=\"1\" class=\"dataframe\">\n",
              "  <thead>\n",
              "    <tr style=\"text-align: right;\">\n",
              "      <th></th>\n",
              "      <th>fit_time</th>\n",
              "      <th>score_time</th>\n",
              "      <th>test_R2</th>\n",
              "      <th>test_-MSE</th>\n",
              "      <th>test_-MAE</th>\n",
              "      <th>test_Max</th>\n",
              "    </tr>\n",
              "  </thead>\n",
              "  <tbody>\n",
              "    <tr>\n",
              "      <th>0</th>\n",
              "      <td>0.1026</td>\n",
              "      <td>0.2608</td>\n",
              "      <td>-5492.4401</td>\n",
              "      <td>-6.3769e+17</td>\n",
              "      <td>-1.0979e+07</td>\n",
              "      <td>-7.0776e+10</td>\n",
              "    </tr>\n",
              "    <tr>\n",
              "      <th>1</th>\n",
              "      <td>0.1011</td>\n",
              "      <td>0.2764</td>\n",
              "      <td>0.1609</td>\n",
              "      <td>-7.8031e+13</td>\n",
              "      <td>-1.7964e+06</td>\n",
              "      <td>-4.4177e+08</td>\n",
              "    </tr>\n",
              "    <tr>\n",
              "      <th>2</th>\n",
              "      <td>0.1019</td>\n",
              "      <td>0.2931</td>\n",
              "      <td>-0.2385</td>\n",
              "      <td>-2.3486e+14</td>\n",
              "      <td>-2.0216e+06</td>\n",
              "      <td>-1.0703e+09</td>\n",
              "    </tr>\n",
              "    <tr>\n",
              "      <th>3</th>\n",
              "      <td>0.1037</td>\n",
              "      <td>0.2717</td>\n",
              "      <td>0.2672</td>\n",
              "      <td>-1.0766e+14</td>\n",
              "      <td>-1.9697e+06</td>\n",
              "      <td>-5.4137e+08</td>\n",
              "    </tr>\n",
              "    <tr>\n",
              "      <th>4</th>\n",
              "      <td>0.1257</td>\n",
              "      <td>0.2759</td>\n",
              "      <td>0.3244</td>\n",
              "      <td>-8.2634e+13</td>\n",
              "      <td>-1.8235e+06</td>\n",
              "      <td>-5.6329e+08</td>\n",
              "    </tr>\n",
              "  </tbody>\n",
              "</table>\n",
              "</div>\n",
              "      <button class=\"colab-df-convert\" onclick=\"convertToInteractive('df-51f3d313-da4b-4cca-9af6-9d8005b4322d')\"\n",
              "              title=\"Convert this dataframe to an interactive table.\"\n",
              "              style=\"display:none;\">\n",
              "        \n",
              "  <svg xmlns=\"http://www.w3.org/2000/svg\" height=\"24px\"viewBox=\"0 0 24 24\"\n",
              "       width=\"24px\">\n",
              "    <path d=\"M0 0h24v24H0V0z\" fill=\"none\"/>\n",
              "    <path d=\"M18.56 5.44l.94 2.06.94-2.06 2.06-.94-2.06-.94-.94-2.06-.94 2.06-2.06.94zm-11 1L8.5 8.5l.94-2.06 2.06-.94-2.06-.94L8.5 2.5l-.94 2.06-2.06.94zm10 10l.94 2.06.94-2.06 2.06-.94-2.06-.94-.94-2.06-.94 2.06-2.06.94z\"/><path d=\"M17.41 7.96l-1.37-1.37c-.4-.4-.92-.59-1.43-.59-.52 0-1.04.2-1.43.59L10.3 9.45l-7.72 7.72c-.78.78-.78 2.05 0 2.83L4 21.41c.39.39.9.59 1.41.59.51 0 1.02-.2 1.41-.59l7.78-7.78 2.81-2.81c.8-.78.8-2.07 0-2.86zM5.41 20L4 18.59l7.72-7.72 1.47 1.35L5.41 20z\"/>\n",
              "  </svg>\n",
              "      </button>\n",
              "      \n",
              "  <style>\n",
              "    .colab-df-container {\n",
              "      display:flex;\n",
              "      flex-wrap:wrap;\n",
              "      gap: 12px;\n",
              "    }\n",
              "\n",
              "    .colab-df-convert {\n",
              "      background-color: #E8F0FE;\n",
              "      border: none;\n",
              "      border-radius: 50%;\n",
              "      cursor: pointer;\n",
              "      display: none;\n",
              "      fill: #1967D2;\n",
              "      height: 32px;\n",
              "      padding: 0 0 0 0;\n",
              "      width: 32px;\n",
              "    }\n",
              "\n",
              "    .colab-df-convert:hover {\n",
              "      background-color: #E2EBFA;\n",
              "      box-shadow: 0px 1px 2px rgba(60, 64, 67, 0.3), 0px 1px 3px 1px rgba(60, 64, 67, 0.15);\n",
              "      fill: #174EA6;\n",
              "    }\n",
              "\n",
              "    [theme=dark] .colab-df-convert {\n",
              "      background-color: #3B4455;\n",
              "      fill: #D2E3FC;\n",
              "    }\n",
              "\n",
              "    [theme=dark] .colab-df-convert:hover {\n",
              "      background-color: #434B5C;\n",
              "      box-shadow: 0px 1px 3px 1px rgba(0, 0, 0, 0.15);\n",
              "      filter: drop-shadow(0px 1px 2px rgba(0, 0, 0, 0.3));\n",
              "      fill: #FFFFFF;\n",
              "    }\n",
              "  </style>\n",
              "\n",
              "      <script>\n",
              "        const buttonEl =\n",
              "          document.querySelector('#df-51f3d313-da4b-4cca-9af6-9d8005b4322d button.colab-df-convert');\n",
              "        buttonEl.style.display =\n",
              "          google.colab.kernel.accessAllowed ? 'block' : 'none';\n",
              "\n",
              "        async function convertToInteractive(key) {\n",
              "          const element = document.querySelector('#df-51f3d313-da4b-4cca-9af6-9d8005b4322d');\n",
              "          const dataTable =\n",
              "            await google.colab.kernel.invokeFunction('convertToInteractive',\n",
              "                                                     [key], {});\n",
              "          if (!dataTable) return;\n",
              "\n",
              "          const docLinkHtml = 'Like what you see? Visit the ' +\n",
              "            '<a target=\"_blank\" href=https://colab.research.google.com/notebooks/data_table.ipynb>data table notebook</a>'\n",
              "            + ' to learn more about interactive tables.';\n",
              "          element.innerHTML = '';\n",
              "          dataTable['output_type'] = 'display_data';\n",
              "          await google.colab.output.renderOutput(dataTable, element);\n",
              "          const docLink = document.createElement('div');\n",
              "          docLink.innerHTML = docLinkHtml;\n",
              "          element.appendChild(docLink);\n",
              "        }\n",
              "      </script>\n",
              "    </div>\n",
              "  </div>\n",
              "  "
            ]
          },
          "metadata": {}
        },
        {
          "output_type": "stream",
          "name": "stdout",
          "text": [
            "\n",
            "\n",
            "test_R2     -1.0984e+03\n",
            "test_-MSE   -1.2764e+17\n",
            "test_-MAE   -3.7180e+06\n",
            "test_Max    -1.4679e+10\n",
            "dtype: float64\n",
            "Ошибка на тестовых данных\n",
            "MSE: 1091865975723445.4\n",
            "RMSE: 33043395.3\n",
            "MAE: 2189107.3\n",
            "R2 : -0.0346\n"
          ]
        }
      ]
    },
    {
      "cell_type": "markdown",
      "source": [
        "Получившаяся модель с выбросами в данных судя по значению метрики R2 - вредительская, а это даже хуже чем отсутствие модели.  "
      ],
      "metadata": {
        "id": "d6e9YNRkUelJ"
      }
    },
    {
      "cell_type": "markdown",
      "source": [
        "### Отбор гиперпараметров рандамизированным поиском"
      ],
      "metadata": {
        "id": "DSJvEZVfdcuB"
      }
    },
    {
      "cell_type": "code",
      "source": [
        "from sklearn.model_selection import RandomizedSearchCV # для поиска при случайном сэмплирование гиперпараметров\n",
        "from scipy import stats\n",
        "\n",
        "# словарь гиперпараметров в виде\n",
        "# обозначение гиперпараметров : из какого распределения сэмплируем\n",
        "# обозначение должно \"досимвольно\" совпадать с тем что в документации\n",
        "parameters = {'n_neighbors':stats.randint(1,50), # задаем распределение как равномерное от 1 до 50\n",
        "              'weights':['uniform', 'distance']}\n",
        "\n",
        "# количество итераций\n",
        "n_iter_search = 20\n",
        "\n",
        "kNN_search = RandomizedSearchCV(estimator = KNeighborsRegressor(),  # оптимизируем нашу модель\n",
        "                                verbose = 3,  # чтобы он всё подробно расписал. если не интересно - пишем 0\n",
        "                          param_distributions=parameters , # что оптимизируем - берем из словарика\n",
        "                          cv=ShuffleSplit(n_splits=5, random_state=42), # указываем тип кросс-валидации\n",
        "                          n_iter = n_iter_search # количество итераций\n",
        "                          )"
      ],
      "metadata": {
        "id": "Jv2fFe0Wc5-r"
      },
      "execution_count": null,
      "outputs": []
    },
    {
      "cell_type": "code",
      "source": [
        "kNN_search.fit(X_train, y_train)\n",
        "\n",
        "kNNbest=kNN_search.best_estimator_\n",
        "\n",
        "kNNbest.fit(X_train, y_train);"
      ],
      "metadata": {
        "colab": {
          "base_uri": "https://localhost:8080/"
        },
        "id": "E74TssqvdIAa",
        "outputId": "830af7d2-617a-459a-f943-0170d8df17ae"
      },
      "execution_count": null,
      "outputs": [
        {
          "output_type": "stream",
          "name": "stdout",
          "text": [
            "Fitting 5 folds for each of 20 candidates, totalling 100 fits\n",
            "[CV 1/5] END n_neighbors=24, weights=distance;, score=-870.773 total time=   0.6s\n",
            "[CV 2/5] END ..n_neighbors=24, weights=distance;, score=0.516 total time=   0.5s\n",
            "[CV 3/5] END ..n_neighbors=24, weights=distance;, score=0.431 total time=   0.7s\n",
            "[CV 4/5] END ..n_neighbors=24, weights=distance;, score=0.500 total time=   0.9s\n",
            "[CV 5/5] END ..n_neighbors=24, weights=distance;, score=0.513 total time=   0.9s\n",
            "[CV 1/5] END n_neighbors=42, weights=uniform;, score=-752.666 total time=   1.1s\n",
            "[CV 2/5] END n_neighbors=42, weights=uniform;, score=-313.473 total time=   1.0s\n",
            "[CV 3/5] END n_neighbors=42, weights=uniform;, score=-153.248 total time=   0.7s\n",
            "[CV 4/5] END ...n_neighbors=42, weights=uniform;, score=0.433 total time=   0.7s\n",
            "[CV 5/5] END n_neighbors=42, weights=uniform;, score=-476.588 total time=   0.7s\n",
            "[CV 1/5] END n_neighbors=15, weights=distance;, score=-1925.814 total time=   0.5s\n",
            "[CV 2/5] END ..n_neighbors=15, weights=distance;, score=0.484 total time=   0.5s\n",
            "[CV 3/5] END ..n_neighbors=15, weights=distance;, score=0.295 total time=   0.5s\n",
            "[CV 4/5] END ..n_neighbors=15, weights=distance;, score=0.460 total time=   0.5s\n",
            "[CV 5/5] END ..n_neighbors=15, weights=distance;, score=0.488 total time=   0.5s\n",
            "[CV 1/5] END ....n_neighbors=1, weights=uniform;, score=0.325 total time=   0.2s\n",
            "[CV 2/5] END ....n_neighbors=1, weights=uniform;, score=0.498 total time=   0.2s\n",
            "[CV 3/5] END ..n_neighbors=1, weights=uniform;, score=-11.679 total time=   0.2s\n",
            "[CV 4/5] END ...n_neighbors=1, weights=uniform;, score=-9.935 total time=   0.2s\n",
            "[CV 5/5] END ....n_neighbors=1, weights=uniform;, score=0.312 total time=   0.2s\n",
            "[CV 1/5] END n_neighbors=14, weights=distance;, score=-2164.182 total time=   0.4s\n",
            "[CV 2/5] END ..n_neighbors=14, weights=distance;, score=0.469 total time=   0.4s\n",
            "[CV 3/5] END ..n_neighbors=14, weights=distance;, score=0.256 total time=   0.5s\n",
            "[CV 4/5] END ..n_neighbors=14, weights=distance;, score=0.457 total time=   0.4s\n",
            "[CV 5/5] END ..n_neighbors=14, weights=distance;, score=0.465 total time=   0.5s\n",
            "[CV 1/5] END n_neighbors=8, weights=uniform;, score=-6921.947 total time=   0.4s\n",
            "[CV 2/5] END ...n_neighbors=8, weights=uniform;, score=-0.093 total time=   0.4s\n",
            "[CV 3/5] END ....n_neighbors=8, weights=uniform;, score=0.214 total time=   0.4s\n",
            "[CV 4/5] END ....n_neighbors=8, weights=uniform;, score=0.178 total time=   0.4s\n",
            "[CV 5/5] END ....n_neighbors=8, weights=uniform;, score=0.424 total time=   0.4s\n",
            "[CV 1/5] END n_neighbors=16, weights=uniform;, score=-1730.577 total time=   0.7s\n",
            "[CV 2/5] END ...n_neighbors=16, weights=uniform;, score=0.282 total time=   0.8s\n",
            "[CV 3/5] END ...n_neighbors=16, weights=uniform;, score=0.428 total time=   0.8s\n",
            "[CV 4/5] END ...n_neighbors=16, weights=uniform;, score=0.365 total time=   0.7s\n",
            "[CV 5/5] END ...n_neighbors=16, weights=uniform;, score=0.457 total time=   0.8s\n",
            "[CV 1/5] END n_neighbors=20, weights=uniform;, score=-1107.661 total time=   0.7s\n",
            "[CV 2/5] END ...n_neighbors=20, weights=uniform;, score=0.392 total time=   0.5s\n",
            "[CV 3/5] END ...n_neighbors=20, weights=uniform;, score=0.342 total time=   0.5s\n",
            "[CV 4/5] END ...n_neighbors=20, weights=uniform;, score=0.417 total time=   0.5s\n",
            "[CV 5/5] END ...n_neighbors=20, weights=uniform;, score=0.471 total time=   0.5s\n",
            "[CV 1/5] END n_neighbors=43, weights=uniform;, score=-718.017 total time=   0.7s\n",
            "[CV 2/5] END n_neighbors=43, weights=uniform;, score=-299.077 total time=   0.7s\n",
            "[CV 3/5] END n_neighbors=43, weights=uniform;, score=-146.184 total time=   0.7s\n",
            "[CV 4/5] END ...n_neighbors=43, weights=uniform;, score=0.426 total time=   0.7s\n",
            "[CV 5/5] END n_neighbors=43, weights=uniform;, score=-454.663 total time=   0.7s\n",
            "[CV 1/5] END n_neighbors=10, weights=distance;, score=-3812.137 total time=   0.4s\n",
            "[CV 2/5] END ..n_neighbors=10, weights=distance;, score=0.321 total time=   0.4s\n",
            "[CV 3/5] END .n_neighbors=10, weights=distance;, score=-0.014 total time=   0.4s\n",
            "[CV 4/5] END ..n_neighbors=10, weights=distance;, score=0.374 total time=   0.4s\n",
            "[CV 5/5] END ..n_neighbors=10, weights=distance;, score=0.413 total time=   0.4s\n",
            "[CV 1/5] END n_neighbors=20, weights=distance;, score=-1185.537 total time=   0.5s\n",
            "[CV 2/5] END ..n_neighbors=20, weights=distance;, score=0.517 total time=   0.5s\n",
            "[CV 3/5] END ..n_neighbors=20, weights=distance;, score=0.366 total time=   0.5s\n",
            "[CV 4/5] END ..n_neighbors=20, weights=distance;, score=0.483 total time=   0.5s\n",
            "[CV 5/5] END ..n_neighbors=20, weights=distance;, score=0.504 total time=   0.7s\n",
            "[CV 1/5] END n_neighbors=48, weights=distance;, score=-655.171 total time=   1.2s\n",
            "[CV 2/5] END n_neighbors=48, weights=distance;, score=-207.397 total time=   1.2s\n",
            "[CV 3/5] END n_neighbors=48, weights=distance;, score=-85.023 total time=   1.2s\n",
            "[CV 4/5] END n_neighbors=48, weights=distance;, score=-110.366 total time=   0.7s\n",
            "[CV 5/5] END n_neighbors=48, weights=distance;, score=-287.890 total time=   0.7s\n",
            "[CV 1/5] END n_neighbors=40, weights=distance;, score=-765.748 total time=   0.7s\n",
            "[CV 2/5] END n_neighbors=40, weights=distance;, score=-272.543 total time=   0.7s\n",
            "[CV 3/5] END n_neighbors=40, weights=distance;, score=-111.666 total time=   0.7s\n",
            "[CV 4/5] END ..n_neighbors=40, weights=distance;, score=0.514 total time=   0.7s\n",
            "[CV 5/5] END n_neighbors=40, weights=distance;, score=-384.478 total time=   0.7s\n",
            "[CV 1/5] END n_neighbors=12, weights=uniform;, score=-3076.550 total time=   0.4s\n",
            "[CV 2/5] END ...n_neighbors=12, weights=uniform;, score=0.126 total time=   0.5s\n",
            "[CV 3/5] END ...n_neighbors=12, weights=uniform;, score=0.384 total time=   0.4s\n",
            "[CV 4/5] END ...n_neighbors=12, weights=uniform;, score=0.337 total time=   0.5s\n",
            "[CV 5/5] END ...n_neighbors=12, weights=uniform;, score=0.427 total time=   0.4s\n",
            "[CV 1/5] END n_neighbors=42, weights=uniform;, score=-752.666 total time=   0.7s\n",
            "[CV 2/5] END n_neighbors=42, weights=uniform;, score=-313.473 total time=   0.7s\n",
            "[CV 3/5] END n_neighbors=42, weights=uniform;, score=-153.248 total time=   0.7s\n",
            "[CV 4/5] END ...n_neighbors=42, weights=uniform;, score=0.433 total time=   0.7s\n",
            "[CV 5/5] END n_neighbors=42, weights=uniform;, score=-476.588 total time=   1.1s\n",
            "[CV 1/5] END n_neighbors=13, weights=distance;, score=-2453.984 total time=   0.7s\n",
            "[CV 2/5] END ..n_neighbors=13, weights=distance;, score=0.440 total time=   0.7s\n",
            "[CV 3/5] END ..n_neighbors=13, weights=distance;, score=0.209 total time=   0.7s\n",
            "[CV 4/5] END ..n_neighbors=13, weights=distance;, score=0.441 total time=   0.7s\n",
            "[CV 5/5] END ..n_neighbors=13, weights=distance;, score=0.435 total time=   0.4s\n",
            "[CV 1/5] END n_neighbors=15, weights=distance;, score=-1925.814 total time=   0.5s\n",
            "[CV 2/5] END ..n_neighbors=15, weights=distance;, score=0.484 total time=   0.5s\n",
            "[CV 3/5] END ..n_neighbors=15, weights=distance;, score=0.295 total time=   0.5s\n",
            "[CV 4/5] END ..n_neighbors=15, weights=distance;, score=0.460 total time=   0.5s\n",
            "[CV 5/5] END ..n_neighbors=15, weights=distance;, score=0.488 total time=   0.5s\n",
            "[CV 1/5] END n_neighbors=5, weights=distance;, score=-12166.682 total time=   0.3s\n",
            "[CV 2/5] END ...n_neighbors=5, weights=distance;, score=0.620 total time=   0.3s\n",
            "[CV 3/5] END ..n_neighbors=5, weights=distance;, score=-0.890 total time=   0.3s\n",
            "[CV 4/5] END ..n_neighbors=5, weights=distance;, score=-0.006 total time=   0.4s\n",
            "[CV 5/5] END ..n_neighbors=5, weights=distance;, score=-0.009 total time=   0.3s\n",
            "[CV 1/5] END n_neighbors=24, weights=distance;, score=-870.773 total time=   0.6s\n",
            "[CV 2/5] END ..n_neighbors=24, weights=distance;, score=0.516 total time=   0.5s\n",
            "[CV 3/5] END ..n_neighbors=24, weights=distance;, score=0.431 total time=   0.6s\n",
            "[CV 4/5] END ..n_neighbors=24, weights=distance;, score=0.500 total time=   0.5s\n",
            "[CV 5/5] END ..n_neighbors=24, weights=distance;, score=0.513 total time=   0.5s\n",
            "[CV 1/5] END n_neighbors=39, weights=uniform;, score=-873.020 total time=   0.7s\n",
            "[CV 2/5] END n_neighbors=39, weights=uniform;, score=-363.605 total time=   0.7s\n",
            "[CV 3/5] END n_neighbors=39, weights=uniform;, score=-177.793 total time=   0.7s\n",
            "[CV 4/5] END ...n_neighbors=39, weights=uniform;, score=0.443 total time=   0.6s\n",
            "[CV 5/5] END n_neighbors=39, weights=uniform;, score=-552.744 total time=   1.0s\n"
          ]
        }
      ]
    },
    {
      "cell_type": "code",
      "source": [
        "y_predict=kNNbest.predict(X_test)\n",
        "\n",
        "print('Ошибка на тестовых данных')\n",
        "print('MSE: %.1f' % mse(y_test,y_predict))\n",
        "print('RMSE: %.1f' % mse(y_test,y_predict,squared=False))\n",
        "print('MAE: %.1f' % mae(y_test,y_predict))\n",
        "\n",
        "print('R2 : %.4f' %  r2_score(y_test,y_predict))"
      ],
      "metadata": {
        "colab": {
          "base_uri": "https://localhost:8080/"
        },
        "id": "a9ogquMudPqv",
        "outputId": "8647f528-7e15-4670-ea3b-f38f136dbb21"
      },
      "execution_count": null,
      "outputs": [
        {
          "output_type": "stream",
          "name": "stdout",
          "text": [
            "Ошибка на тестовых данных\n",
            "MSE: 1933518616012253.0\n",
            "RMSE: 43971793.4\n",
            "MAE: 2429618.7\n",
            "R2 : -0.8321\n"
          ]
        }
      ]
    },
    {
      "cell_type": "markdown",
      "source": [
        "Отбор гиперпараметров рандамизированным поиском не улучшил метрики. На качество модели повлияли выбросы в данных."
      ],
      "metadata": {
        "id": "hDAwa9ohXv8K"
      }
    },
    {
      "cell_type": "code",
      "source": [
        "def print_stem(y, label, marker):\n",
        "    markerline, stemlines, baseline = plt.stem(y, markerfmt=marker,label = label,use_line_collection = True, )\n",
        "    markerline.set_markerfacecolor('none')"
      ],
      "metadata": {
        "id": "aNXnJNtFdUvB"
      },
      "execution_count": null,
      "outputs": []
    },
    {
      "cell_type": "markdown",
      "source": [
        "Далее идет визуализация тестовых и предсказанных значений, на которой наглядно видны ошибки в предсказаниях нашей модели"
      ],
      "metadata": {
        "id": "7Cgj4s0aYMMM"
      }
    },
    {
      "cell_type": "code",
      "source": [
        "fig=plt.figure(figsize=(10, 7))\n",
        "sorted = np.argsort(y_test)\n",
        "print_stem(y_predict[sorted], 'Предсказанные Значения', 'rD')\n",
        "print_stem(y_test[sorted], 'Тестовые Значения', 'go')\n",
        "\n",
        "plt.grid()\n",
        "plt.title('Сортировка по Возрастанию целевой переменной')\n",
        "plt.legend();"
      ],
      "metadata": {
        "colab": {
          "base_uri": "https://localhost:8080/",
          "height": 681
        },
        "id": "cEGCeAqfdaSe",
        "outputId": "4121274b-03d7-4f76-d916-f6ef5de96e1a"
      },
      "execution_count": null,
      "outputs": [
        {
          "output_type": "stream",
          "name": "stderr",
          "text": [
            "<ipython-input-51-264cb6f49b70>:2: MatplotlibDeprecationWarning: The 'use_line_collection' parameter of stem() was deprecated in Matplotlib 3.6 and will be removed two minor releases later. If any parameter follows 'use_line_collection', they should be passed as keyword, not positionally.\n",
            "  markerline, stemlines, baseline = plt.stem(y, markerfmt=marker,label = label,use_line_collection = True, )\n"
          ]
        },
        {
          "output_type": "display_data",
          "data": {
            "text/plain": [
              "<Figure size 1000x700 with 1 Axes>"
            ],
            "image/png": "[encoded data removed]"
          },
          "metadata": {}
        }
      ]
    },
    {
      "cell_type": "markdown",
      "source": [
        "Резульататы перебора гиперпараметров"
      ],
      "metadata": {
        "id": "Nlo8i3fPdsGm"
      }
    },
    {
      "cell_type": "code",
      "source": [
        "DF_reg=pd.DataFrame(kNN_search.cv_results_)\n",
        "df_reg = DF_reg[['param_n_neighbors','param_weights',\n",
        "             'mean_test_score', 'std_test_score', 'rank_test_score']]\n",
        "cm = sns.light_palette(\"purple\", as_cmap=True)\n",
        "hl = df_reg.sort_values(by = 'rank_test_score').style.background_gradient(cmap=cm)\n",
        "hl"
      ],
      "metadata": {
        "colab": {
          "base_uri": "https://localhost:8080/",
          "height": 676
        },
        "id": "KfmSVgYFdazr",
        "outputId": "def6d06b-df85-4a32-9c5e-8550541a55d2"
      },
      "execution_count": null,
      "outputs": [
        {
          "output_type": "execute_result",
          "data": {
            "text/plain": [
              "<pandas.io.formats.style.Styler at 0x7ffa8b812c50>"
            ],
            "text/html": [
              "<style type=\"text/css\">\n",
              "#T_35bd4_row0_col2, #T_35bd4_row19_col3, #T_35bd4_row19_col4 {\n",
              "  background-color: #800080;\n",
              "  color: #f1f1f1;\n",
              "}\n",
              "#T_35bd4_row0_col3, #T_35bd4_row0_col4, #T_35bd4_row19_col2 {\n",
              "  background-color: #f3f0f3;\n",
              "  color: #000000;\n",
              "}\n",
              "#T_35bd4_row1_col2, #T_35bd4_row2_col2 {\n",
              "  background-color: #881088;\n",
              "  color: #f1f1f1;\n",
              "}\n",
              "#T_35bd4_row1_col3, #T_35bd4_row2_col3 {\n",
              "  background-color: #ebdfeb;\n",
              "  color: #000000;\n",
              "}\n",
              "#T_35bd4_row1_col4, #T_35bd4_row2_col4, #T_35bd4_row6_col3, #T_35bd4_row8_col3, #T_35bd4_row9_col3 {\n",
              "  background-color: #ede3ed;\n",
              "  color: #000000;\n",
              "}\n",
              "#T_35bd4_row3_col2 {\n",
              "  background-color: #8a158a;\n",
              "  color: #f1f1f1;\n",
              "}\n",
              "#T_35bd4_row3_col3 {\n",
              "  background-color: #e8dae8;\n",
              "  color: #000000;\n",
              "}\n",
              "#T_35bd4_row3_col4, #T_35bd4_row11_col3, #T_35bd4_row12_col3 {\n",
              "  background-color: #e1cae1;\n",
              "  color: #000000;\n",
              "}\n",
              "#T_35bd4_row4_col2 {\n",
              "  background-color: #8b178b;\n",
              "  color: #f1f1f1;\n",
              "}\n",
              "#T_35bd4_row4_col3 {\n",
              "  background-color: #e8d9e8;\n",
              "  color: #000000;\n",
              "}\n",
              "#T_35bd4_row4_col4 {\n",
              "  background-color: #dbbedb;\n",
              "  color: #000000;\n",
              "}\n",
              "#T_35bd4_row5_col2 {\n",
              "  background-color: #8c198c;\n",
              "  color: #f1f1f1;\n",
              "}\n",
              "#T_35bd4_row5_col3 {\n",
              "  background-color: #eee6ee;\n",
              "  color: #000000;\n",
              "}\n",
              "#T_35bd4_row5_col4 {\n",
              "  background-color: #d5b1d5;\n",
              "  color: #000000;\n",
              "}\n",
              "#T_35bd4_row6_col2 {\n",
              "  background-color: #8e1d8e;\n",
              "  color: #f1f1f1;\n",
              "}\n",
              "#T_35bd4_row6_col4, #T_35bd4_row17_col3 {\n",
              "  background-color: #cfa5cf;\n",
              "  color: #000000;\n",
              "}\n",
              "#T_35bd4_row7_col2 {\n",
              "  background-color: #8f1f8f;\n",
              "  color: #f1f1f1;\n",
              "}\n",
              "#T_35bd4_row7_col3 {\n",
              "  background-color: #ede4ed;\n",
              "  color: #000000;\n",
              "}\n",
              "#T_35bd4_row7_col4 {\n",
              "  background-color: #c897c8;\n",
              "  color: #f1f1f1;\n",
              "}\n",
              "#T_35bd4_row8_col2, #T_35bd4_row9_col2 {\n",
              "  background-color: #902190;\n",
              "  color: #f1f1f1;\n",
              "}\n",
              "#T_35bd4_row8_col4, #T_35bd4_row9_col4 {\n",
              "  background-color: #c38bc3;\n",
              "  color: #f1f1f1;\n",
              "}\n",
              "#T_35bd4_row10_col2 {\n",
              "  background-color: #902290;\n",
              "  color: #f1f1f1;\n",
              "}\n",
              "#T_35bd4_row10_col3 {\n",
              "  background-color: #e3cee3;\n",
              "  color: #000000;\n",
              "}\n",
              "#T_35bd4_row10_col4 {\n",
              "  background-color: #b672b6;\n",
              "  color: #f1f1f1;\n",
              "}\n",
              "#T_35bd4_row11_col2, #T_35bd4_row12_col2, #T_35bd4_row16_col4 {\n",
              "  background-color: #922692;\n",
              "  color: #f1f1f1;\n",
              "}\n",
              "#T_35bd4_row11_col4, #T_35bd4_row12_col4 {\n",
              "  background-color: #b065b0;\n",
              "  color: #f1f1f1;\n",
              "}\n",
              "#T_35bd4_row13_col2 {\n",
              "  background-color: #922792;\n",
              "  color: #f1f1f1;\n",
              "}\n",
              "#T_35bd4_row13_col3 {\n",
              "  background-color: #ece2ec;\n",
              "  color: #000000;\n",
              "}\n",
              "#T_35bd4_row13_col4 {\n",
              "  background-color: #a44ba4;\n",
              "  color: #f1f1f1;\n",
              "}\n",
              "#T_35bd4_row14_col2 {\n",
              "  background-color: #942a94;\n",
              "  color: #f1f1f1;\n",
              "}\n",
              "#T_35bd4_row14_col3 {\n",
              "  background-color: #dfc5df;\n",
              "  color: #000000;\n",
              "}\n",
              "#T_35bd4_row14_col4 {\n",
              "  background-color: #9e3f9e;\n",
              "  color: #f1f1f1;\n",
              "}\n",
              "#T_35bd4_row15_col2 {\n",
              "  background-color: #973097;\n",
              "  color: #f1f1f1;\n",
              "}\n",
              "#T_35bd4_row15_col3 {\n",
              "  background-color: #dcc0dc;\n",
              "  color: #000000;\n",
              "}\n",
              "#T_35bd4_row15_col4 {\n",
              "  background-color: #983298;\n",
              "  color: #f1f1f1;\n",
              "}\n",
              "#T_35bd4_row16_col2 {\n",
              "  background-color: #9d3c9d;\n",
              "  color: #f1f1f1;\n",
              "}\n",
              "#T_35bd4_row16_col3 {\n",
              "  background-color: #d6b4d6;\n",
              "  color: #000000;\n",
              "}\n",
              "#T_35bd4_row17_col2 {\n",
              "  background-color: #a44aa4;\n",
              "  color: #f1f1f1;\n",
              "}\n",
              "#T_35bd4_row17_col4 {\n",
              "  background-color: #8c188c;\n",
              "  color: #f1f1f1;\n",
              "}\n",
              "#T_35bd4_row18_col2 {\n",
              "  background-color: #c188c1;\n",
              "  color: #f1f1f1;\n",
              "}\n",
              "#T_35bd4_row18_col3 {\n",
              "  background-color: #b267b2;\n",
              "  color: #f1f1f1;\n",
              "}\n",
              "#T_35bd4_row18_col4 {\n",
              "  background-color: #860c86;\n",
              "  color: #f1f1f1;\n",
              "}\n",
              "</style>\n",
              "<table id=\"T_35bd4\" class=\"dataframe\">\n",
              "  <thead>\n",
              "    <tr>\n",
              "      <th class=\"blank level0\" >&nbsp;</th>\n",
              "      <th id=\"T_35bd4_level0_col0\" class=\"col_heading level0 col0\" >param_n_neighbors</th>\n",
              "      <th id=\"T_35bd4_level0_col1\" class=\"col_heading level0 col1\" >param_weights</th>\n",
              "      <th id=\"T_35bd4_level0_col2\" class=\"col_heading level0 col2\" >mean_test_score</th>\n",
              "      <th id=\"T_35bd4_level0_col3\" class=\"col_heading level0 col3\" >std_test_score</th>\n",
              "      <th id=\"T_35bd4_level0_col4\" class=\"col_heading level0 col4\" >rank_test_score</th>\n",
              "    </tr>\n",
              "  </thead>\n",
              "  <tbody>\n",
              "    <tr>\n",
              "      <th id=\"T_35bd4_level0_row0\" class=\"row_heading level0 row0\" >3</th>\n",
              "      <td id=\"T_35bd4_row0_col0\" class=\"data row0 col0\" >1</td>\n",
              "      <td id=\"T_35bd4_row0_col1\" class=\"data row0 col1\" >uniform</td>\n",
              "      <td id=\"T_35bd4_row0_col2\" class=\"data row0 col2\" >-4.095900</td>\n",
              "      <td id=\"T_35bd4_row0_col3\" class=\"data row0 col3\" >5.507490</td>\n",
              "      <td id=\"T_35bd4_row0_col4\" class=\"data row0 col4\" >1</td>\n",
              "    </tr>\n",
              "    <tr>\n",
              "      <th id=\"T_35bd4_level0_row1\" class=\"row_heading level0 row1\" >0</th>\n",
              "      <td id=\"T_35bd4_row1_col0\" class=\"data row1 col0\" >24</td>\n",
              "      <td id=\"T_35bd4_row1_col1\" class=\"data row1 col1\" >distance</td>\n",
              "      <td id=\"T_35bd4_row1_col2\" class=\"data row1 col2\" >-173.762501</td>\n",
              "      <td id=\"T_35bd4_row1_col3\" class=\"data row1 col3\" >348.505071</td>\n",
              "      <td id=\"T_35bd4_row1_col4\" class=\"data row1 col4\" >2</td>\n",
              "    </tr>\n",
              "    <tr>\n",
              "      <th id=\"T_35bd4_level0_row2\" class=\"row_heading level0 row2\" >18</th>\n",
              "      <td id=\"T_35bd4_row2_col0\" class=\"data row2 col0\" >24</td>\n",
              "      <td id=\"T_35bd4_row2_col1\" class=\"data row2 col1\" >distance</td>\n",
              "      <td id=\"T_35bd4_row2_col2\" class=\"data row2 col2\" >-173.762501</td>\n",
              "      <td id=\"T_35bd4_row2_col3\" class=\"data row2 col3\" >348.505071</td>\n",
              "      <td id=\"T_35bd4_row2_col4\" class=\"data row2 col4\" >2</td>\n",
              "    </tr>\n",
              "    <tr>\n",
              "      <th id=\"T_35bd4_level0_row3\" class=\"row_heading level0 row3\" >7</th>\n",
              "      <td id=\"T_35bd4_row3_col0\" class=\"data row3 col0\" >20</td>\n",
              "      <td id=\"T_35bd4_row3_col1\" class=\"data row3 col1\" >uniform</td>\n",
              "      <td id=\"T_35bd4_row3_col2\" class=\"data row3 col2\" >-221.207841</td>\n",
              "      <td id=\"T_35bd4_row3_col3\" class=\"data row3 col3\" >443.226418</td>\n",
              "      <td id=\"T_35bd4_row3_col4\" class=\"data row3 col4\" >4</td>\n",
              "    </tr>\n",
              "    <tr>\n",
              "      <th id=\"T_35bd4_level0_row4\" class=\"row_heading level0 row4\" >10</th>\n",
              "      <td id=\"T_35bd4_row4_col0\" class=\"data row4 col0\" >20</td>\n",
              "      <td id=\"T_35bd4_row4_col1\" class=\"data row4 col1\" >distance</td>\n",
              "      <td id=\"T_35bd4_row4_col2\" class=\"data row4 col2\" >-236.733603</td>\n",
              "      <td id=\"T_35bd4_row4_col3\" class=\"data row4 col3\" >474.401771</td>\n",
              "      <td id=\"T_35bd4_row4_col4\" class=\"data row4 col4\" >5</td>\n",
              "    </tr>\n",
              "    <tr>\n",
              "      <th id=\"T_35bd4_level0_row5\" class=\"row_heading level0 row5\" >11</th>\n",
              "      <td id=\"T_35bd4_row5_col0\" class=\"data row5 col0\" >48</td>\n",
              "      <td id=\"T_35bd4_row5_col1\" class=\"data row5 col1\" >distance</td>\n",
              "      <td id=\"T_35bd4_row5_col2\" class=\"data row5 col2\" >-269.169279</td>\n",
              "      <td id=\"T_35bd4_row5_col3\" class=\"data row5 col3\" >206.054174</td>\n",
              "      <td id=\"T_35bd4_row5_col4\" class=\"data row5 col4\" >6</td>\n",
              "    </tr>\n",
              "    <tr>\n",
              "      <th id=\"T_35bd4_level0_row6\" class=\"row_heading level0 row6\" >12</th>\n",
              "      <td id=\"T_35bd4_row6_col0\" class=\"data row6 col0\" >40</td>\n",
              "      <td id=\"T_35bd4_row6_col1\" class=\"data row6 col1\" >distance</td>\n",
              "      <td id=\"T_35bd4_row6_col2\" class=\"data row6 col2\" >-306.784221</td>\n",
              "      <td id=\"T_35bd4_row6_col3\" class=\"data row6 col3\" >264.711020</td>\n",
              "      <td id=\"T_35bd4_row6_col4\" class=\"data row6 col4\" >7</td>\n",
              "    </tr>\n",
              "    <tr>\n",
              "      <th id=\"T_35bd4_level0_row7\" class=\"row_heading level0 row7\" >8</th>\n",
              "      <td id=\"T_35bd4_row7_col0\" class=\"data row7 col0\" >43</td>\n",
              "      <td id=\"T_35bd4_row7_col1\" class=\"data row7 col1\" >uniform</td>\n",
              "      <td id=\"T_35bd4_row7_col2\" class=\"data row7 col2\" >-323.502871</td>\n",
              "      <td id=\"T_35bd4_row7_col3\" class=\"data row7 col3\" >248.922690</td>\n",
              "      <td id=\"T_35bd4_row7_col4\" class=\"data row7 col4\" >8</td>\n",
              "    </tr>\n",
              "    <tr>\n",
              "      <th id=\"T_35bd4_level0_row8\" class=\"row_heading level0 row8\" >1</th>\n",
              "      <td id=\"T_35bd4_row8_col0\" class=\"data row8 col0\" >42</td>\n",
              "      <td id=\"T_35bd4_row8_col1\" class=\"data row8 col1\" >uniform</td>\n",
              "      <td id=\"T_35bd4_row8_col2\" class=\"data row8 col2\" >-339.108410</td>\n",
              "      <td id=\"T_35bd4_row8_col3\" class=\"data row8 col3\" >260.929013</td>\n",
              "      <td id=\"T_35bd4_row8_col4\" class=\"data row8 col4\" >9</td>\n",
              "    </tr>\n",
              "    <tr>\n",
              "      <th id=\"T_35bd4_level0_row9\" class=\"row_heading level0 row9\" >14</th>\n",
              "      <td id=\"T_35bd4_row9_col0\" class=\"data row9 col0\" >42</td>\n",
              "      <td id=\"T_35bd4_row9_col1\" class=\"data row9 col1\" >uniform</td>\n",
              "      <td id=\"T_35bd4_row9_col2\" class=\"data row9 col2\" >-339.108410</td>\n",
              "      <td id=\"T_35bd4_row9_col3\" class=\"data row9 col3\" >260.929013</td>\n",
              "      <td id=\"T_35bd4_row9_col4\" class=\"data row9 col4\" >9</td>\n",
              "    </tr>\n",
              "    <tr>\n",
              "      <th id=\"T_35bd4_level0_row10\" class=\"row_heading level0 row10\" >6</th>\n",
              "      <td id=\"T_35bd4_row10_col0\" class=\"data row10 col0\" >16</td>\n",
              "      <td id=\"T_35bd4_row10_col1\" class=\"data row10 col1\" >uniform</td>\n",
              "      <td id=\"T_35bd4_row10_col2\" class=\"data row10 col2\" >-345.809138</td>\n",
              "      <td id=\"T_35bd4_row10_col3\" class=\"data row10 col3\" >692.383820</td>\n",
              "      <td id=\"T_35bd4_row10_col4\" class=\"data row10 col4\" >11</td>\n",
              "    </tr>\n",
              "    <tr>\n",
              "      <th id=\"T_35bd4_level0_row11\" class=\"row_heading level0 row11\" >2</th>\n",
              "      <td id=\"T_35bd4_row11_col0\" class=\"data row11 col0\" >15</td>\n",
              "      <td id=\"T_35bd4_row11_col1\" class=\"data row11 col1\" >distance</td>\n",
              "      <td id=\"T_35bd4_row11_col2\" class=\"data row11 col2\" >-384.817342</td>\n",
              "      <td id=\"T_35bd4_row11_col3\" class=\"data row11 col3\" >770.498371</td>\n",
              "      <td id=\"T_35bd4_row11_col4\" class=\"data row11 col4\" >12</td>\n",
              "    </tr>\n",
              "    <tr>\n",
              "      <th id=\"T_35bd4_level0_row12\" class=\"row_heading level0 row12\" >16</th>\n",
              "      <td id=\"T_35bd4_row12_col0\" class=\"data row12 col0\" >15</td>\n",
              "      <td id=\"T_35bd4_row12_col1\" class=\"data row12 col1\" >distance</td>\n",
              "      <td id=\"T_35bd4_row12_col2\" class=\"data row12 col2\" >-384.817342</td>\n",
              "      <td id=\"T_35bd4_row12_col3\" class=\"data row12 col3\" >770.498371</td>\n",
              "      <td id=\"T_35bd4_row12_col4\" class=\"data row12 col4\" >12</td>\n",
              "    </tr>\n",
              "    <tr>\n",
              "      <th id=\"T_35bd4_level0_row13\" class=\"row_heading level0 row13\" >19</th>\n",
              "      <td id=\"T_35bd4_row13_col0\" class=\"data row13 col0\" >39</td>\n",
              "      <td id=\"T_35bd4_row13_col1\" class=\"data row13 col1\" >uniform</td>\n",
              "      <td id=\"T_35bd4_row13_col2\" class=\"data row13 col2\" >-393.343910</td>\n",
              "      <td id=\"T_35bd4_row13_col3\" class=\"data row13 col3\" >302.625966</td>\n",
              "      <td id=\"T_35bd4_row13_col4\" class=\"data row13 col4\" >14</td>\n",
              "    </tr>\n",
              "    <tr>\n",
              "      <th id=\"T_35bd4_level0_row14\" class=\"row_heading level0 row14\" >4</th>\n",
              "      <td id=\"T_35bd4_row14_col0\" class=\"data row14 col0\" >14</td>\n",
              "      <td id=\"T_35bd4_row14_col1\" class=\"data row14 col1\" >distance</td>\n",
              "      <td id=\"T_35bd4_row14_col2\" class=\"data row14 col2\" >-432.507101</td>\n",
              "      <td id=\"T_35bd4_row14_col3\" class=\"data row14 col3\" >865.837424</td>\n",
              "      <td id=\"T_35bd4_row14_col4\" class=\"data row14 col4\" >15</td>\n",
              "    </tr>\n",
              "    <tr>\n",
              "      <th id=\"T_35bd4_level0_row15\" class=\"row_heading level0 row15\" >15</th>\n",
              "      <td id=\"T_35bd4_row15_col0\" class=\"data row15 col0\" >13</td>\n",
              "      <td id=\"T_35bd4_row15_col1\" class=\"data row15 col1\" >distance</td>\n",
              "      <td id=\"T_35bd4_row15_col2\" class=\"data row15 col2\" >-490.491639</td>\n",
              "      <td id=\"T_35bd4_row15_col3\" class=\"data row15 col3\" >981.746147</td>\n",
              "      <td id=\"T_35bd4_row15_col4\" class=\"data row15 col4\" >16</td>\n",
              "    </tr>\n",
              "    <tr>\n",
              "      <th id=\"T_35bd4_level0_row16\" class=\"row_heading level0 row16\" >13</th>\n",
              "      <td id=\"T_35bd4_row16_col0\" class=\"data row16 col0\" >12</td>\n",
              "      <td id=\"T_35bd4_row16_col1\" class=\"data row16 col1\" >uniform</td>\n",
              "      <td id=\"T_35bd4_row16_col2\" class=\"data row16 col2\" >-615.055338</td>\n",
              "      <td id=\"T_35bd4_row16_col3\" class=\"data row16 col3\" >1230.747289</td>\n",
              "      <td id=\"T_35bd4_row16_col4\" class=\"data row16 col4\" >17</td>\n",
              "    </tr>\n",
              "    <tr>\n",
              "      <th id=\"T_35bd4_level0_row17\" class=\"row_heading level0 row17\" >9</th>\n",
              "      <td id=\"T_35bd4_row17_col0\" class=\"data row17 col0\" >10</td>\n",
              "      <td id=\"T_35bd4_row17_col1\" class=\"data row17 col1\" >distance</td>\n",
              "      <td id=\"T_35bd4_row17_col2\" class=\"data row17 col2\" >-762.208605</td>\n",
              "      <td id=\"T_35bd4_row17_col3\" class=\"data row17 col3\" >1524.963991</td>\n",
              "      <td id=\"T_35bd4_row17_col4\" class=\"data row17 col4\" >18</td>\n",
              "    </tr>\n",
              "    <tr>\n",
              "      <th id=\"T_35bd4_level0_row18\" class=\"row_heading level0 row18\" >5</th>\n",
              "      <td id=\"T_35bd4_row18_col0\" class=\"data row18 col0\" >8</td>\n",
              "      <td id=\"T_35bd4_row18_col1\" class=\"data row18 col1\" >uniform</td>\n",
              "      <td id=\"T_35bd4_row18_col2\" class=\"data row18 col2\" >-1384.244640</td>\n",
              "      <td id=\"T_35bd4_row18_col3\" class=\"data row18 col3\" >2768.851032</td>\n",
              "      <td id=\"T_35bd4_row18_col4\" class=\"data row18 col4\" >19</td>\n",
              "    </tr>\n",
              "    <tr>\n",
              "      <th id=\"T_35bd4_level0_row19\" class=\"row_heading level0 row19\" >17</th>\n",
              "      <td id=\"T_35bd4_row19_col0\" class=\"data row19 col0\" >5</td>\n",
              "      <td id=\"T_35bd4_row19_col1\" class=\"data row19 col1\" >distance</td>\n",
              "      <td id=\"T_35bd4_row19_col2\" class=\"data row19 col2\" >-2433.393358</td>\n",
              "      <td id=\"T_35bd4_row19_col3\" class=\"data row19 col3\" >4866.644192</td>\n",
              "      <td id=\"T_35bd4_row19_col4\" class=\"data row19 col4\" >20</td>\n",
              "    </tr>\n",
              "  </tbody>\n",
              "</table>\n"
            ]
          },
          "metadata": {},
          "execution_count": 53
        }
      ]
    },
    {
      "cell_type": "markdown",
      "source": [
        "## 3. Регрессия методом к-Ближайших Соседей (БЕЗ выбросов)"
      ],
      "metadata": {
        "id": "XZzN3yuCpW5l"
      }
    },
    {
      "cell_type": "code",
      "source": [
        "df_num = df_del_power[num_columns].copy() # берем, например только числовые данные\n",
        "\n",
        "# не забываем удалить целевую переменную цену из признаков\n",
        "X,y = df_num.drop(columns = ['price']).values,df_num['price'].values\n",
        "\n",
        "# разбиваем на тестовую и тренировочную\n",
        "X_train, X_test, y_train, y_test = train_test_split(X, y, test_size=0.3, random_state=42)"
      ],
      "metadata": {
        "id": "K-hIyTI_pW5l"
      },
      "execution_count": null,
      "outputs": []
    },
    {
      "cell_type": "code",
      "source": [
        "#@title Гиперпараметры к-Ближайших Соседей{ run: \"auto\" }\n",
        "#@markdown ### количество соседей\n",
        "k = 8 #@param {type:\"slider\", min:1, max:20, step:1}\n",
        "#@markdown ### тип весов\n",
        "weights = 'distance' #@param [ 'uniform', 'distance']{type:\"string\"}\n",
        "\n",
        "\n",
        "# создаем объект класса с указанием гиперпараметров\n",
        "kNN = KNeighborsRegressor(n_neighbors=k,\n",
        "                          weights=weights )\n",
        "\n",
        "# обучаем на тренировочных данных\n",
        "kNN.fit(X_train, y_train)\n",
        "\n",
        "# предсказываем на тестовых данных\n",
        "y_predict=kNN.predict(X_test)\n",
        "\n",
        "# выбираем метрики которые будем оценивать\n",
        "# в виде словаря\n",
        "scoring = {'R2': 'r2',\n",
        "           '-MSE': 'neg_mean_squared_error',\n",
        "           '-MAE': 'neg_mean_absolute_error',\n",
        "           'Max': 'max_error'}\n",
        "\n",
        "# используем функцию кросс-валидации\n",
        "\n",
        "scores = cross_validate(kNN, # какую модель тестируем\n",
        "                        X_train, y_train, # на каких данных\n",
        "                      scoring=scoring,  #на каких метриках\n",
        "                      # как разбиваем данные при кросс-валидации\n",
        "                      cv=ShuffleSplit(n_splits=5, random_state=42))\n",
        "\n",
        "\n",
        "print('Результаты Кросс-валидации')\n",
        "DF_cv_kNN = pd.DataFrame(scores)\n",
        "display(DF_cv_kNN)\n",
        "print('\\n')\n",
        "print(DF_cv_kNN.mean()[2:])\n",
        "\n",
        "print('Ошибка на тестовых данных')\n",
        "print('MSE: %.1f' % mse(y_test,y_predict))\n",
        "print('RMSE: %.1f' % mse(y_test,y_predict,squared=False))\n",
        "print('MAE: %.1f' % mae(y_test,y_predict))\n",
        "\n",
        "print('R2 : %.4f' %  r2_score(y_test,y_predict))"
      ],
      "metadata": {
        "colab": {
          "base_uri": "https://localhost:8080/",
          "height": 431
        },
        "outputId": "27eb903d-0c6d-4ff1-d5f1-f4a8853441bd",
        "id": "4BAF2kRqpW5l"
      },
      "execution_count": null,
      "outputs": [
        {
          "output_type": "stream",
          "name": "stdout",
          "text": [
            "Результаты Кросс-валидации\n"
          ]
        },
        {
          "output_type": "display_data",
          "data": {
            "text/plain": [
              "   fit_time  score_time  test_R2  test_-MSE  test_-MAE  test_Max\n",
              "0    0.0973      0.1819   0.6721    -0.1360    -0.2605   -2.2073\n",
              "1    0.0617      0.1918   0.6605    -0.1382    -0.2618   -2.6890\n",
              "2    0.0627      0.1873   0.6343    -0.1485    -0.2656   -6.6262\n",
              "3    0.0627      0.2022   0.6382    -0.1500    -0.2678   -2.8291\n",
              "4    0.0623      0.1798   0.6228    -0.1538    -0.2673   -7.0435"
            ],
            "text/html": [
              "\n",
              "  <div id=\"df-dfe65c96-ef95-4c24-b2c3-1ffa8911addc\">\n",
              "    <div class=\"colab-df-container\">\n",
              "      <div>\n",
              "<style scoped>\n",
              "    .dataframe tbody tr th:only-of-type {\n",
              "        vertical-align: middle;\n",
              "    }\n",
              "\n",
              "    .dataframe tbody tr th {\n",
              "        vertical-align: top;\n",
              "    }\n",
              "\n",
              "    .dataframe thead th {\n",
              "        text-align: right;\n",
              "    }\n",
              "</style>\n",
              "<table border=\"1\" class=\"dataframe\">\n",
              "  <thead>\n",
              "    <tr style=\"text-align: right;\">\n",
              "      <th></th>\n",
              "      <th>fit_time</th>\n",
              "      <th>score_time</th>\n",
              "      <th>test_R2</th>\n",
              "      <th>test_-MSE</th>\n",
              "      <th>test_-MAE</th>\n",
              "      <th>test_Max</th>\n",
              "    </tr>\n",
              "  </thead>\n",
              "  <tbody>\n",
              "    <tr>\n",
              "      <th>0</th>\n",
              "      <td>0.0973</td>\n",
              "      <td>0.1819</td>\n",
              "      <td>0.6721</td>\n",
              "      <td>-0.1360</td>\n",
              "      <td>-0.2605</td>\n",
              "      <td>-2.2073</td>\n",
              "    </tr>\n",
              "    <tr>\n",
              "      <th>1</th>\n",
              "      <td>0.0617</td>\n",
              "      <td>0.1918</td>\n",
              "      <td>0.6605</td>\n",
              "      <td>-0.1382</td>\n",
              "      <td>-0.2618</td>\n",
              "      <td>-2.6890</td>\n",
              "    </tr>\n",
              "    <tr>\n",
              "      <th>2</th>\n",
              "      <td>0.0627</td>\n",
              "      <td>0.1873</td>\n",
              "      <td>0.6343</td>\n",
              "      <td>-0.1485</td>\n",
              "      <td>-0.2656</td>\n",
              "      <td>-6.6262</td>\n",
              "    </tr>\n",
              "    <tr>\n",
              "      <th>3</th>\n",
              "      <td>0.0627</td>\n",
              "      <td>0.2022</td>\n",
              "      <td>0.6382</td>\n",
              "      <td>-0.1500</td>\n",
              "      <td>-0.2678</td>\n",
              "      <td>-2.8291</td>\n",
              "    </tr>\n",
              "    <tr>\n",
              "      <th>4</th>\n",
              "      <td>0.0623</td>\n",
              "      <td>0.1798</td>\n",
              "      <td>0.6228</td>\n",
              "      <td>-0.1538</td>\n",
              "      <td>-0.2673</td>\n",
              "      <td>-7.0435</td>\n",
              "    </tr>\n",
              "  </tbody>\n",
              "</table>\n",
              "</div>\n",
              "      <button class=\"colab-df-convert\" onclick=\"convertToInteractive('df-dfe65c96-ef95-4c24-b2c3-1ffa8911addc')\"\n",
              "              title=\"Convert this dataframe to an interactive table.\"\n",
              "              style=\"display:none;\">\n",
              "        \n",
              "  <svg xmlns=\"http://www.w3.org/2000/svg\" height=\"24px\"viewBox=\"0 0 24 24\"\n",
              "       width=\"24px\">\n",
              "    <path d=\"M0 0h24v24H0V0z\" fill=\"none\"/>\n",
              "    <path d=\"M18.56 5.44l.94 2.06.94-2.06 2.06-.94-2.06-.94-.94-2.06-.94 2.06-2.06.94zm-11 1L8.5 8.5l.94-2.06 2.06-.94-2.06-.94L8.5 2.5l-.94 2.06-2.06.94zm10 10l.94 2.06.94-2.06 2.06-.94-2.06-.94-.94-2.06-.94 2.06-2.06.94z\"/><path d=\"M17.41 7.96l-1.37-1.37c-.4-.4-.92-.59-1.43-.59-.52 0-1.04.2-1.43.59L10.3 9.45l-7.72 7.72c-.78.78-.78 2.05 0 2.83L4 21.41c.39.39.9.59 1.41.59.51 0 1.02-.2 1.41-.59l7.78-7.78 2.81-2.81c.8-.78.8-2.07 0-2.86zM5.41 20L4 18.59l7.72-7.72 1.47 1.35L5.41 20z\"/>\n",
              "  </svg>\n",
              "      </button>\n",
              "      \n",
              "  <style>\n",
              "    .colab-df-container {\n",
              "      display:flex;\n",
              "      flex-wrap:wrap;\n",
              "      gap: 12px;\n",
              "    }\n",
              "\n",
              "    .colab-df-convert {\n",
              "      background-color: #E8F0FE;\n",
              "      border: none;\n",
              "      border-radius: 50%;\n",
              "      cursor: pointer;\n",
              "      display: none;\n",
              "      fill: #1967D2;\n",
              "      height: 32px;\n",
              "      padding: 0 0 0 0;\n",
              "      width: 32px;\n",
              "    }\n",
              "\n",
              "    .colab-df-convert:hover {\n",
              "      background-color: #E2EBFA;\n",
              "      box-shadow: 0px 1px 2px rgba(60, 64, 67, 0.3), 0px 1px 3px 1px rgba(60, 64, 67, 0.15);\n",
              "      fill: #174EA6;\n",
              "    }\n",
              "\n",
              "    [theme=dark] .colab-df-convert {\n",
              "      background-color: #3B4455;\n",
              "      fill: #D2E3FC;\n",
              "    }\n",
              "\n",
              "    [theme=dark] .colab-df-convert:hover {\n",
              "      background-color: #434B5C;\n",
              "      box-shadow: 0px 1px 3px 1px rgba(0, 0, 0, 0.15);\n",
              "      filter: drop-shadow(0px 1px 2px rgba(0, 0, 0, 0.3));\n",
              "      fill: #FFFFFF;\n",
              "    }\n",
              "  </style>\n",
              "\n",
              "      <script>\n",
              "        const buttonEl =\n",
              "          document.querySelector('#df-dfe65c96-ef95-4c24-b2c3-1ffa8911addc button.colab-df-convert');\n",
              "        buttonEl.style.display =\n",
              "          google.colab.kernel.accessAllowed ? 'block' : 'none';\n",
              "\n",
              "        async function convertToInteractive(key) {\n",
              "          const element = document.querySelector('#df-dfe65c96-ef95-4c24-b2c3-1ffa8911addc');\n",
              "          const dataTable =\n",
              "            await google.colab.kernel.invokeFunction('convertToInteractive',\n",
              "                                                     [key], {});\n",
              "          if (!dataTable) return;\n",
              "\n",
              "          const docLinkHtml = 'Like what you see? Visit the ' +\n",
              "            '<a target=\"_blank\" href=https://colab.research.google.com/notebooks/data_table.ipynb>data table notebook</a>'\n",
              "            + ' to learn more about interactive tables.';\n",
              "          element.innerHTML = '';\n",
              "          dataTable['output_type'] = 'display_data';\n",
              "          await google.colab.output.renderOutput(dataTable, element);\n",
              "          const docLink = document.createElement('div');\n",
              "          docLink.innerHTML = docLinkHtml;\n",
              "          element.appendChild(docLink);\n",
              "        }\n",
              "      </script>\n",
              "    </div>\n",
              "  </div>\n",
              "  "
            ]
          },
          "metadata": {}
        },
        {
          "output_type": "stream",
          "name": "stdout",
          "text": [
            "\n",
            "\n",
            "test_R2      0.6456\n",
            "test_-MSE   -0.1453\n",
            "test_-MAE   -0.2646\n",
            "test_Max    -4.2790\n",
            "dtype: float64\n",
            "Ошибка на тестовых данных\n",
            "MSE: 0.2\n",
            "RMSE: 0.4\n",
            "MAE: 0.3\n",
            "R2 : 0.6283\n"
          ]
        }
      ]
    },
    {
      "cell_type": "markdown",
      "source": [
        "Мы сходу получаем приемлемые метрики для модели без выбросов. От этих значений уже можно отталкиваться для улучшения качества модели."
      ],
      "metadata": {
        "id": "wwJ-kr4bYudT"
      }
    },
    {
      "cell_type": "markdown",
      "source": [
        "### Оценка весов признаков модели"
      ],
      "metadata": {
        "id": "uAhrEJJquT1u"
      }
    },
    {
      "cell_type": "markdown",
      "source": [
        "Попытка выявить важность отдельных признаков методом RFE из sklearn.feature_selection"
      ],
      "metadata": {
        "id": "DU_J3fjXh-ic"
      }
    },
    {
      "cell_type": "code",
      "source": [
        "num_columns.pop(0)"
      ],
      "metadata": {
        "colab": {
          "base_uri": "https://localhost:8080/",
          "height": 36
        },
        "id": "fej4XigzsPLO",
        "outputId": "8af67b54-fe0b-4230-fbd7-12d0205dfa73"
      },
      "execution_count": null,
      "outputs": [
        {
          "output_type": "execute_result",
          "data": {
            "text/plain": [
              "'price'"
            ],
            "application/vnd.google.colaboratory.intrinsic+json": {
              "type": "string"
            }
          },
          "metadata": {},
          "execution_count": 56
        }
      ]
    },
    {
      "cell_type": "code",
      "source": [
        "from sklearn.feature_selection import RFE\n",
        "\n",
        "# отбор наиболее важных признаков с помощью RFE\n",
        "selector = RFE(kNN, n_features_to_select=7, step=1)\n",
        "selector.fit(X, y)\n",
        "\n",
        "# вывод результатов\n",
        "for feature, support in zip(num_columns, selector.support_):\n",
        "    print(f\"{feature}: {support}\")"
      ],
      "metadata": {
        "colab": {
          "base_uri": "https://localhost:8080/"
        },
        "id": "Ov8dZtf4mfyp",
        "outputId": "7a49ab9f-7f1f-4e39-de30-a93eb40d7c4b"
      },
      "execution_count": null,
      "outputs": [
        {
          "output_type": "stream",
          "name": "stdout",
          "text": [
            "level: True\n",
            "levels: True\n",
            "rooms: True\n",
            "area: True\n",
            "kitchen_area: True\n",
            "geo_lat: True\n",
            "geo_lon: True\n"
          ]
        }
      ]
    },
    {
      "cell_type": "markdown",
      "source": [
        "Вроде как все признаки полезны для построения модели. Но я могу ошибаться в своей интерпретации."
      ],
      "metadata": {
        "id": "_UkadfG7iw7Z"
      }
    },
    {
      "cell_type": "code",
      "source": [
        "selector.ranking_"
      ],
      "metadata": {
        "colab": {
          "base_uri": "https://localhost:8080/"
        },
        "id": "vIW55ucpsMO1",
        "outputId": "38b34859-fb67-48af-d65c-ed8e3c09b1b7"
      },
      "execution_count": null,
      "outputs": [
        {
          "output_type": "execute_result",
          "data": {
            "text/plain": [
              "array([1, 1, 1, 1, 1, 1, 1])"
            ]
          },
          "metadata": {},
          "execution_count": 63
        }
      ]
    },
    {
      "cell_type": "markdown",
      "source": [
        "### 2. Отбор гиперпараметров рандамизированным поиском"
      ],
      "metadata": {
        "id": "OPjvD_8ypW5l"
      }
    },
    {
      "cell_type": "code",
      "source": [
        "from sklearn.model_selection import RandomizedSearchCV # для поиска при случайном сэмплирование гиперпараметров\n",
        "from scipy import stats\n",
        "\n",
        "# словарь гиперпараметров в виде\n",
        "# обозначение гиперпараметров : из какого распределения сэмплируем\n",
        "# обозначение должно \"досимвольно\" совпадать с тем что в документации\n",
        "parameters = {'n_neighbors':stats.randint(1,50), # задаем распределение как равномерное от 1 до 50\n",
        "              'weights':['uniform', 'distance']}\n",
        "\n",
        "# количество итераций\n",
        "n_iter_search = 20\n",
        "\n",
        "kNN_search = RandomizedSearchCV(estimator = KNeighborsRegressor(),  # оптимизируем нашу модель\n",
        "                                verbose = 3,  # чтобы он всё подробно расписал. если не интересно - пишем 0\n",
        "                          param_distributions=parameters , # что оптимизируем - берем из словарика\n",
        "                          cv=ShuffleSplit(n_splits=5, random_state=42), # указываем тип кросс-валидации\n",
        "                          n_iter = n_iter_search # количество итераций\n",
        "                          )"
      ],
      "metadata": {
        "id": "pZwQNyUJpW5m"
      },
      "execution_count": null,
      "outputs": []
    },
    {
      "cell_type": "code",
      "source": [
        "kNN_search.fit(X_train, y_train)\n",
        "\n",
        "kNNbest=kNN_search.best_estimator_\n",
        "\n",
        "kNNbest.fit(X_train, y_train);"
      ],
      "metadata": {
        "colab": {
          "base_uri": "https://localhost:8080/"
        },
        "outputId": "18f514ac-2d48-405d-c555-e67d2fde1967",
        "id": "8VCOjshZpW5m"
      },
      "execution_count": null,
      "outputs": [
        {
          "output_type": "stream",
          "name": "stdout",
          "text": [
            "Fitting 5 folds for each of 20 candidates, totalling 100 fits\n",
            "[CV 1/5] END ..n_neighbors=29, weights=distance;, score=0.672 total time=   0.4s\n",
            "[CV 2/5] END ..n_neighbors=29, weights=distance;, score=0.656 total time=   0.4s\n",
            "[CV 3/5] END ..n_neighbors=29, weights=distance;, score=0.644 total time=   0.4s\n",
            "[CV 4/5] END ..n_neighbors=29, weights=distance;, score=0.646 total time=   0.4s\n",
            "[CV 5/5] END ..n_neighbors=29, weights=distance;, score=0.638 total time=   0.4s\n",
            "[CV 1/5] END ..n_neighbors=41, weights=distance;, score=0.666 total time=   0.5s\n",
            "[CV 2/5] END ..n_neighbors=41, weights=distance;, score=0.650 total time=   0.4s\n",
            "[CV 3/5] END ..n_neighbors=41, weights=distance;, score=0.641 total time=   0.4s\n",
            "[CV 4/5] END ..n_neighbors=41, weights=distance;, score=0.642 total time=   0.4s\n",
            "[CV 5/5] END ..n_neighbors=41, weights=distance;, score=0.635 total time=   0.4s\n",
            "[CV 1/5] END ..n_neighbors=42, weights=distance;, score=0.665 total time=   0.5s\n",
            "[CV 2/5] END ..n_neighbors=42, weights=distance;, score=0.649 total time=   0.4s\n",
            "[CV 3/5] END ..n_neighbors=42, weights=distance;, score=0.641 total time=   0.4s\n",
            "[CV 4/5] END ..n_neighbors=42, weights=distance;, score=0.642 total time=   0.4s\n",
            "[CV 5/5] END ..n_neighbors=42, weights=distance;, score=0.634 total time=   0.4s\n",
            "[CV 1/5] END ..n_neighbors=48, weights=distance;, score=0.663 total time=   0.5s\n",
            "[CV 2/5] END ..n_neighbors=48, weights=distance;, score=0.646 total time=   0.7s\n",
            "[CV 3/5] END ..n_neighbors=48, weights=distance;, score=0.640 total time=   0.7s\n",
            "[CV 4/5] END ..n_neighbors=48, weights=distance;, score=0.641 total time=   0.7s\n",
            "[CV 5/5] END ..n_neighbors=48, weights=distance;, score=0.633 total time=   0.7s\n",
            "[CV 1/5] END ...n_neighbors=21, weights=uniform;, score=0.619 total time=   0.5s\n",
            "[CV 2/5] END ...n_neighbors=21, weights=uniform;, score=0.608 total time=   0.5s\n",
            "[CV 3/5] END ...n_neighbors=21, weights=uniform;, score=0.604 total time=   0.5s\n",
            "[CV 4/5] END ...n_neighbors=21, weights=uniform;, score=0.604 total time=   0.3s\n",
            "[CV 5/5] END ...n_neighbors=21, weights=uniform;, score=0.591 total time=   0.3s\n",
            "[CV 1/5] END ..n_neighbors=39, weights=distance;, score=0.667 total time=   0.4s\n",
            "[CV 2/5] END ..n_neighbors=39, weights=distance;, score=0.651 total time=   0.4s\n",
            "[CV 3/5] END ..n_neighbors=39, weights=distance;, score=0.642 total time=   0.4s\n",
            "[CV 4/5] END ..n_neighbors=39, weights=distance;, score=0.643 total time=   0.4s\n",
            "[CV 5/5] END ..n_neighbors=39, weights=distance;, score=0.636 total time=   0.4s\n",
            "[CV 1/5] END ...n_neighbors=22, weights=uniform;, score=0.618 total time=   0.3s\n",
            "[CV 2/5] END ...n_neighbors=22, weights=uniform;, score=0.606 total time=   0.3s\n",
            "[CV 3/5] END ...n_neighbors=22, weights=uniform;, score=0.603 total time=   0.3s\n",
            "[CV 4/5] END ...n_neighbors=22, weights=uniform;, score=0.603 total time=   0.3s\n",
            "[CV 5/5] END ...n_neighbors=22, weights=uniform;, score=0.590 total time=   0.3s\n",
            "[CV 1/5] END ..n_neighbors=37, weights=distance;, score=0.668 total time=   0.4s\n",
            "[CV 2/5] END ..n_neighbors=37, weights=distance;, score=0.652 total time=   0.4s\n",
            "[CV 3/5] END ..n_neighbors=37, weights=distance;, score=0.642 total time=   0.4s\n",
            "[CV 4/5] END ..n_neighbors=37, weights=distance;, score=0.644 total time=   0.4s\n",
            "[CV 5/5] END ..n_neighbors=37, weights=distance;, score=0.637 total time=   0.4s\n",
            "[CV 1/5] END ..n_neighbors=43, weights=distance;, score=0.665 total time=   0.4s\n",
            "[CV 2/5] END ..n_neighbors=43, weights=distance;, score=0.648 total time=   0.5s\n",
            "[CV 3/5] END ..n_neighbors=43, weights=distance;, score=0.641 total time=   0.4s\n",
            "[CV 4/5] END ..n_neighbors=43, weights=distance;, score=0.642 total time=   0.4s\n",
            "[CV 5/5] END ..n_neighbors=43, weights=distance;, score=0.634 total time=   0.4s\n",
            "[CV 1/5] END ..n_neighbors=10, weights=distance;, score=0.673 total time=   0.3s\n",
            "[CV 2/5] END ..n_neighbors=10, weights=distance;, score=0.661 total time=   0.3s\n",
            "[CV 3/5] END ..n_neighbors=10, weights=distance;, score=0.638 total time=   0.3s\n",
            "[CV 4/5] END ..n_neighbors=10, weights=distance;, score=0.644 total time=   0.3s\n",
            "[CV 5/5] END ..n_neighbors=10, weights=distance;, score=0.628 total time=   0.4s\n",
            "[CV 1/5] END ..n_neighbors=34, weights=distance;, score=0.670 total time=   0.6s\n",
            "[CV 2/5] END ..n_neighbors=34, weights=distance;, score=0.653 total time=   0.6s\n",
            "[CV 3/5] END ..n_neighbors=34, weights=distance;, score=0.643 total time=   0.6s\n",
            "[CV 4/5] END ..n_neighbors=34, weights=distance;, score=0.646 total time=   0.6s\n",
            "[CV 5/5] END ..n_neighbors=34, weights=distance;, score=0.638 total time=   0.6s\n",
            "[CV 1/5] END ...n_neighbors=36, weights=uniform;, score=0.609 total time=   0.7s\n",
            "[CV 2/5] END ...n_neighbors=36, weights=uniform;, score=0.595 total time=   0.5s\n",
            "[CV 3/5] END ...n_neighbors=36, weights=uniform;, score=0.595 total time=   0.4s\n",
            "[CV 4/5] END ...n_neighbors=36, weights=uniform;, score=0.597 total time=   0.4s\n",
            "[CV 5/5] END ...n_neighbors=36, weights=uniform;, score=0.585 total time=   0.4s\n",
            "[CV 1/5] END ..n_neighbors=33, weights=distance;, score=0.670 total time=   0.4s\n",
            "[CV 2/5] END ..n_neighbors=33, weights=distance;, score=0.653 total time=   0.4s\n",
            "[CV 3/5] END ..n_neighbors=33, weights=distance;, score=0.643 total time=   0.4s\n",
            "[CV 4/5] END ..n_neighbors=33, weights=distance;, score=0.646 total time=   0.4s\n",
            "[CV 5/5] END ..n_neighbors=33, weights=distance;, score=0.638 total time=   0.4s\n",
            "[CV 1/5] END ...n_neighbors=34, weights=uniform;, score=0.611 total time=   0.4s\n",
            "[CV 2/5] END ...n_neighbors=34, weights=uniform;, score=0.595 total time=   0.4s\n",
            "[CV 3/5] END ...n_neighbors=34, weights=uniform;, score=0.596 total time=   0.4s\n",
            "[CV 4/5] END ...n_neighbors=34, weights=uniform;, score=0.598 total time=   0.4s\n",
            "[CV 5/5] END ...n_neighbors=34, weights=uniform;, score=0.586 total time=   0.4s\n",
            "[CV 1/5] END ...n_neighbors=9, weights=distance;, score=0.672 total time=   0.3s\n",
            "[CV 2/5] END ...n_neighbors=9, weights=distance;, score=0.664 total time=   0.3s\n",
            "[CV 3/5] END ...n_neighbors=9, weights=distance;, score=0.638 total time=   0.3s\n",
            "[CV 4/5] END ...n_neighbors=9, weights=distance;, score=0.642 total time=   0.3s\n",
            "[CV 5/5] END ...n_neighbors=9, weights=distance;, score=0.626 total time=   0.3s\n",
            "[CV 1/5] END ..n_neighbors=11, weights=distance;, score=0.674 total time=   0.3s\n",
            "[CV 2/5] END ..n_neighbors=11, weights=distance;, score=0.663 total time=   0.3s\n",
            "[CV 3/5] END ..n_neighbors=11, weights=distance;, score=0.641 total time=   0.3s\n",
            "[CV 4/5] END ..n_neighbors=11, weights=distance;, score=0.644 total time=   0.3s\n",
            "[CV 5/5] END ..n_neighbors=11, weights=distance;, score=0.631 total time=   0.3s\n",
            "[CV 1/5] END ....n_neighbors=8, weights=uniform;, score=0.629 total time=   0.2s\n",
            "[CV 2/5] END ....n_neighbors=8, weights=uniform;, score=0.619 total time=   0.3s\n",
            "[CV 3/5] END ....n_neighbors=8, weights=uniform;, score=0.605 total time=   0.3s\n",
            "[CV 4/5] END ....n_neighbors=8, weights=uniform;, score=0.605 total time=   0.2s\n",
            "[CV 5/5] END ....n_neighbors=8, weights=uniform;, score=0.588 total time=   0.2s\n",
            "[CV 1/5] END ..n_neighbors=33, weights=distance;, score=0.670 total time=   0.4s\n",
            "[CV 2/5] END ..n_neighbors=33, weights=distance;, score=0.653 total time=   0.5s\n",
            "[CV 3/5] END ..n_neighbors=33, weights=distance;, score=0.643 total time=   0.6s\n",
            "[CV 4/5] END ..n_neighbors=33, weights=distance;, score=0.646 total time=   0.6s\n",
            "[CV 5/5] END ..n_neighbors=33, weights=distance;, score=0.638 total time=   0.6s\n",
            "[CV 1/5] END ...n_neighbors=16, weights=uniform;, score=0.622 total time=   0.5s\n",
            "[CV 2/5] END ...n_neighbors=16, weights=uniform;, score=0.611 total time=   0.5s\n",
            "[CV 3/5] END ...n_neighbors=16, weights=uniform;, score=0.609 total time=   0.5s\n",
            "[CV 4/5] END ...n_neighbors=16, weights=uniform;, score=0.604 total time=   0.5s\n",
            "[CV 5/5] END ...n_neighbors=16, weights=uniform;, score=0.593 total time=   0.4s\n",
            "[CV 1/5] END ....n_neighbors=6, weights=uniform;, score=0.628 total time=   0.2s\n",
            "[CV 2/5] END ....n_neighbors=6, weights=uniform;, score=0.614 total time=   0.2s\n",
            "[CV 3/5] END ....n_neighbors=6, weights=uniform;, score=0.593 total time=   0.2s\n",
            "[CV 4/5] END ....n_neighbors=6, weights=uniform;, score=0.597 total time=   0.2s\n",
            "[CV 5/5] END ....n_neighbors=6, weights=uniform;, score=0.582 total time=   0.2s\n"
          ]
        }
      ]
    },
    {
      "cell_type": "code",
      "source": [
        "y_predict=kNNbest.predict(X_test)\n",
        "\n",
        "print('Ошибка на тестовых данных')\n",
        "print('MSE: %.1f' % mse(y_test,y_predict))\n",
        "print('RMSE: %.1f' % mse(y_test,y_predict,squared=False))\n",
        "print('MAE: %.1f' % mae(y_test,y_predict))\n",
        "\n",
        "print('R2 : %.4f' %  r2_score(y_test,y_predict))"
      ],
      "metadata": {
        "colab": {
          "base_uri": "https://localhost:8080/"
        },
        "outputId": "430c4b1a-4c9b-4519-9358-6d26b47633e2",
        "id": "_swzxdQ3pW5m"
      },
      "execution_count": null,
      "outputs": [
        {
          "output_type": "stream",
          "name": "stdout",
          "text": [
            "Ошибка на тестовых данных\n",
            "MSE: 0.2\n",
            "RMSE: 0.4\n",
            "MAE: 0.3\n",
            "R2 : 0.6343\n"
          ]
        }
      ]
    },
    {
      "cell_type": "markdown",
      "source": [
        "Рандамизированный подбор гиперпараметров незначительно улучшил R2 метрику."
      ],
      "metadata": {
        "id": "x8u_hTIxZWQn"
      }
    },
    {
      "cell_type": "markdown",
      "source": [
        "Модель без выбросов делает уже не такие огромные ошибки по сравнению с предыдущей и может уловить тренд."
      ],
      "metadata": {
        "id": "6-HcdXv4ZsxV"
      }
    },
    {
      "cell_type": "code",
      "source": [
        "fig=plt.figure(figsize=(10, 7))\n",
        "sorted = np.argsort(y_test)\n",
        "print_stem(y_predict[sorted], 'Предсказанные Значения', 'rD')\n",
        "print_stem(y_test[sorted], 'Тестовые Значения', 'go')\n",
        "\n",
        "plt.grid()\n",
        "plt.title('Сортировка по Возрастанию целевой переменной')\n",
        "plt.legend();"
      ],
      "metadata": {
        "colab": {
          "base_uri": "https://localhost:8080/",
          "height": 681
        },
        "outputId": "7e2a3671-c4f6-4195-ec8e-705c8006d70c",
        "id": "HrQNywxYpW5m"
      },
      "execution_count": null,
      "outputs": [
        {
          "output_type": "stream",
          "name": "stderr",
          "text": [
            "<ipython-input-141-264cb6f49b70>:2: MatplotlibDeprecationWarning: The 'use_line_collection' parameter of stem() was deprecated in Matplotlib 3.6 and will be removed two minor releases later. If any parameter follows 'use_line_collection', they should be passed as keyword, not positionally.\n",
            "  markerline, stemlines, baseline = plt.stem(y, markerfmt=marker,label = label,use_line_collection = True, )\n"
          ]
        },
        {
          "output_type": "display_data",
          "data": {
            "text/plain": [
              "<Figure size 1000x700 with 1 Axes>"
            ],
            "image/png": "[encoded data removed]"
          },
          "metadata": {}
        }
      ]
    },
    {
      "cell_type": "markdown",
      "source": [
        "Результаты перебора"
      ],
      "metadata": {
        "id": "mqarV4-VpW5m"
      }
    },
    {
      "cell_type": "code",
      "source": [
        "DF_reg=pd.DataFrame(kNN_search.cv_results_)\n",
        "df_reg = DF_reg[['param_n_neighbors','param_weights',\n",
        "             'mean_test_score', 'std_test_score', 'rank_test_score']]\n",
        "cm = sns.light_palette(\"purple\", as_cmap=True)\n",
        "hl = df_reg.sort_values(by = 'rank_test_score').style.background_gradient(cmap=cm)\n",
        "hl"
      ],
      "metadata": {
        "colab": {
          "base_uri": "https://localhost:8080/",
          "height": 676
        },
        "outputId": "7e900621-8ac8-4b9f-82e7-27d97d6773d3",
        "id": "Q_wvfM4rpW5m"
      },
      "execution_count": null,
      "outputs": [
        {
          "output_type": "execute_result",
          "data": {
            "text/plain": [
              "<pandas.io.formats.style.Styler at 0x7f253ce23100>"
            ],
            "text/html": [
              "<style type=\"text/css\">\n",
              "#T_59768_row0_col2, #T_59768_row7_col3, #T_59768_row19_col4 {\n",
              "  background-color: #800080;\n",
              "  color: #f1f1f1;\n",
              "}\n",
              "#T_59768_row0_col3 {\n",
              "  background-color: #bf85bf;\n",
              "  color: #f1f1f1;\n",
              "}\n",
              "#T_59768_row0_col4, #T_59768_row19_col2, #T_59768_row19_col3 {\n",
              "  background-color: #f3f0f3;\n",
              "  color: #000000;\n",
              "}\n",
              "#T_59768_row1_col2 {\n",
              "  background-color: #810381;\n",
              "  color: #f1f1f1;\n",
              "}\n",
              "#T_59768_row1_col3 {\n",
              "  background-color: #922592;\n",
              "  color: #f1f1f1;\n",
              "}\n",
              "#T_59768_row1_col4, #T_59768_row18_col3 {\n",
              "  background-color: #ede3ed;\n",
              "  color: #000000;\n",
              "}\n",
              "#T_59768_row2_col2, #T_59768_row3_col2 {\n",
              "  background-color: #820482;\n",
              "  color: #f1f1f1;\n",
              "}\n",
              "#T_59768_row2_col3, #T_59768_row3_col3 {\n",
              "  background-color: #c998c9;\n",
              "  color: #f1f1f1;\n",
              "}\n",
              "#T_59768_row2_col4, #T_59768_row3_col4 {\n",
              "  background-color: #e7d7e7;\n",
              "  color: #000000;\n",
              "}\n",
              "#T_59768_row4_col2 {\n",
              "  background-color: #830683;\n",
              "  color: #f1f1f1;\n",
              "}\n",
              "#T_59768_row4_col3 {\n",
              "  background-color: #c895c8;\n",
              "  color: #f1f1f1;\n",
              "}\n",
              "#T_59768_row4_col4 {\n",
              "  background-color: #dbbedb;\n",
              "  color: #000000;\n",
              "}\n",
              "#T_59768_row5_col2 {\n",
              "  background-color: #850985;\n",
              "  color: #f1f1f1;\n",
              "}\n",
              "#T_59768_row5_col3 {\n",
              "  background-color: #881188;\n",
              "  color: #f1f1f1;\n",
              "}\n",
              "#T_59768_row5_col4, #T_59768_row12_col3 {\n",
              "  background-color: #d5b1d5;\n",
              "  color: #000000;\n",
              "}\n",
              "#T_59768_row6_col2 {\n",
              "  background-color: #850a85;\n",
              "  color: #f1f1f1;\n",
              "}\n",
              "#T_59768_row6_col3 {\n",
              "  background-color: #cda0cd;\n",
              "  color: #000000;\n",
              "}\n",
              "#T_59768_row6_col4 {\n",
              "  background-color: #cfa5cf;\n",
              "  color: #000000;\n",
              "}\n",
              "#T_59768_row7_col2, #T_59768_row18_col4 {\n",
              "  background-color: #860c86;\n",
              "  color: #f1f1f1;\n",
              "}\n",
              "#T_59768_row7_col4 {\n",
              "  background-color: #c897c8;\n",
              "  color: #f1f1f1;\n",
              "}\n",
              "#T_59768_row8_col2 {\n",
              "  background-color: #870e87;\n",
              "  color: #f1f1f1;\n",
              "}\n",
              "#T_59768_row8_col3 {\n",
              "  background-color: #cc9fcc;\n",
              "  color: #000000;\n",
              "}\n",
              "#T_59768_row8_col4 {\n",
              "  background-color: #c38bc3;\n",
              "  color: #f1f1f1;\n",
              "}\n",
              "#T_59768_row9_col2 {\n",
              "  background-color: #891389;\n",
              "  color: #f1f1f1;\n",
              "}\n",
              "#T_59768_row9_col3, #T_59768_row10_col3 {\n",
              "  background-color: #cda2cd;\n",
              "  color: #000000;\n",
              "}\n",
              "#T_59768_row9_col4 {\n",
              "  background-color: #bc7ebc;\n",
              "  color: #f1f1f1;\n",
              "}\n",
              "#T_59768_row10_col2 {\n",
              "  background-color: #8a168a;\n",
              "  color: #f1f1f1;\n",
              "}\n",
              "#T_59768_row10_col4 {\n",
              "  background-color: #b672b6;\n",
              "  color: #f1f1f1;\n",
              "}\n",
              "#T_59768_row11_col2 {\n",
              "  background-color: #8b178b;\n",
              "  color: #f1f1f1;\n",
              "}\n",
              "#T_59768_row11_col3 {\n",
              "  background-color: #d1a8d1;\n",
              "  color: #000000;\n",
              "}\n",
              "#T_59768_row11_col4 {\n",
              "  background-color: #b065b0;\n",
              "  color: #f1f1f1;\n",
              "}\n",
              "#T_59768_row12_col2 {\n",
              "  background-color: #8e1d8e;\n",
              "  color: #f1f1f1;\n",
              "}\n",
              "#T_59768_row12_col4 {\n",
              "  background-color: #aa58aa;\n",
              "  color: #f1f1f1;\n",
              "}\n",
              "#T_59768_row13_col2 {\n",
              "  background-color: #d8b7d8;\n",
              "  color: #000000;\n",
              "}\n",
              "#T_59768_row13_col3 {\n",
              "  background-color: #a44aa4;\n",
              "  color: #f1f1f1;\n",
              "}\n",
              "#T_59768_row13_col4 {\n",
              "  background-color: #a44ba4;\n",
              "  color: #f1f1f1;\n",
              "}\n",
              "#T_59768_row14_col2 {\n",
              "  background-color: #dabdda;\n",
              "  color: #000000;\n",
              "}\n",
              "#T_59768_row14_col3 {\n",
              "  background-color: #dbbfdb;\n",
              "  color: #000000;\n",
              "}\n",
              "#T_59768_row14_col4 {\n",
              "  background-color: #9e3f9e;\n",
              "  color: #f1f1f1;\n",
              "}\n",
              "#T_59768_row15_col2 {\n",
              "  background-color: #e0c9e0;\n",
              "  color: #000000;\n",
              "}\n",
              "#T_59768_row15_col3 {\n",
              "  background-color: #e0c8e0;\n",
              "  color: #000000;\n",
              "}\n",
              "#T_59768_row15_col4 {\n",
              "  background-color: #983298;\n",
              "  color: #f1f1f1;\n",
              "}\n",
              "#T_59768_row16_col2 {\n",
              "  background-color: #e3cee3;\n",
              "  color: #000000;\n",
              "}\n",
              "#T_59768_row16_col3 {\n",
              "  background-color: #e2cce2;\n",
              "  color: #000000;\n",
              "}\n",
              "#T_59768_row16_col4 {\n",
              "  background-color: #922692;\n",
              "  color: #f1f1f1;\n",
              "}\n",
              "#T_59768_row17_col2 {\n",
              "  background-color: #e5d3e5;\n",
              "  color: #000000;\n",
              "}\n",
              "#T_59768_row17_col3 {\n",
              "  background-color: #8a158a;\n",
              "  color: #f1f1f1;\n",
              "}\n",
              "#T_59768_row17_col4 {\n",
              "  background-color: #8c188c;\n",
              "  color: #f1f1f1;\n",
              "}\n",
              "#T_59768_row18_col2 {\n",
              "  background-color: #f1ecf1;\n",
              "  color: #000000;\n",
              "}\n",
              "</style>\n",
              "<table id=\"T_59768\" class=\"dataframe\">\n",
              "  <thead>\n",
              "    <tr>\n",
              "      <th class=\"blank level0\" >&nbsp;</th>\n",
              "      <th id=\"T_59768_level0_col0\" class=\"col_heading level0 col0\" >param_n_neighbors</th>\n",
              "      <th id=\"T_59768_level0_col1\" class=\"col_heading level0 col1\" >param_weights</th>\n",
              "      <th id=\"T_59768_level0_col2\" class=\"col_heading level0 col2\" >mean_test_score</th>\n",
              "      <th id=\"T_59768_level0_col3\" class=\"col_heading level0 col3\" >std_test_score</th>\n",
              "      <th id=\"T_59768_level0_col4\" class=\"col_heading level0 col4\" >rank_test_score</th>\n",
              "    </tr>\n",
              "  </thead>\n",
              "  <tbody>\n",
              "    <tr>\n",
              "      <th id=\"T_59768_level0_row0\" class=\"row_heading level0 row0\" >0</th>\n",
              "      <td id=\"T_59768_row0_col0\" class=\"data row0 col0\" >29</td>\n",
              "      <td id=\"T_59768_row0_col1\" class=\"data row0 col1\" >distance</td>\n",
              "      <td id=\"T_59768_row0_col2\" class=\"data row0 col2\" >0.651211</td>\n",
              "      <td id=\"T_59768_row0_col3\" class=\"data row0 col3\" >0.011774</td>\n",
              "      <td id=\"T_59768_row0_col4\" class=\"data row0 col4\" >1</td>\n",
              "    </tr>\n",
              "    <tr>\n",
              "      <th id=\"T_59768_level0_row1\" class=\"row_heading level0 row1\" >15</th>\n",
              "      <td id=\"T_59768_row1_col0\" class=\"data row1 col0\" >11</td>\n",
              "      <td id=\"T_59768_row1_col1\" class=\"data row1 col1\" >distance</td>\n",
              "      <td id=\"T_59768_row1_col2\" class=\"data row1 col2\" >0.650395</td>\n",
              "      <td id=\"T_59768_row1_col3\" class=\"data row1 col3\" >0.015474</td>\n",
              "      <td id=\"T_59768_row1_col4\" class=\"data row1 col4\" >2</td>\n",
              "    </tr>\n",
              "    <tr>\n",
              "      <th id=\"T_59768_level0_row2\" class=\"row_heading level0 row2\" >17</th>\n",
              "      <td id=\"T_59768_row2_col0\" class=\"data row2 col0\" >33</td>\n",
              "      <td id=\"T_59768_row2_col1\" class=\"data row2 col1\" >distance</td>\n",
              "      <td id=\"T_59768_row2_col2\" class=\"data row2 col2\" >0.650198</td>\n",
              "      <td id=\"T_59768_row2_col3\" class=\"data row2 col3\" >0.011000</td>\n",
              "      <td id=\"T_59768_row2_col4\" class=\"data row2 col4\" >3</td>\n",
              "    </tr>\n",
              "    <tr>\n",
              "      <th id=\"T_59768_level0_row3\" class=\"row_heading level0 row3\" >12</th>\n",
              "      <td id=\"T_59768_row3_col0\" class=\"data row3 col0\" >33</td>\n",
              "      <td id=\"T_59768_row3_col1\" class=\"data row3 col1\" >distance</td>\n",
              "      <td id=\"T_59768_row3_col2\" class=\"data row3 col2\" >0.650198</td>\n",
              "      <td id=\"T_59768_row3_col3\" class=\"data row3 col3\" >0.011000</td>\n",
              "      <td id=\"T_59768_row3_col4\" class=\"data row3 col4\" >3</td>\n",
              "    </tr>\n",
              "    <tr>\n",
              "      <th id=\"T_59768_level0_row4\" class=\"row_heading level0 row4\" >10</th>\n",
              "      <td id=\"T_59768_row4_col0\" class=\"data row4 col0\" >34</td>\n",
              "      <td id=\"T_59768_row4_col1\" class=\"data row4 col1\" >distance</td>\n",
              "      <td id=\"T_59768_row4_col2\" class=\"data row4 col2\" >0.649800</td>\n",
              "      <td id=\"T_59768_row4_col3\" class=\"data row4 col3\" >0.011139</td>\n",
              "      <td id=\"T_59768_row4_col4\" class=\"data row4 col4\" >5</td>\n",
              "    </tr>\n",
              "    <tr>\n",
              "      <th id=\"T_59768_level0_row5\" class=\"row_heading level0 row5\" >9</th>\n",
              "      <td id=\"T_59768_row5_col0\" class=\"data row5 col0\" >10</td>\n",
              "      <td id=\"T_59768_row5_col1\" class=\"data row5 col1\" >distance</td>\n",
              "      <td id=\"T_59768_row5_col2\" class=\"data row5 col2\" >0.648953</td>\n",
              "      <td id=\"T_59768_row5_col3\" class=\"data row5 col3\" >0.016265</td>\n",
              "      <td id=\"T_59768_row5_col4\" class=\"data row5 col4\" >6</td>\n",
              "    </tr>\n",
              "    <tr>\n",
              "      <th id=\"T_59768_level0_row6\" class=\"row_heading level0 row6\" >7</th>\n",
              "      <td id=\"T_59768_row6_col0\" class=\"data row6 col0\" >37</td>\n",
              "      <td id=\"T_59768_row6_col1\" class=\"data row6 col1\" >distance</td>\n",
              "      <td id=\"T_59768_row6_col2\" class=\"data row6 col2\" >0.648742</td>\n",
              "      <td id=\"T_59768_row6_col3\" class=\"data row6 col3\" >0.010717</td>\n",
              "      <td id=\"T_59768_row6_col4\" class=\"data row6 col4\" >7</td>\n",
              "    </tr>\n",
              "    <tr>\n",
              "      <th id=\"T_59768_level0_row7\" class=\"row_heading level0 row7\" >14</th>\n",
              "      <td id=\"T_59768_row7_col0\" class=\"data row7 col0\" >9</td>\n",
              "      <td id=\"T_59768_row7_col1\" class=\"data row7 col1\" >distance</td>\n",
              "      <td id=\"T_59768_row7_col2\" class=\"data row7 col2\" >0.648352</td>\n",
              "      <td id=\"T_59768_row7_col3\" class=\"data row7 col3\" >0.016926</td>\n",
              "      <td id=\"T_59768_row7_col4\" class=\"data row7 col4\" >8</td>\n",
              "    </tr>\n",
              "    <tr>\n",
              "      <th id=\"T_59768_level0_row8\" class=\"row_heading level0 row8\" >5</th>\n",
              "      <td id=\"T_59768_row8_col0\" class=\"data row8 col0\" >39</td>\n",
              "      <td id=\"T_59768_row8_col1\" class=\"data row8 col1\" >distance</td>\n",
              "      <td id=\"T_59768_row8_col2\" class=\"data row8 col2\" >0.647861</td>\n",
              "      <td id=\"T_59768_row8_col3\" class=\"data row8 col3\" >0.010761</td>\n",
              "      <td id=\"T_59768_row8_col4\" class=\"data row8 col4\" >9</td>\n",
              "    </tr>\n",
              "    <tr>\n",
              "      <th id=\"T_59768_level0_row9\" class=\"row_heading level0 row9\" >1</th>\n",
              "      <td id=\"T_59768_row9_col0\" class=\"data row9 col0\" >41</td>\n",
              "      <td id=\"T_59768_row9_col1\" class=\"data row9 col1\" >distance</td>\n",
              "      <td id=\"T_59768_row9_col2\" class=\"data row9 col2\" >0.646887</td>\n",
              "      <td id=\"T_59768_row9_col3\" class=\"data row9 col3\" >0.010665</td>\n",
              "      <td id=\"T_59768_row9_col4\" class=\"data row9 col4\" >10</td>\n",
              "    </tr>\n",
              "    <tr>\n",
              "      <th id=\"T_59768_level0_row10\" class=\"row_heading level0 row10\" >2</th>\n",
              "      <td id=\"T_59768_row10_col0\" class=\"data row10 col0\" >42</td>\n",
              "      <td id=\"T_59768_row10_col1\" class=\"data row10 col1\" >distance</td>\n",
              "      <td id=\"T_59768_row10_col2\" class=\"data row10 col2\" >0.646232</td>\n",
              "      <td id=\"T_59768_row10_col3\" class=\"data row10 col3\" >0.010639</td>\n",
              "      <td id=\"T_59768_row10_col4\" class=\"data row10 col4\" >11</td>\n",
              "    </tr>\n",
              "    <tr>\n",
              "      <th id=\"T_59768_level0_row11\" class=\"row_heading level0 row11\" >8</th>\n",
              "      <td id=\"T_59768_row11_col0\" class=\"data row11 col0\" >43</td>\n",
              "      <td id=\"T_59768_row11_col1\" class=\"data row11 col1\" >distance</td>\n",
              "      <td id=\"T_59768_row11_col2\" class=\"data row11 col2\" >0.646039</td>\n",
              "      <td id=\"T_59768_row11_col3\" class=\"data row11 col3\" >0.010406</td>\n",
              "      <td id=\"T_59768_row11_col4\" class=\"data row11 col4\" >12</td>\n",
              "    </tr>\n",
              "    <tr>\n",
              "      <th id=\"T_59768_level0_row12\" class=\"row_heading level0 row12\" >3</th>\n",
              "      <td id=\"T_59768_row12_col0\" class=\"data row12 col0\" >48</td>\n",
              "      <td id=\"T_59768_row12_col1\" class=\"data row12 col1\" >distance</td>\n",
              "      <td id=\"T_59768_row12_col2\" class=\"data row12 col2\" >0.644442</td>\n",
              "      <td id=\"T_59768_row12_col3\" class=\"data row12 col3\" >0.010086</td>\n",
              "      <td id=\"T_59768_row12_col4\" class=\"data row12 col4\" >13</td>\n",
              "    </tr>\n",
              "    <tr>\n",
              "      <th id=\"T_59768_level0_row13\" class=\"row_heading level0 row13\" >16</th>\n",
              "      <td id=\"T_59768_row13_col0\" class=\"data row13 col0\" >8</td>\n",
              "      <td id=\"T_59768_row13_col1\" class=\"data row13 col1\" >uniform</td>\n",
              "      <td id=\"T_59768_row13_col2\" class=\"data row13 col2\" >0.609230</td>\n",
              "      <td id=\"T_59768_row13_col3\" class=\"data row13 col3\" >0.014034</td>\n",
              "      <td id=\"T_59768_row13_col4\" class=\"data row13 col4\" >14</td>\n",
              "    </tr>\n",
              "    <tr>\n",
              "      <th id=\"T_59768_level0_row14\" class=\"row_heading level0 row14\" >18</th>\n",
              "      <td id=\"T_59768_row14_col0\" class=\"data row14 col0\" >16</td>\n",
              "      <td id=\"T_59768_row14_col1\" class=\"data row14 col1\" >uniform</td>\n",
              "      <td id=\"T_59768_row14_col2\" class=\"data row14 col2\" >0.607998</td>\n",
              "      <td id=\"T_59768_row14_col3\" class=\"data row14 col3\" >0.009535</td>\n",
              "      <td id=\"T_59768_row14_col4\" class=\"data row14 col4\" >15</td>\n",
              "    </tr>\n",
              "    <tr>\n",
              "      <th id=\"T_59768_level0_row15\" class=\"row_heading level0 row15\" >4</th>\n",
              "      <td id=\"T_59768_row15_col0\" class=\"data row15 col0\" >21</td>\n",
              "      <td id=\"T_59768_row15_col1\" class=\"data row15 col1\" >uniform</td>\n",
              "      <td id=\"T_59768_row15_col2\" class=\"data row15 col2\" >0.605179</td>\n",
              "      <td id=\"T_59768_row15_col3\" class=\"data row15 col3\" >0.009151</td>\n",
              "      <td id=\"T_59768_row15_col4\" class=\"data row15 col4\" >16</td>\n",
              "    </tr>\n",
              "    <tr>\n",
              "      <th id=\"T_59768_level0_row16\" class=\"row_heading level0 row16\" >6</th>\n",
              "      <td id=\"T_59768_row16_col0\" class=\"data row16 col0\" >22</td>\n",
              "      <td id=\"T_59768_row16_col1\" class=\"data row16 col1\" >uniform</td>\n",
              "      <td id=\"T_59768_row16_col2\" class=\"data row16 col2\" >0.604174</td>\n",
              "      <td id=\"T_59768_row16_col3\" class=\"data row16 col3\" >0.009021</td>\n",
              "      <td id=\"T_59768_row16_col4\" class=\"data row16 col4\" >17</td>\n",
              "    </tr>\n",
              "    <tr>\n",
              "      <th id=\"T_59768_level0_row17\" class=\"row_heading level0 row17\" >19</th>\n",
              "      <td id=\"T_59768_row17_col0\" class=\"data row17 col0\" >6</td>\n",
              "      <td id=\"T_59768_row17_col1\" class=\"data row17 col1\" >uniform</td>\n",
              "      <td id=\"T_59768_row17_col2\" class=\"data row17 col2\" >0.602946</td>\n",
              "      <td id=\"T_59768_row17_col3\" class=\"data row17 col3\" >0.016109</td>\n",
              "      <td id=\"T_59768_row17_col4\" class=\"data row17 col4\" >18</td>\n",
              "    </tr>\n",
              "    <tr>\n",
              "      <th id=\"T_59768_level0_row18\" class=\"row_heading level0 row18\" >13</th>\n",
              "      <td id=\"T_59768_row18_col0\" class=\"data row18 col0\" >34</td>\n",
              "      <td id=\"T_59768_row18_col1\" class=\"data row18 col1\" >uniform</td>\n",
              "      <td id=\"T_59768_row18_col2\" class=\"data row18 col2\" >0.597241</td>\n",
              "      <td id=\"T_59768_row18_col3\" class=\"data row18 col3\" >0.008115</td>\n",
              "      <td id=\"T_59768_row18_col4\" class=\"data row18 col4\" >19</td>\n",
              "    </tr>\n",
              "    <tr>\n",
              "      <th id=\"T_59768_level0_row19\" class=\"row_heading level0 row19\" >11</th>\n",
              "      <td id=\"T_59768_row19_col0\" class=\"data row19 col0\" >36</td>\n",
              "      <td id=\"T_59768_row19_col1\" class=\"data row19 col1\" >uniform</td>\n",
              "      <td id=\"T_59768_row19_col2\" class=\"data row19 col2\" >0.596246</td>\n",
              "      <td id=\"T_59768_row19_col3\" class=\"data row19 col3\" >0.007614</td>\n",
              "      <td id=\"T_59768_row19_col4\" class=\"data row19 col4\" >20</td>\n",
              "    </tr>\n",
              "  </tbody>\n",
              "</table>\n"
            ]
          },
          "metadata": {},
          "execution_count": 143
        }
      ]
    },
    {
      "cell_type": "markdown",
      "source": [
        "Сохраним нашу выборку для дальнейшей работы"
      ],
      "metadata": {
        "id": "Hi2TGSqav1TX"
      }
    },
    {
      "cell_type": "code",
      "source": [
        "DF_del_vibros.to_csv('/content/russia_real_estate_DF_del_vibros.csv',index=False)"
      ],
      "metadata": {
        "id": "8jD1h9eUv69D"
      },
      "execution_count": null,
      "outputs": []
    },
    {
      "cell_type": "code",
      "source": [
        "DF.to_csv('/content/russia_real_estate_DF.csv',index=False)"
      ],
      "metadata": {
        "id": "9OOLJ7I0x13G"
      },
      "execution_count": null,
      "outputs": []
    }
  ]
}