{
  "nbformat": 4,
  "nbformat_minor": 0,
  "metadata": {
    "colab": {
      "provenance": [],
      "gpuType": "T4",
      "collapsed_sections": [
        "vtbSDvIuKNl3"
      ]
    },
    "kernelspec": {
      "name": "python3",
      "display_name": "Python 3"
    },
    "language_info": {
      "name": "python"
    },
    "accelerator": "GPU",
    "gpuClass": "standard"
  },
  "cells": [
    {
      "cell_type": "markdown",
      "source": [
        "#Fashion MNIST competition"
      ],
      "metadata": {
        "id": "vtbSDvIuKNl3"
      }
    },
    {
      "cell_type": "markdown",
      "source": [
        "Коллаб подготовлен магистрантом 1 курса УрФУ Зайцевым Александром Васильевичем  \n",
        "Группа: РИМ-120962"
      ],
      "metadata": {
        "id": "TA0yCZA_KS8D"
      }
    },
    {
      "cell_type": "code",
      "execution_count": null,
      "metadata": {
        "colab": {
          "base_uri": "https://localhost:8080/"
        },
        "id": "fRTS7fapxEcB",
        "outputId": "4c69e035-9397-4791-f707-de13e84eea76"
      },
      "outputs": [
        {
          "output_type": "stream",
          "name": "stdout",
          "text": [
            "2.12.0\n"
          ]
        }
      ],
      "source": [
        "# TensorFlow and tf.keras\n",
        "import tensorflow as tf\n",
        "\n",
        "# Helper libraries\n",
        "import numpy as np\n",
        "import matplotlib.pyplot as plt\n",
        "import pandas as pd\n",
        "\n",
        "print(tf.__version__)"
      ]
    },
    {
      "cell_type": "code",
      "source": [
        "!pip install keract"
      ],
      "metadata": {
        "colab": {
          "base_uri": "https://localhost:8080/"
        },
        "id": "mggVPdlf65Sq",
        "outputId": "8d843b0e-843b-4393-c54e-7a4643477812"
      },
      "execution_count": null,
      "outputs": [
        {
          "output_type": "stream",
          "name": "stdout",
          "text": [
            "Looking in indexes: https://pypi.org/simple, https://us-python.pkg.dev/colab-wheels/public/simple/\n",
            "Requirement already satisfied: keract in /usr/local/lib/python3.10/dist-packages (4.5.1)\n"
          ]
        }
      ]
    },
    {
      "cell_type": "code",
      "source": [
        "import tensorflow\n",
        "from tensorflow.keras.datasets import mnist\n",
        "from tensorflow.keras.models import Sequential, load_model\n",
        "from tensorflow.keras.layers import Dense, Dropout, Flatten, Conv2D, MaxPooling2D\n",
        "from tensorflow.keras.utils import plot_model\n",
        "from tensorflow.keras import backend as K\n",
        "from tensorflow.keras import activations\n",
        "from keract import get_activations, display_activations\n",
        "import cv2"
      ],
      "metadata": {
        "id": "srQJAvYv6-cH"
      },
      "execution_count": null,
      "outputs": []
    },
    {
      "cell_type": "code",
      "source": [
        "# Различные константы\n",
        "IMG_WIDTH, IMG_HEIGHT = 28, 28\n",
        "BATCH_SIZE = 250\n",
        "EPOCHS = 15\n",
        "NUM_CLASSES = 10\n",
        "VALIDATION_SPLIT = 0.1\n",
        "VERBOSITY = 1"
      ],
      "metadata": {
        "id": "LqwxIRkk200K"
      },
      "execution_count": null,
      "outputs": []
    },
    {
      "cell_type": "code",
      "source": [
        "mnist_train = pd.read_csv('/content/drive/MyDrive/Colab Notebooks/fmnist_train.csv')\n",
        "mnist_test = pd.read_csv('/content/drive/MyDrive/Colab Notebooks/fmnist_test.csv')"
      ],
      "metadata": {
        "id": "7vaaLAEIyfZI"
      },
      "execution_count": null,
      "outputs": []
    },
    {
      "cell_type": "code",
      "source": [
        "count_nan = mnist_train.isna().sum().sum()\n",
        "count_nan"
      ],
      "metadata": {
        "colab": {
          "base_uri": "https://localhost:8080/"
        },
        "id": "xaJTBaW6t4nX",
        "outputId": "1b51e1f0-c31a-4fd4-e092-1c98d6a211d1"
      },
      "execution_count": null,
      "outputs": [
        {
          "output_type": "execute_result",
          "data": {
            "text/plain": [
              "424"
            ]
          },
          "metadata": {},
          "execution_count": 6
        }
      ]
    },
    {
      "cell_type": "code",
      "source": [
        "count_nan1 = mnist_test.isna().sum().sum()\n",
        "count_nan1"
      ],
      "metadata": {
        "colab": {
          "base_uri": "https://localhost:8080/"
        },
        "id": "6-dp6NSYuEVI",
        "outputId": "69f21941-65a1-48f8-dae9-32b6cb057d96"
      },
      "execution_count": null,
      "outputs": [
        {
          "output_type": "execute_result",
          "data": {
            "text/plain": [
              "0"
            ]
          },
          "metadata": {},
          "execution_count": 7
        }
      ]
    },
    {
      "cell_type": "code",
      "source": [
        "mnist_train = mnist_train.fillna(0)"
      ],
      "metadata": {
        "id": "pQfZfcPguXYW"
      },
      "execution_count": null,
      "outputs": []
    },
    {
      "cell_type": "code",
      "source": [
        "train_labels = mnist_train['label']\n",
        "train_labels.shape"
      ],
      "metadata": {
        "colab": {
          "base_uri": "https://localhost:8080/"
        },
        "id": "6HhcqCL7onXi",
        "outputId": "b463332b-63f7-453c-e083-527ef2cd59c7"
      },
      "execution_count": null,
      "outputs": [
        {
          "output_type": "execute_result",
          "data": {
            "text/plain": [
              "(17040,)"
            ]
          },
          "metadata": {},
          "execution_count": 9
        }
      ]
    },
    {
      "cell_type": "code",
      "source": [
        "mnist_train.shape"
      ],
      "metadata": {
        "colab": {
          "base_uri": "https://localhost:8080/"
        },
        "id": "PhDCE-85ybNt",
        "outputId": "2416b1db-3d93-474b-a4c8-e0f4e9242bf1"
      },
      "execution_count": null,
      "outputs": [
        {
          "output_type": "execute_result",
          "data": {
            "text/plain": [
              "(17040, 786)"
            ]
          },
          "metadata": {},
          "execution_count": 10
        }
      ]
    },
    {
      "cell_type": "code",
      "source": [
        "mnist_train = mnist_train.drop(columns = ['label', 'Id'], axis = 1)"
      ],
      "metadata": {
        "id": "daDsh_fHo0G7"
      },
      "execution_count": null,
      "outputs": []
    },
    {
      "cell_type": "code",
      "source": [
        "mnist_train = mnist_train.values"
      ],
      "metadata": {
        "id": "Zmu9epR5sml7"
      },
      "execution_count": null,
      "outputs": []
    },
    {
      "cell_type": "code",
      "source": [
        "mnist_train.shape"
      ],
      "metadata": {
        "colab": {
          "base_uri": "https://localhost:8080/"
        },
        "id": "4mAAJeCupOBt",
        "outputId": "e30a1fe6-40fb-436e-ced3-d778ecf534fc"
      },
      "execution_count": null,
      "outputs": [
        {
          "output_type": "execute_result",
          "data": {
            "text/plain": [
              "(17040, 784)"
            ]
          },
          "metadata": {},
          "execution_count": 13
        }
      ]
    },
    {
      "cell_type": "code",
      "source": [
        "mnist_test = mnist_test.drop(columns = ['Id'], axis = 1)"
      ],
      "metadata": {
        "id": "w_RgtuS_pQ0Q"
      },
      "execution_count": null,
      "outputs": []
    },
    {
      "cell_type": "code",
      "source": [
        "mnist_train[0].shape"
      ],
      "metadata": {
        "colab": {
          "base_uri": "https://localhost:8080/"
        },
        "id": "mg_cwW1v3Wwg",
        "outputId": "1a278c37-ead9-4511-c96c-7efac2036285"
      },
      "execution_count": null,
      "outputs": [
        {
          "output_type": "execute_result",
          "data": {
            "text/plain": [
              "(784,)"
            ]
          },
          "metadata": {},
          "execution_count": 15
        }
      ]
    },
    {
      "cell_type": "code",
      "source": [
        "mnist_train = mnist_train.reshape(17040, IMG_WIDTH, IMG_HEIGHT)"
      ],
      "metadata": {
        "id": "uol87edw3QgF"
      },
      "execution_count": null,
      "outputs": []
    },
    {
      "cell_type": "code",
      "source": [
        "mnist_train.shape"
      ],
      "metadata": {
        "colab": {
          "base_uri": "https://localhost:8080/"
        },
        "id": "UCWVyTKX4OnC",
        "outputId": "1d3851f6-f5a7-4b65-a5ad-4f666ccbaf4f"
      },
      "execution_count": null,
      "outputs": [
        {
          "output_type": "execute_result",
          "data": {
            "text/plain": [
              "(17040, 28, 28)"
            ]
          },
          "metadata": {},
          "execution_count": 17
        }
      ]
    },
    {
      "cell_type": "code",
      "source": [
        "mnist_test = mnist_test.values"
      ],
      "metadata": {
        "id": "omY_6xxe4na6"
      },
      "execution_count": null,
      "outputs": []
    },
    {
      "cell_type": "code",
      "source": [
        "mnist_test = mnist_test.reshape(10000, IMG_WIDTH, IMG_HEIGHT)"
      ],
      "metadata": {
        "id": "V0uWT6Vf4fZh"
      },
      "execution_count": null,
      "outputs": []
    },
    {
      "cell_type": "code",
      "source": [
        "mnist_test.shape"
      ],
      "metadata": {
        "colab": {
          "base_uri": "https://localhost:8080/"
        },
        "id": "66s_SHR04sVf",
        "outputId": "16441601-190b-4fae-c582-e2c6e4aad788"
      },
      "execution_count": null,
      "outputs": [
        {
          "output_type": "execute_result",
          "data": {
            "text/plain": [
              "(10000, 28, 28)"
            ]
          },
          "metadata": {},
          "execution_count": 20
        }
      ]
    },
    {
      "cell_type": "code",
      "source": [
        "# Подготавливаем данные.\n",
        "mnist_train = mnist_train.reshape(mnist_train.shape[0], IMG_WIDTH, IMG_HEIGHT, 1)\n",
        "mnist_test = mnist_test.reshape(mnist_test.shape[0], IMG_WIDTH, IMG_HEIGHT, 1)\n",
        "input_shape = (IMG_WIDTH, IMG_HEIGHT, 1)"
      ],
      "metadata": {
        "id": "Z9Tv2CC63FBo"
      },
      "execution_count": null,
      "outputs": []
    },
    {
      "cell_type": "code",
      "source": [
        "mnist_test.shape, mnist_train.shape, input_shape"
      ],
      "metadata": {
        "colab": {
          "base_uri": "https://localhost:8080/"
        },
        "id": "B5mv9cLRm6Ds",
        "outputId": "aa25100a-eb16-4c11-ea31-a41ba990c8d8"
      },
      "execution_count": null,
      "outputs": [
        {
          "output_type": "execute_result",
          "data": {
            "text/plain": [
              "((10000, 28, 28, 1), (17040, 28, 28, 1), (28, 28, 1))"
            ]
          },
          "metadata": {},
          "execution_count": 22
        }
      ]
    },
    {
      "cell_type": "code",
      "source": [
        "# Нормализуем данные (0-255 -> 0-1.0).\n",
        "mnist_train = mnist_train.astype('float32')\n",
        "mnist_test = mnist_test.astype('float32')\n",
        "mnist_train = mnist_train / 255\n",
        "mnist_test = mnist_test / 255"
      ],
      "metadata": {
        "id": "KdeGdtyd5B6a"
      },
      "execution_count": null,
      "outputs": []
    },
    {
      "cell_type": "code",
      "source": [
        "train_labels = train_labels.values\n",
        "train_labels"
      ],
      "metadata": {
        "colab": {
          "base_uri": "https://localhost:8080/"
        },
        "id": "P1L3PtZ-5-ZZ",
        "outputId": "80e2dc76-3b4d-4f2b-911d-6108b2c54c4a"
      },
      "execution_count": null,
      "outputs": [
        {
          "output_type": "execute_result",
          "data": {
            "text/plain": [
              "array([2, 9, 6, ..., 4, 6, 5])"
            ]
          },
          "metadata": {},
          "execution_count": 24
        }
      ]
    },
    {
      "cell_type": "code",
      "source": [
        "train_labels = tensorflow.keras.utils.to_categorical(train_labels, NUM_CLASSES)"
      ],
      "metadata": {
        "id": "uqCnFcrJlp6Z"
      },
      "execution_count": null,
      "outputs": []
    },
    {
      "cell_type": "code",
      "source": [
        "train_labels[0]"
      ],
      "metadata": {
        "colab": {
          "base_uri": "https://localhost:8080/"
        },
        "id": "AAcSAkcclzH0",
        "outputId": "7f783319-2475-40eb-e840-e4993c0764ac"
      },
      "execution_count": null,
      "outputs": [
        {
          "output_type": "execute_result",
          "data": {
            "text/plain": [
              "array([0., 0., 1., 0., 0., 0., 0., 0., 0., 0.], dtype=float32)"
            ]
          },
          "metadata": {},
          "execution_count": 26
        }
      ]
    },
    {
      "cell_type": "code",
      "source": [
        "class_names = ['T-shirt/top', 'Trouser', 'Pullover', 'Dress', 'Coat',\n",
        "               'Sandal', 'Shirt', 'Sneaker', 'Bag', 'Ankle boot']"
      ],
      "metadata": {
        "id": "2hWFL81zrp_F"
      },
      "execution_count": null,
      "outputs": []
    },
    {
      "cell_type": "markdown",
      "source": [
        "## Модель"
      ],
      "metadata": {
        "id": "GHfCrbaW6uo5"
      }
    },
    {
      "cell_type": "code",
      "source": [
        "model = Sequential()\n",
        "\n",
        "model.add(Conv2D(64, (5, 5),\n",
        "                      padding=\"same\",\n",
        "                      activation=\"relu\",\n",
        "                      input_shape=(28, 28, 1)))\n",
        "model.add(MaxPooling2D(pool_size=(2, 2)))\n",
        "model.add(Conv2D(128, (5, 5), padding=\"same\",\n",
        "                      activation=\"relu\"))\n",
        "model.add(MaxPooling2D(pool_size=(2, 2)))\n",
        "model.add(Conv2D(256, (5, 5), padding=\"same\",\n",
        "                      activation=\"relu\"))\n",
        "model.add(MaxPooling2D(pool_size=(2, 2)))\n",
        "model.add(Flatten())\n",
        "model.add(Dense(256, activation=\"relu\"))\n",
        "model.add(Dense(10, activation=\"softmax\"))"
      ],
      "metadata": {
        "id": "aH-UIQAiy48u"
      },
      "execution_count": null,
      "outputs": []
    },
    {
      "cell_type": "code",
      "source": [
        "# И обучаем её.\n",
        "model.compile(\n",
        "    loss=tensorflow.keras.losses.categorical_crossentropy,\n",
        "    optimizer=tensorflow.keras.optimizers.Adam(),\n",
        "    metrics=['accuracy']\n",
        ")\n",
        "\n",
        "# callback для сохранения результатов обучения в формате Keras (h5) после каждой эпохи обучения.\n",
        "callbacks = [\n",
        "    tensorflow.keras.callbacks.ModelCheckpoint(\"drive/MyDrive/3_classification_keras_mnist_deep_dive/cnn_mnist_classification_epochs/epoch_{epoch}.h5\")\n",
        "]\n",
        "\n",
        "model_history = model.fit(\n",
        "    mnist_train,\n",
        "    train_labels,\n",
        "    batch_size=BATCH_SIZE,\n",
        "    epochs=EPOCHS,\n",
        "    callbacks=callbacks,\n",
        "    verbose=VERBOSITY,\n",
        "    validation_split=VALIDATION_SPLIT\n",
        ")"
      ],
      "metadata": {
        "colab": {
          "base_uri": "https://localhost:8080/"
        },
        "id": "cWkeFOr07HLA",
        "outputId": "0886bdfe-aaa6-4a6c-db6b-cbe2d3e8099e"
      },
      "execution_count": null,
      "outputs": [
        {
          "output_type": "stream",
          "name": "stdout",
          "text": [
            "Epoch 1/15\n",
            "62/62 [==============================] - 10s 77ms/step - loss: 0.8312 - accuracy: 0.6922 - val_loss: 0.5429 - val_accuracy: 0.7964\n",
            "Epoch 2/15\n",
            "62/62 [==============================] - 3s 43ms/step - loss: 0.4634 - accuracy: 0.8264 - val_loss: 0.4397 - val_accuracy: 0.8445\n",
            "Epoch 3/15\n",
            "62/62 [==============================] - 3s 44ms/step - loss: 0.3679 - accuracy: 0.8652 - val_loss: 0.3701 - val_accuracy: 0.8621\n",
            "Epoch 4/15\n",
            "62/62 [==============================] - 3s 42ms/step - loss: 0.3189 - accuracy: 0.8833 - val_loss: 0.3611 - val_accuracy: 0.8750\n",
            "Epoch 5/15\n",
            "62/62 [==============================] - 3s 48ms/step - loss: 0.2814 - accuracy: 0.8946 - val_loss: 0.3037 - val_accuracy: 0.8879\n",
            "Epoch 6/15\n",
            "62/62 [==============================] - 3s 44ms/step - loss: 0.2435 - accuracy: 0.9106 - val_loss: 0.2994 - val_accuracy: 0.8873\n",
            "Epoch 7/15\n",
            "62/62 [==============================] - 3s 44ms/step - loss: 0.2225 - accuracy: 0.9171 - val_loss: 0.2980 - val_accuracy: 0.8944\n",
            "Epoch 8/15\n",
            "62/62 [==============================] - 2s 34ms/step - loss: 0.1940 - accuracy: 0.9305 - val_loss: 0.3009 - val_accuracy: 0.8932\n",
            "Epoch 9/15\n",
            "62/62 [==============================] - 2s 34ms/step - loss: 0.1744 - accuracy: 0.9364 - val_loss: 0.3236 - val_accuracy: 0.8891\n",
            "Epoch 10/15\n",
            "62/62 [==============================] - 2s 35ms/step - loss: 0.1532 - accuracy: 0.9443 - val_loss: 0.3119 - val_accuracy: 0.8850\n",
            "Epoch 11/15\n",
            "62/62 [==============================] - 2s 34ms/step - loss: 0.1345 - accuracy: 0.9508 - val_loss: 0.3435 - val_accuracy: 0.8762\n",
            "Epoch 12/15\n",
            "62/62 [==============================] - 2s 38ms/step - loss: 0.1192 - accuracy: 0.9574 - val_loss: 0.3006 - val_accuracy: 0.8996\n",
            "Epoch 13/15\n",
            "62/62 [==============================] - 2s 37ms/step - loss: 0.1003 - accuracy: 0.9638 - val_loss: 0.3425 - val_accuracy: 0.8938\n",
            "Epoch 14/15\n",
            "62/62 [==============================] - 2s 35ms/step - loss: 0.0902 - accuracy: 0.9677 - val_loss: 0.3550 - val_accuracy: 0.8891\n",
            "Epoch 15/15\n",
            "62/62 [==============================] - 2s 34ms/step - loss: 0.0717 - accuracy: 0.9752 - val_loss: 0.3471 - val_accuracy: 0.8926\n"
          ]
        }
      ]
    },
    {
      "cell_type": "code",
      "source": [
        "import matplotlib.pyplot as plt\n",
        "\n",
        "loss = model_history.history[\"loss\"]\n",
        "val_loss = model_history.history[\"val_loss\"]\n",
        "\n",
        "plt.figure()\n",
        "plt.plot(model_history.epoch, loss, \"r\", label=\"Обучение\")\n",
        "plt.plot(model_history.epoch, val_loss, \"b\", label=\"Валидация\")\n",
        "plt.title(\"Loss при обучении и валидации\")\n",
        "plt.xlabel(\"Эпоха\")\n",
        "plt.xticks(range(1, EPOCHS))\n",
        "plt.ylabel(\"Значение loss\")\n",
        "plt.ylim([0, 1])\n",
        "plt.legend()\n",
        "plt.show()"
      ],
      "metadata": {
        "colab": {
          "base_uri": "https://localhost:8080/",
          "height": 472
        },
        "id": "HkQ2i7mpm5rp",
        "outputId": "3e3d776f-d77a-4d50-f8b2-b8eac80263e6"
      },
      "execution_count": null,
      "outputs": [
        {
          "output_type": "display_data",
          "data": {
            "text/plain": [
              "<Figure size 640x480 with 1 Axes>"
            ],
            "image/png": "[encoded data removed]"
          },
          "metadata": {}
        }
      ]
    },
    {
      "cell_type": "code",
      "source": [
        "predictions = np.argmax(model.predict(mnist_test), axis=-1)"
      ],
      "metadata": {
        "colab": {
          "base_uri": "https://localhost:8080/"
        },
        "id": "KitgfACunqR7",
        "outputId": "4918c454-eefc-4579-c9ef-2af4e113cfbe"
      },
      "execution_count": null,
      "outputs": [
        {
          "output_type": "stream",
          "name": "stdout",
          "text": [
            "313/313 [==============================] - 1s 3ms/step\n"
          ]
        }
      ]
    },
    {
      "cell_type": "code",
      "source": [
        "predictions = pd.DataFrame(predictions)"
      ],
      "metadata": {
        "id": "7YRXiu-f19kk"
      },
      "execution_count": null,
      "outputs": []
    },
    {
      "cell_type": "code",
      "source": [
        "predictions['Id'] = predictions.reset_index()['index']"
      ],
      "metadata": {
        "id": "Pbz6TEhQQT9-"
      },
      "execution_count": null,
      "outputs": []
    },
    {
      "cell_type": "code",
      "source": [
        "predictions = predictions.rename(columns = {0:'Category'})"
      ],
      "metadata": {
        "id": "85ingeDdTGKy"
      },
      "execution_count": null,
      "outputs": []
    },
    {
      "cell_type": "code",
      "source": [
        "predictions = predictions.reindex(columns=['Id', 'Category'])"
      ],
      "metadata": {
        "id": "7N_UqiU1Y0c5"
      },
      "execution_count": null,
      "outputs": []
    },
    {
      "cell_type": "code",
      "source": [
        "predictions.to_csv(r' C:\\Пользователи\\lalok\\Ответ5.csv', index= False)"
      ],
      "metadata": {
        "id": "zTp-tPW82TSc"
      },
      "execution_count": null,
      "outputs": []
    },
    {
      "cell_type": "code",
      "source": [
        "predictions.head(20)"
      ],
      "metadata": {
        "colab": {
          "base_uri": "https://localhost:8080/",
          "height": 676
        },
        "id": "lAdti8MsCmLB",
        "outputId": "6105a0f8-28cb-47c1-ec13-4901d7159a73"
      },
      "execution_count": null,
      "outputs": [
        {
          "output_type": "execute_result",
          "data": {
            "text/plain": [
              "    Id  Category\n",
              "0    0         0\n",
              "1    1         1\n",
              "2    2         2\n",
              "3    3         6\n",
              "4    4         3\n",
              "5    5         6\n",
              "6    6         8\n",
              "7    7         4\n",
              "8    8         5\n",
              "9    9         0\n",
              "10  10         3\n",
              "11  11         2\n",
              "12  12         4\n",
              "13  13         6\n",
              "14  14         8\n",
              "15  15         5\n",
              "16  16         6\n",
              "17  17         3\n",
              "18  18         6\n",
              "19  19         4"
            ],
            "text/html": [
              "\n",
              "  <div id=\"df-8e91dcb3-a581-49c8-9217-968d2dd337a7\">\n",
              "    <div class=\"colab-df-container\">\n",
              "      <div>\n",
              "<style scoped>\n",
              "    .dataframe tbody tr th:only-of-type {\n",
              "        vertical-align: middle;\n",
              "    }\n",
              "\n",
              "    .dataframe tbody tr th {\n",
              "        vertical-align: top;\n",
              "    }\n",
              "\n",
              "    .dataframe thead th {\n",
              "        text-align: right;\n",
              "    }\n",
              "</style>\n",
              "<table border=\"1\" class=\"dataframe\">\n",
              "  <thead>\n",
              "    <tr style=\"text-align: right;\">\n",
              "      <th></th>\n",
              "      <th>Id</th>\n",
              "      <th>Category</th>\n",
              "    </tr>\n",
              "  </thead>\n",
              "  <tbody>\n",
              "    <tr>\n",
              "      <th>0</th>\n",
              "      <td>0</td>\n",
              "      <td>0</td>\n",
              "    </tr>\n",
              "    <tr>\n",
              "      <th>1</th>\n",
              "      <td>1</td>\n",
              "      <td>1</td>\n",
              "    </tr>\n",
              "    <tr>\n",
              "      <th>2</th>\n",
              "      <td>2</td>\n",
              "      <td>2</td>\n",
              "    </tr>\n",
              "    <tr>\n",
              "      <th>3</th>\n",
              "      <td>3</td>\n",
              "      <td>6</td>\n",
              "    </tr>\n",
              "    <tr>\n",
              "      <th>4</th>\n",
              "      <td>4</td>\n",
              "      <td>3</td>\n",
              "    </tr>\n",
              "    <tr>\n",
              "      <th>5</th>\n",
              "      <td>5</td>\n",
              "      <td>6</td>\n",
              "    </tr>\n",
              "    <tr>\n",
              "      <th>6</th>\n",
              "      <td>6</td>\n",
              "      <td>8</td>\n",
              "    </tr>\n",
              "    <tr>\n",
              "      <th>7</th>\n",
              "      <td>7</td>\n",
              "      <td>4</td>\n",
              "    </tr>\n",
              "    <tr>\n",
              "      <th>8</th>\n",
              "      <td>8</td>\n",
              "      <td>5</td>\n",
              "    </tr>\n",
              "    <tr>\n",
              "      <th>9</th>\n",
              "      <td>9</td>\n",
              "      <td>0</td>\n",
              "    </tr>\n",
              "    <tr>\n",
              "      <th>10</th>\n",
              "      <td>10</td>\n",
              "      <td>3</td>\n",
              "    </tr>\n",
              "    <tr>\n",
              "      <th>11</th>\n",
              "      <td>11</td>\n",
              "      <td>2</td>\n",
              "    </tr>\n",
              "    <tr>\n",
              "      <th>12</th>\n",
              "      <td>12</td>\n",
              "      <td>4</td>\n",
              "    </tr>\n",
              "    <tr>\n",
              "      <th>13</th>\n",
              "      <td>13</td>\n",
              "      <td>6</td>\n",
              "    </tr>\n",
              "    <tr>\n",
              "      <th>14</th>\n",
              "      <td>14</td>\n",
              "      <td>8</td>\n",
              "    </tr>\n",
              "    <tr>\n",
              "      <th>15</th>\n",
              "      <td>15</td>\n",
              "      <td>5</td>\n",
              "    </tr>\n",
              "    <tr>\n",
              "      <th>16</th>\n",
              "      <td>16</td>\n",
              "      <td>6</td>\n",
              "    </tr>\n",
              "    <tr>\n",
              "      <th>17</th>\n",
              "      <td>17</td>\n",
              "      <td>3</td>\n",
              "    </tr>\n",
              "    <tr>\n",
              "      <th>18</th>\n",
              "      <td>18</td>\n",
              "      <td>6</td>\n",
              "    </tr>\n",
              "    <tr>\n",
              "      <th>19</th>\n",
              "      <td>19</td>\n",
              "      <td>4</td>\n",
              "    </tr>\n",
              "  </tbody>\n",
              "</table>\n",
              "</div>\n",
              "      <button class=\"colab-df-convert\" onclick=\"convertToInteractive('df-8e91dcb3-a581-49c8-9217-968d2dd337a7')\"\n",
              "              title=\"Convert this dataframe to an interactive table.\"\n",
              "              style=\"display:none;\">\n",
              "        \n",
              "  <svg xmlns=\"http://www.w3.org/2000/svg\" height=\"24px\"viewBox=\"0 0 24 24\"\n",
              "       width=\"24px\">\n",
              "    <path d=\"M0 0h24v24H0V0z\" fill=\"none\"/>\n",
              "    <path d=\"M18.56 5.44l.94 2.06.94-2.06 2.06-.94-2.06-.94-.94-2.06-.94 2.06-2.06.94zm-11 1L8.5 8.5l.94-2.06 2.06-.94-2.06-.94L8.5 2.5l-.94 2.06-2.06.94zm10 10l.94 2.06.94-2.06 2.06-.94-2.06-.94-.94-2.06-.94 2.06-2.06.94z\"/><path d=\"M17.41 7.96l-1.37-1.37c-.4-.4-.92-.59-1.43-.59-.52 0-1.04.2-1.43.59L10.3 9.45l-7.72 7.72c-.78.78-.78 2.05 0 2.83L4 21.41c.39.39.9.59 1.41.59.51 0 1.02-.2 1.41-.59l7.78-7.78 2.81-2.81c.8-.78.8-2.07 0-2.86zM5.41 20L4 18.59l7.72-7.72 1.47 1.35L5.41 20z\"/>\n",
              "  </svg>\n",
              "      </button>\n",
              "      \n",
              "  <style>\n",
              "    .colab-df-container {\n",
              "      display:flex;\n",
              "      flex-wrap:wrap;\n",
              "      gap: 12px;\n",
              "    }\n",
              "\n",
              "    .colab-df-convert {\n",
              "      background-color: #E8F0FE;\n",
              "      border: none;\n",
              "      border-radius: 50%;\n",
              "      cursor: pointer;\n",
              "      display: none;\n",
              "      fill: #1967D2;\n",
              "      height: 32px;\n",
              "      padding: 0 0 0 0;\n",
              "      width: 32px;\n",
              "    }\n",
              "\n",
              "    .colab-df-convert:hover {\n",
              "      background-color: #E2EBFA;\n",
              "      box-shadow: 0px 1px 2px rgba(60, 64, 67, 0.3), 0px 1px 3px 1px rgba(60, 64, 67, 0.15);\n",
              "      fill: #174EA6;\n",
              "    }\n",
              "\n",
              "    [theme=dark] .colab-df-convert {\n",
              "      background-color: #3B4455;\n",
              "      fill: #D2E3FC;\n",
              "    }\n",
              "\n",
              "    [theme=dark] .colab-df-convert:hover {\n",
              "      background-color: #434B5C;\n",
              "      box-shadow: 0px 1px 3px 1px rgba(0, 0, 0, 0.15);\n",
              "      filter: drop-shadow(0px 1px 2px rgba(0, 0, 0, 0.3));\n",
              "      fill: #FFFFFF;\n",
              "    }\n",
              "  </style>\n",
              "\n",
              "      <script>\n",
              "        const buttonEl =\n",
              "          document.querySelector('#df-8e91dcb3-a581-49c8-9217-968d2dd337a7 button.colab-df-convert');\n",
              "        buttonEl.style.display =\n",
              "          google.colab.kernel.accessAllowed ? 'block' : 'none';\n",
              "\n",
              "        async function convertToInteractive(key) {\n",
              "          const element = document.querySelector('#df-8e91dcb3-a581-49c8-9217-968d2dd337a7');\n",
              "          const dataTable =\n",
              "            await google.colab.kernel.invokeFunction('convertToInteractive',\n",
              "                                                     [key], {});\n",
              "          if (!dataTable) return;\n",
              "\n",
              "          const docLinkHtml = 'Like what you see? Visit the ' +\n",
              "            '<a target=\"_blank\" href=https://colab.research.google.com/notebooks/data_table.ipynb>data table notebook</a>'\n",
              "            + ' to learn more about interactive tables.';\n",
              "          element.innerHTML = '';\n",
              "          dataTable['output_type'] = 'display_data';\n",
              "          await google.colab.output.renderOutput(dataTable, element);\n",
              "          const docLink = document.createElement('div');\n",
              "          docLink.innerHTML = docLinkHtml;\n",
              "          element.appendChild(docLink);\n",
              "        }\n",
              "      </script>\n",
              "    </div>\n",
              "  </div>\n",
              "  "
            ]
          },
          "metadata": {},
          "execution_count": 38
        }
      ]
    }
  ]
}